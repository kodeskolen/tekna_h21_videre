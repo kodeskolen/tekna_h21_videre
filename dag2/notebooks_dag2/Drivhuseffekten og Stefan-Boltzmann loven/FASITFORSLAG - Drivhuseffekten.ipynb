{
 "cells": [
  {
   "cell_type": "markdown",
   "id": "e7ce5de2",
   "metadata": {},
   "source": [
    "# Oppgavesamling: Global oppvarming\n",
    "\n",
    "## Sammendrag av live kode"
   ]
  },
  {
   "cell_type": "code",
   "execution_count": 3,
   "id": "608730f6",
   "metadata": {},
   "outputs": [],
   "source": [
    "from pylab import pi"
   ]
  },
  {
   "cell_type": "code",
   "execution_count": 4,
   "id": "f0e1f465",
   "metadata": {},
   "outputs": [],
   "source": [
    "def finn_effekt(temperatur, areal):\n",
    "    \"\"\"Bruker Stefan-Boltzmann loven for å regne ut utstrålt effekt av et svart legeme.\n",
    "    \"\"\"\n",
    "    sigma = 5.6704e-8  # W m^(-2) K^(-4)\n",
    "    return sigma * (temperatur**4) * areal\n",
    "\n",
    "def finn_temperatur(utstrålt_effekt, areal):\n",
    "    \"\"\"Bruker Stefan-Boltzmann loven for å regne ut temperaturen til et svart legeme basert på utstrålt effekt.\n",
    "    \"\"\"\n",
    "    sigma = 5.6704e-8  # W m^(-2) K^(-4)\n",
    "    temperatur_K = (utstrålt_effekt / (sigma*areal))**(1/4)\n",
    "    return temperatur_K - 273.15\n",
    "\n",
    "def finn_kuleskallareal(radius):\n",
    "    \"\"\"Regner ut arealet til et kuleskall med gitt radius.\n",
    "    \"\"\"\n",
    "    return 4*pi*radius*radius\n",
    "\n",
    "def finn_sirkelareal(radius):\n",
    "    \"\"\"Regner ut arealet til en sirkel med gitt radius\"\"\"\n",
    "    return pi*radius*radius"
   ]
  },
  {
   "cell_type": "code",
   "execution_count": 10,
   "id": "8da4172e",
   "metadata": {},
   "outputs": [],
   "source": [
    "soltemperatur = 5_778  # K\n",
    "solradius = 696_340_000  # m\n",
    "avstand_fra_jord_til_sol = 148_880_000_000  # m\n",
    "jordradius = 6_371_000\n",
    "albedo = 0.3\n",
    "\n",
    "solareal = finn_kuleskallareal(solradius)\n",
    "jordareal = finn_kuleskallareal(jordradius)\n",
    "sol_utstrålt_effekt = finn_effekt(soltemperatur, solareal)\n",
    "solkonstanten = sol_utstrålt_effekt / finn_kuleskallareal(avstand_fra_jord_til_sol)\n",
    "jord_tverrsnittsareal = finn_sirkelareal(jordradius)\n",
    "\n",
    "innstrålt_effekt_jord = jord_tverrsnittsareal * solkonstanten\n",
    "jord_utstrålt_effekt = (1 - albedo) * innstrålt_effekt_fra_sol\n",
    "jordtemperatur_C = finn_temperatur(jord_utstrålt_effekt, jordareal)"
   ]
  },
  {
   "cell_type": "code",
   "execution_count": 11,
   "id": "bbdb211a",
   "metadata": {},
   "outputs": [
    {
     "name": "stdout",
     "output_type": "stream",
     "text": [
      "Jordens temperatur er -17.57 grader Celsius.\n"
     ]
    }
   ],
   "source": [
    "print(f\"Jordens temperatur er {jordtemperatur_C:.2f} grader Celsius.\")"
   ]
  },
  {
   "cell_type": "markdown",
   "id": "9701a687",
   "metadata": {},
   "source": [
    "## BONUS: Visualisere albedoens effekt\n",
    "\n",
    "Her er litt kode for å visualisere effekten av albedo-verdier. Denne koden kan bli nyttig for noen av oppgavene."
   ]
  },
  {
   "cell_type": "code",
   "execution_count": 12,
   "id": "c20217f8",
   "metadata": {},
   "outputs": [
    {
     "data": {
      "image/png": "[encoded data removed]",
      "text/plain": [
       "<Figure size 432x288 with 1 Axes>"
      ]
     },
     "metadata": {
      "needs_background": "light"
     },
     "output_type": "display_data"
    }
   ],
   "source": [
    "from pylab import arange, plot, show, xlabel, ylabel, xlim, ylim\n",
    "\n",
    "# Lag en array med mulige albedo-verdier\n",
    "albedo_verdier = arange(0, 1.01, 0.01)\n",
    "\n",
    "# Regn ut jordtemperatur\n",
    "innstrålt_effekt = (1 - albedo_verdier) * innstrålt_effekt_fra_sol\n",
    "jordtemperatur = finn_temperatur(innstrålt_effekt, jordareal)\n",
    "\n",
    "# Lag plott\n",
    "plot(albedo_verdier, jordtemperatur)\n",
    "\n",
    "# Pynt på plott\n",
    "xlabel(r\"Jordens albedo ($\\alpha$)\")\n",
    "ylabel(r\"Jordens temperatur [$^\\circ C$]\")\n",
    "ylim(-300, 10)\n",
    "xlim(0, 1)\n",
    "\n",
    "# Vis frem plott\n",
    "show()"
   ]
  },
  {
   "cell_type": "markdown",
   "id": "cb21be5b",
   "metadata": {},
   "source": [
    "# Oppgaver"
   ]
  },
  {
   "cell_type": "markdown",
   "id": "963d57c0",
   "metadata": {},
   "source": [
    "### Oppgave 1\n",
    "\n",
    "Vi kan modellere drivhuseffekten på mange måter, men nå skal vi bruke en av de enkleste modellene. Vi modellerer atmosfæren som et speil som reflekterer deler av varmestrålingen fra jorden tilbake. Litt som på figuren under:\n",
    "<img src=\"bilder/energibudsjett_med_albedo_og_drivhuseffekt.png\" width=\"400px\">\n",
    "Vi ser nå at den totale innstrålte effekten, $\\text{P}_{\\text{inn}}$ til jorden blir\n",
    "\\begin{equation}\n",
    "\\text{P}_{\\text{inn}} = (1 - \\alpha)\\text{P}_{\\text{sol}} + \\text{P}_{\\text{reflektert}},\n",
    "\\end{equation}\n",
    "hvor $\\alpha$ er jordens albedo, $\\text{P}_{\\text{sol}}$ er innstrålt effekt fra solen og $\\text{P}_{\\text{reflektert}}$ er effekten reflektert fra atmosfæren. Fra jordens energibalanse vet vi og at innstrålt og utstrålt effekt fra jorden er den samme, altså har vi at\n",
    "\\begin{equation}\n",
    "\\text{P}_{\\text{inn}} = \\text{P}_{\\text{jord}}.\n",
    "\\end{equation}\n",
    "\n",
    "Den siste delen i puslespillet vårt er da hva den reflekterte effekten er. Vi vet at atmosfæren reflekterer en andel $r$ av jordens utstrålte effekt, som vil si at\n",
    "\\begin{equation}\n",
    "\\text{P}_{\\text{reflektert}} = r \\text{P}_{\\text{jord}}.\n",
    "\\end{equation}\n",
    "\n",
    "Ved å kombinere disse likningene får vi sammenhengen\n",
    "\\begin{equation}\n",
    "\\text{P}_{\\text{jord}} = \\frac{(1 - \\alpha) \\text{P}_{\\text{sol}}}{1 - r}.\n",
    "\\end{equation}\n",
    "\n",
    "\n",
    "#### Oppgave 1 a)\n",
    "Opprett en variabel `drivhuseffekt`. Denne skal representere $r$ i likningen over. Sett denne variabelen til en verdi mellom 0 og 1."
   ]
  },
  {
   "cell_type": "code",
   "execution_count": 13,
   "id": "e3d536e4",
   "metadata": {},
   "outputs": [],
   "source": [
    "drivhuseffekt = 0.5"
   ]
  },
  {
   "cell_type": "markdown",
   "id": "15fb60a8",
   "metadata": {},
   "source": [
    "\n",
    "#### Oppgave 1b)\n",
    "Opprett en variabel `utstrålt_effekt` som du setter lik $\\text{P}_{\\text{jord}}$ (**Hint:** Bruk likningen for $\\text{P}_{\\text{jord}}$ over med $\\alpha=0.3$ og $\\text{P}_{\\text{sol}}$ lik `innstrålt_effekt_fra_sol`-variabelen vi definerte tidligere)\n",
    "\n"
   ]
  },
  {
   "cell_type": "code",
   "execution_count": 14,
   "id": "2a719fd3",
   "metadata": {},
   "outputs": [],
   "source": [
    "a = 0.3\n",
    "utstrålt_effekt = ((1-a)*innstrålt_effekt_jord)/(1-drivhuseffekt)"
   ]
  },
  {
   "cell_type": "markdown",
   "id": "f8d1c2a1",
   "metadata": {},
   "source": [
    "#### Oppgave 1c)\n",
    "Regn ut jordtemperaturen i Celsius og lagre denne i en variabel `jordtemperatur`."
   ]
  },
  {
   "cell_type": "code",
   "execution_count": 15,
   "id": "8e436f99",
   "metadata": {},
   "outputs": [],
   "source": [
    "jordtemperatur = finn_temperatur(utstrålt_effekt, jordareal)"
   ]
  },
  {
   "cell_type": "markdown",
   "id": "2b3ef21f",
   "metadata": {},
   "source": [
    "#### Oppgave 1d)\n",
    "Prøv forskjellige verdier for `drivhuseffekt`. Gjennomsnittstemperaturen til jorden er ca 15 °C, hvilken verdi må `drivhuseffekt` ha for å ha denne temperaturen?"
   ]
  },
  {
   "cell_type": "markdown",
   "id": "17791223",
   "metadata": {},
   "source": [
    "Fasit: For at gjennomsnittstemperaturen til jorden skal være ca. 15 °C må drivhuseffekten være ca. 0.38. "
   ]
  },
  {
   "cell_type": "markdown",
   "id": "f70cc786",
   "metadata": {},
   "source": [
    "#### Oppgave 1e)\n",
    "Bytt ut `drivhuseffekt`-variabelen med en array `drivhuseffekt_verdier` som består av verdier fordelt mellom 0 og 1 med 0.01 mellom hver verdi. Bruk denne variabelen til å lage et plot med jordtemperaturen som funksjon av drivhuseffekten. La plottet ha x-verdier mellom 0 og 1 og y-verdier mellom -300 og 500. (**Hint:** Du kan bruke `xlim` og `ylim` for å endre område aksene viser)"
   ]
  },
  {
   "cell_type": "code",
   "execution_count": 17,
   "id": "a32a93c9",
   "metadata": {},
   "outputs": [
    {
     "name": "stderr",
     "output_type": "stream",
     "text": [
      "C:\\Users\\yngve\\AppData\\Local\\Temp/ipykernel_16332/688602475.py:2: RuntimeWarning: divide by zero encountered in true_divide\n",
      "  utstrålt_effekt = ((1-a)*innstrålt_effekt_jord)/(1-drivhuseffekt_verdier)\n"
     ]
    },
    {
     "data": {
      "image/png": "[encoded data removed]",
      "text/plain": [
       "<Figure size 432x288 with 1 Axes>"
      ]
     },
     "metadata": {
      "needs_background": "light"
     },
     "output_type": "display_data"
    }
   ],
   "source": [
    "drivhuseffekt_verdier = arange(0, 1.01, 0.01)\n",
    "utstrålt_effekt = ((1-a)*innstrålt_effekt_jord)/(1-drivhuseffekt_verdier)\n",
    "jordtemperatur = finn_temperatur(utstrålt_effekt, jordareal)\n",
    "plot(drivhuseffekt_verdier, jordtemperatur)\n",
    "xlabel(r\"Drivhuseffekt [$r$]\")\n",
    "ylabel(r\"Jordens temperatur [$^\\circ C$]\")\n",
    "xlim(0, 1)\n",
    "ylim(-273, 500)\n",
    "show()"
   ]
  },
  {
   "cell_type": "markdown",
   "id": "74147a2a",
   "metadata": {},
   "source": [
    "#### Oppgave 1f)\n",
    "Lag en funksjon `estimer_jordtemperatur(albedo, drivhuseffekt)` som tar inn jordens albedo, $\\alpha$, og andelen reflektert varmestråling fra atmosfæren, $r$, og returnerer den estimerte jordtemperaturen."
   ]
  },
  {
   "cell_type": "code",
   "execution_count": 18,
   "id": "610e5f94",
   "metadata": {},
   "outputs": [],
   "source": [
    "def estimer_jordtemperatur(albedo, drivhuseffekt):\n",
    "    utstrålt_effekt = ((1-albedo)*innstrålt_effekt_jord)/(1-drivhuseffekt)\n",
    "    return finn_temperatur(utstrålt_effekt, jordareal) "
   ]
  },
  {
   "cell_type": "markdown",
   "id": "02fa97d0",
   "metadata": {},
   "source": [
    "#### Oppgave 1g)\n",
    "Lag en funksjon `plott_jordtemperatur_mot_drivhuseffekt(albedo)` som tar inn jordens albedo, $\\alpha$, og lager et plott over jordents temperatur som funksjon av drivhuseffekten. La plottet ha x-verdier mellom 0 og 1 og y-verdier mellom -300 og 500. (**Hint:** Du kan la `drivhuseffekt`-parameteren til `estimer_jordtemperatur` være en array med verdier mellom 0 og 1.)"
   ]
  },
  {
   "cell_type": "code",
   "execution_count": 21,
   "id": "4360021b",
   "metadata": {},
   "outputs": [],
   "source": [
    "def plott_jordtemperatur_mot_drivhuseffekt(albedo): \n",
    "    drivhuseffekt_verdier = arange(0, 1.01, 0.01)\n",
    "    plot(drivhuseffekt_verdier, estimer_jordtemperatur(albedo, drivhuseffekt_verdier))\n",
    "    xlabel(r\"Drivhuseffekt ($r$)\")\n",
    "    ylabel(r\"Jordens temperatur [$^\\circ C$]\")\n",
    "    xlim(0, 1)\n",
    "    ylim(-300, 500)\n",
    "    show()"
   ]
  },
  {
   "cell_type": "markdown",
   "id": "306902b4",
   "metadata": {},
   "source": [
    "#### Oppgave 1h)\n",
    "Bruk `interact` fra `ipywidgets`-biblioteket for å lage et interaktivt program hvor jordens albedo velges med en glidebryter og basert på denne skal programmet vise frem et plott av jordtemperaturen som funksjon av drivhuseffekten.\n",
    "\n",
    "Hvordan endrer kurven seg når du drar i glidebryteren? Hva skjer om du setter albedoen til 1? Og hvorfor får kurva den formen når albedoen er 1? "
   ]
  },
  {
   "cell_type": "code",
   "execution_count": 22,
   "id": "2ceb3930",
   "metadata": {},
   "outputs": [
    {
     "data": {
      "application/vnd.jupyter.widget-view+json": {
       "model_id": "3c1bd9cf3d1940d981704736693bab8b",
       "version_major": 2,
       "version_minor": 0
      },
      "text/plain": [
       "interactive(children=(FloatSlider(value=0.5, description='albedo', max=1.0), Output()), _dom_classes=('widget-…"
      ]
     },
     "metadata": {},
     "output_type": "display_data"
    },
    {
     "data": {
      "text/plain": [
       "<function __main__.plott_jordtemperatur_mot_drivhuseffekt(albedo)>"
      ]
     },
     "execution_count": 22,
     "metadata": {},
     "output_type": "execute_result"
    }
   ],
   "source": [
    "from ipywidgets import interact\n",
    "\n",
    "interact(plott_jordtemperatur_mot_drivhuseffekt, albedo=(0., 1.))"
   ]
  },
  {
   "cell_type": "markdown",
   "id": "bc33b0e4",
   "metadata": {},
   "source": [
    "### Oppgave 2\n",
    "Wiens forskyvningslov sier at intensiteten til strålingen fra et svart legeme er maksimal ved den bølgelengden $\\lambda$ som tilfredsstiller ligningen \n",
    "$$\\lambda=\\frac{a}{T},$$\n",
    "der $a=2.898 \\cdot 10^{6} \\text{nm}\\cdot\\text{K}$, og $T$ er legemets temperatur i Kelvin.\n",
    "\n",
    "#### Oppgave 2a)\n",
    "Lag en funksjon `vanligste_bølgelengde(temperatur)` som tar inn temperaturen til et svart legeme og bruker Wiens forskyvningslov for å returnere bølgelengden med maksimal intensitet."
   ]
  },
  {
   "cell_type": "code",
   "execution_count": 23,
   "id": "3995cfc3",
   "metadata": {},
   "outputs": [],
   "source": [
    "def vanligste_bølgelengde(temperatur):\n",
    "    a = 2.898*10**6\n",
    "    return a/temperatur"
   ]
  },
  {
   "cell_type": "markdown",
   "id": "75587567",
   "metadata": {},
   "source": [
    "#### Oppgave 2b)\n",
    "Bruk funksjonen du lagde i 2a) for å regne ut den vanligste bølgelengden til solen og jorden. Tilsvarer noen av disse bølgelengdene synlig lys?"
   ]
  },
  {
   "cell_type": "code",
   "execution_count": 24,
   "id": "3728e46b",
   "metadata": {},
   "outputs": [
    {
     "name": "stdout",
     "output_type": "stream",
     "text": [
      "Den vanligste bølgelengden til solen er 501.55763239875387 nm.\n",
      "Den vanligste bølgelengden til jorden er 10062.5 nm.\n"
     ]
    }
   ],
   "source": [
    "print(f\"Den vanligste bølgelengden til solen er {vanligste_bølgelengde(soltemperatur)} nm.\")\n",
    "print(f\"Den vanligste bølgelengden til jorden er {vanligste_bølgelengde(288)} nm.\")"
   ]
  },
  {
   "cell_type": "code",
   "execution_count": null,
   "id": "c5250d05",
   "metadata": {},
   "outputs": [],
   "source": []
  }
 ],
 "metadata": {
  "kernelspec": {
   "display_name": "Python 3 (ipykernel)",
   "language": "python",
   "name": "python3"
  },
  "language_info": {
   "codemirror_mode": {
    "name": "ipython",
    "version": 3
   },
   "file_extension": ".py",
   "mimetype": "text/x-python",
   "name": "python",
   "nbconvert_exporter": "python",
   "pygments_lexer": "ipython3",
   "version": "3.9.2"
  }
 },
 "nbformat": 4,
 "nbformat_minor": 5
}
