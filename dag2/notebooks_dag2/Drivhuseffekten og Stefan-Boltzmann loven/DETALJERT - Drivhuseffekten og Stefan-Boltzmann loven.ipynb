{
 "cells": [
  {
   "cell_type": "markdown",
   "id": "77d6b4fa",
   "metadata": {},
   "source": [
    "# Klimamodeller og svarte legemer\n",
    "\n",
    "I denne notebooken skal vi se på hvordan vi kan lage enkle klimamodeller.\n",
    "\n",
    "<img src=\"bilder/klimamodell.png\" width=\"800px\">"
   ]
  },
  {
   "cell_type": "code",
   "execution_count": 1,
   "id": "7d9c1836",
   "metadata": {},
   "outputs": [],
   "source": [
    "from pylab import pi"
   ]
  },
  {
   "cell_type": "markdown",
   "id": "fb3a57dd",
   "metadata": {},
   "source": [
    "## Stefan-Boltzmann loven\n",
    "\n",
    "Et hvert svart legeme utstråler lys (elektromagnetisk stråling) basert på sin temperatur. Dette fenomenet brukes mye i astrofysikk, blant annet for å regne ut hvor mye energi som stråles ut av en stjerne, men og i klimafysikk, for å regne ut temperaturen til jorden.\n",
    "\n",
    "I dette opplegget vil vi se litt på hvordan Stefan-Boltzmann loven kan brukes for å modellere jordens energibalanse, og hvordan den kan brukes for å estimere jordens temperatur. Vi starter med å repetere Stefan-Boltzmann loven for svart-legeme stråling. Stefan-Boltzmann loven sier at et svart legeme med temperatur $T$ og areal $A$ vil utstråle elektromagnetisk stråling med en effekt:\n",
    "\n",
    "$$ \\text{P}_{\\text{legeme}} = \\sigma T^4 A, $$\n",
    "\n",
    "hvor $\\sigma = 5.6704 \\times 10^{-8}~\\text{Wm}^{-2}\\text{K}^{-4}$ er Stefan-Boltzmann konstanten."
   ]
  },
  {
   "cell_type": "code",
   "execution_count": 2,
   "id": "f0e1f465",
   "metadata": {},
   "outputs": [],
   "source": [
    "def finn_effekt(temperatur, areal):\n",
    "    \"\"\"Bruker Stefan-Boltzmann loven for å regne ut utstrålt effekt av et svart legeme.\n",
    "    \"\"\"\n",
    "    sigma = 5.6704e-8  # W m^(-2) K^(-4)\n",
    "    return sigma * (temperatur**4) * areal"
   ]
  },
  {
   "cell_type": "markdown",
   "id": "945df700",
   "metadata": {},
   "source": [
    "## Solens utstrålte effekt\n",
    "Vi vil nå regne ut effekten til solen. For å gjøre det, trenger vi to størrelser: soltemperaturen, gitt ved $T_{\\text{sol}}$ og solens overflateareal, $A_{\\text{sol}}$.\n",
    "\n",
    "For å regne ut solens overflateareal bruker vi arealformelen:\n",
    "$$A_{\\text{sol}} = 4 \\pi r_{\\text{sol}}^2,$$\n",
    "hvor $r_{\\text{sol}}$ er radiusen til solen."
   ]
  },
  {
   "cell_type": "code",
   "execution_count": 3,
   "id": "98b6e714",
   "metadata": {},
   "outputs": [],
   "source": [
    "def finn_kuleskallareal(radius):\n",
    "    \"\"\"Regner ut arealet til et kuleskall med gitt radius.\n",
    "    \"\"\"\n",
    "    return 4*pi*radius*radius"
   ]
  },
  {
   "cell_type": "code",
   "execution_count": 4,
   "id": "8da4172e",
   "metadata": {},
   "outputs": [],
   "source": [
    "soltemperatur = 5_778  # K\n",
    "solradius = 696_340_000  # m\n",
    "solareal = finn_kuleskallareal(solradius)"
   ]
  },
  {
   "cell_type": "markdown",
   "id": "642aa03c",
   "metadata": {},
   "source": [
    "Basert på disse størrelsene kan vi nå bruke Stefan-Boltzmann loven til å regne ut soleffekten."
   ]
  },
  {
   "cell_type": "code",
   "execution_count": 5,
   "id": "1ec3e4d0",
   "metadata": {},
   "outputs": [
    {
     "name": "stdout",
     "output_type": "stream",
     "text": [
      "Solen stråler ut 385102551667083037049356288 W.\n"
     ]
    }
   ],
   "source": [
    "sol_utstrålt_effekt = finn_effekt(soltemperatur, solareal)\n",
    "\n",
    "print(f\"Solen stråler ut {sol_utstrålt_effekt:.0f} W.\")"
   ]
  },
  {
   "cell_type": "markdown",
   "id": "cfb7385c",
   "metadata": {},
   "source": [
    "Vi kan forbedre utskriften ved å bruke vitenskapelig notasjon:"
   ]
  },
  {
   "cell_type": "code",
   "execution_count": 6,
   "id": "a36de4f0",
   "metadata": {},
   "outputs": [
    {
     "name": "stdout",
     "output_type": "stream",
     "text": [
      "Solen stråler ut 3.85E+26 W.\n"
     ]
    }
   ],
   "source": [
    "sol_utstrålt_effekt = finn_effekt(soltemperatur, solareal)\n",
    "\n",
    "print(f\"Solen stråler ut {sol_utstrålt_effekt:.2E} W.\")"
   ]
  },
  {
   "cell_type": "markdown",
   "id": "5014c5be",
   "metadata": {},
   "source": [
    "## Solkonstanten: solens flukstetthet ved jorden"
   ]
  },
  {
   "cell_type": "markdown",
   "id": "f51f1a04",
   "metadata": {},
   "source": [
    "Nå skal vi regne ut hvor mye av solens utstrålte effekt som treffer jorden, $G_{SC}$. For å regne ut det, må vi først regne ut flukstettheten ved jorden. Det gjør vi ved å dele solens utstrålte effekt på arealet til et kuleskall med radius lik avstanden fra solen til jorden. Avstanden fra solen til jorden er $148~880~000~km$, eller $148~880~000~000~m$.\n",
    "\n",
    "Solens flukstetthet ved jordoverflaten kalles ofte for *solkonstanten* og brukes blant annet for å regne ut hvor mye strøm et solcellekraftverk kan produsere."
   ]
  },
  {
   "cell_type": "code",
   "execution_count": 7,
   "id": "21eebbe1",
   "metadata": {},
   "outputs": [],
   "source": [
    "avstand_fra_jord_til_sol = 148_880_000_000  # m"
   ]
  },
  {
   "cell_type": "code",
   "execution_count": 8,
   "id": "4e2ea4a4",
   "metadata": {},
   "outputs": [],
   "source": [
    "solkonstanten = sol_utstrålt_effekt / finn_kuleskallareal(avstand_fra_jord_til_sol)"
   ]
  },
  {
   "cell_type": "code",
   "execution_count": 9,
   "id": "49c3a361",
   "metadata": {},
   "outputs": [
    {
     "name": "stdout",
     "output_type": "stream",
     "text": [
      "Vårt estimat av solkonstanten er 1382.59\n"
     ]
    }
   ],
   "source": [
    "print(f\"Vårt estimat av solkonstanten er {solkonstanten:.2f}\")"
   ]
  },
  {
   "cell_type": "markdown",
   "id": "37012a96",
   "metadata": {},
   "source": [
    "Solkonstantens faktiske verdi er mellom 1361 og 1367, avhengig av hvordan den måles. \n",
    "\n",
    "**Spørsmål til refleksjon:** Hva kan være noen mulige årsaker til vårt overestimat?\n",
    "\n",
    "**Mulige svar:**\n",
    "\n",
    " * Solens temperatur eller avstand er ikke nøyaktig målt\n",
    " * Noe av energien blir absorbert mellom solen og jorden\n",
    " * Jorden følger ikke en sirkulær bane med solen i sentrum\n",
    " "
   ]
  },
  {
   "cell_type": "markdown",
   "id": "543e5c68",
   "metadata": {},
   "source": [
    "## Jordens innstrålte effekt\n",
    "\n",
    "Vi vil regne ut jordens temperatur, og for å gjøre det må vi se hvor mye av solens lys som treffer jorden. Og for å finne det må vi bruke formellen\n",
    "$$P_{\\text{sol}} = G_{SC} A_{\\text{tverrsnitt}},$$\n",
    "hvor $G_{SC}$ er solkonstanten vi regnet ut over og $A_{\\text{tverrsnitt}}$ er jordens *tverrsnittsareal*. Altså arealet til en sirkel med radius gitt ved jordradiusen.\n",
    "\n",
    "Grunnen til at vi bruker jordens tverrsnittsareal er at solen er så langt unna jorden at lysbølgene er nesten parallelle. Derfor vil mindre lys treffe jordoverflaten ved polene enn ved ekvator. Hvis vi tar hensyn til det vil det kun være jordens tverrsnittsareal som vi må regne med. Figuren under demonstrerer dette fenomenet.\n",
    "<img src=\"bilder/belysningsareal.png\" width=\"200px\">\n",
    "Den bestrålte sirkelen har lik flukstetthet, og den \"brettes\" over jorden for å finne den nøyaktige innstrålte effekten på et gitt område. Hvis vi kun er interessert i total innstrålt effekt kan vi se vekk fra denne \"brettingen\" og bare regne med tverrsnittsarealet med konstant flukstetthet."
   ]
  },
  {
   "cell_type": "code",
   "execution_count": 10,
   "id": "e5b66535",
   "metadata": {},
   "outputs": [],
   "source": [
    "def finn_sirkelareal(radius):\n",
    "    \"\"\"Regner ut arealet til en sirkel med gitt radius\"\"\"\n",
    "    return pi*radius*radius"
   ]
  },
  {
   "cell_type": "code",
   "execution_count": 11,
   "id": "550ba0ab",
   "metadata": {},
   "outputs": [],
   "source": [
    "jordradius = 6_371_000\n",
    "jord_tverrsnittsareal = finn_sirkelareal(jordradius)"
   ]
  },
  {
   "cell_type": "code",
   "execution_count": 12,
   "id": "fd75cd4f",
   "metadata": {},
   "outputs": [],
   "source": [
    "innstrålt_effekt_jord = jord_tverrsnittsareal * solkonstanten"
   ]
  },
  {
   "cell_type": "code",
   "execution_count": 13,
   "id": "e5ed2f86",
   "metadata": {},
   "outputs": [
    {
     "name": "stdout",
     "output_type": "stream",
     "text": [
      "Den totale innstrålte effekten fra solen er 1.76E+17 W\n"
     ]
    }
   ],
   "source": [
    "print(f\"Den totale innstrålte effekten fra solen er {innstrålt_effekt_jord:.2E} W\")"
   ]
  },
  {
   "cell_type": "markdown",
   "id": "553588a9",
   "metadata": {},
   "source": [
    "## Energibalanse, jordtemperatur og Stefan-Boltzmann loven\n",
    "\n",
    "Nå skal vi regne ut jordens gjennomsnittstemperatur. For å gjøre det setter vi opp et energibudsjett, hvor den totale innstrålte effekten er lik den utstrålte effekten:\n",
    "$$\\text{Innstrålt effekt} = \\text{Utstrålt effekt}.$$\n",
    "Hvis energibudsjettet over er oppfylt, vil jordens temperatur forbli konstant, hvis innstrålt effekt er mindre enn utstrålt effekt vil temperaturen synke, og hvis utstrålt effekt er mindre enn innstrålt effekt vil temperaturen øke. I disse beregningene antar vi at jorden er i balanse, og at budjsettet dermed går opp.\n",
    "\n",
    "Neste spørsmål er hvor den utstrålte effekten kommer fra. Vel, vi kan anta at jorden er et svart legeme, og dermed vil den utstrålte effekten komme i form av svart legeme stråling. Vi kan dermed sette opp energibudjsettet:\n",
    "$$\\text{P}_{\\text{sol}} = \\text{P}_{\\text{jord}},$$\n",
    "hvor $\\text{P}_{\\text{sol}}$ er den totale innstrålte effekten fra solen, som vi regnet ut over. Dette energibudsjettet er visualisert i figuren under.\n",
    "<img src=\"bilder/energibudsjett.png\" width=\"400px\">"
   ]
  },
  {
   "cell_type": "markdown",
   "id": "f0793b6a",
   "metadata": {},
   "source": [
    "Neste steg er å regne ut jordens temperatur, for å gjøre dette bruker vi Stefan-Boltzmann loven, som sier at\n",
    "$$\\text{P}_{\\text{jord}} = \\sigma T_{\\text{jord}}^4 A.$$\n",
    "Hvis vi løser denne likningen med hensyn på jordtemperaturen, $T_{\\text{jord}}$, får vi\n",
    "$$T_{\\text{jord}} = \\left(\\frac{\\text{P}_{\\text{jord}}}{\\sigma A}\\right)^{\\frac{1}{4}}.$$\n",
    "La oss bruke denne sammenhengen for å regne ut jordens temperatur i Kelvin."
   ]
  },
  {
   "cell_type": "code",
   "execution_count": 14,
   "id": "8ab99cff",
   "metadata": {},
   "outputs": [],
   "source": [
    "def finn_temperatur(utstrålt_effekt, areal):\n",
    "    \"\"\"Bruker Stefan-Boltzmann loven for å regne ut temperaturen til et svart legeme basert på utstrålt effekt.\n",
    "    \"\"\"\n",
    "    sigma = 5.6704e-8  # W m^(-2) K^(-4)\n",
    "    temperatur_K = (utstrålt_effekt / (sigma*areal))**(1/4)\n",
    "    return temperatur_K - 273.15"
   ]
  },
  {
   "cell_type": "code",
   "execution_count": 15,
   "id": "ce614118",
   "metadata": {},
   "outputs": [],
   "source": [
    "jordareal = finn_kuleskallareal(jordradius)\n",
    "jordtemperatur = finn_temperatur(innstrålt_effekt_jord, jordareal)"
   ]
  },
  {
   "cell_type": "code",
   "execution_count": 16,
   "id": "e8595dd7",
   "metadata": {},
   "outputs": [
    {
     "name": "stdout",
     "output_type": "stream",
     "text": [
      "Jordens temperatur er 6.27 grader Celsius.\n"
     ]
    }
   ],
   "source": [
    "print(f\"Jordens temperatur er {jordtemperatur:.2f} grader Celsius.\")"
   ]
  },
  {
   "cell_type": "markdown",
   "id": "890f23aa",
   "metadata": {},
   "source": [
    "Vi får altså at jordtemperaturen er 6.3 grader. Ikke verst!"
   ]
  },
  {
   "cell_type": "markdown",
   "id": "fbeb2c33",
   "metadata": {},
   "source": [
    "## Skyene reflekterer solen før den treffer jorden\n",
    "Vårt foreløpige estimat baserer seg på en jord som er et svart legeme. Men jorden reflekterer jo deler av sollyset. Faktisk reflekterer skyer, isbreer og havet omtrent 30% av alt sollys. Vi må altså forbedre modellen vår.\n",
    "\n",
    "Måten vi tar hensyn til reflektert lys er med en konstant som heter *albedo*. Albedoen er et tall mellom 0 og 1 måler hvor stor andel av lyset som blir reflektert. Siden omtrent 30% av alt sollys blir reflektert blir albedoen lik 0.3.\n",
    "\n",
    "Hvis vi setter opp energibalansen på nytt får vi\n",
    "$$(1 - \\alpha) \\text{P}_{\\text{sol}} = \\text{P}_{\\text{jord}},$$\n",
    "hvor $\\alpha$ er jordens albedo, $\\text{P}_{\\text{sol}}$ er solkonstanten og $\\text{P}_{\\text{jord}}$ er jordens utstrålte effekt. Dette energibudsjettet er visualisert i figuren under.\n",
    "<img src=\"bilder/energibudsjett_med_albedo.png\" width=\"400px\">"
   ]
  },
  {
   "cell_type": "code",
   "execution_count": 17,
   "id": "54dc6d0f",
   "metadata": {},
   "outputs": [],
   "source": [
    "albedo = 0.3\n",
    "utstrålt_effekt = (1 - albedo) * innstrålt_effekt_jord\n",
    "jordtemperatur_C = finn_temperatur(utstrålt_effekt, jordareal)"
   ]
  },
  {
   "cell_type": "code",
   "execution_count": 18,
   "id": "bbdb211a",
   "metadata": {},
   "outputs": [
    {
     "name": "stdout",
     "output_type": "stream",
     "text": [
      "Jordens temperatur er -17.57 grader Celsius.\n"
     ]
    }
   ],
   "source": [
    "print(f\"Jordens temperatur er {jordtemperatur_C:.2f} grader Celsius.\")"
   ]
  },
  {
   "cell_type": "markdown",
   "id": "1ce7b4b0",
   "metadata": {},
   "source": [
    "Våre foreløpige beregninger av jordtemperaturen er på ca -15 °C, altså omtrent 30 °C mindre (omtrent 10% feil om vi regner i Kelvin) enn det gjennomsnittstemperaturen faktisk er. Hva skyldes denne feilen? Vel den viktigste parameteren vi mangler er drivhuseffekten!"
   ]
  },
  {
   "cell_type": "markdown",
   "id": "9701a687",
   "metadata": {},
   "source": [
    "## Visualisere albedoens effekt\n",
    "Vi ser at jordens albedo senker jordtemperaturen med omtrent 10 °C. Men hvor sensitiv er egentlig jordtemperaturen til en endring i albedo? For å finne ut det kan vi lage et plot!"
   ]
  },
  {
   "cell_type": "code",
   "execution_count": 19,
   "id": "bd5f7562",
   "metadata": {},
   "outputs": [],
   "source": [
    "from pylab import linspace, plot, show, xlabel, ylabel, xlim, ylim"
   ]
  },
  {
   "cell_type": "code",
   "execution_count": 20,
   "id": "c20217f8",
   "metadata": {},
   "outputs": [
    {
     "data": {
      "image/png": "[encoded data removed]",
      "text/plain": [
       "<Figure size 432x288 with 1 Axes>"
      ]
     },
     "metadata": {
      "needs_background": "light"
     },
     "output_type": "display_data"
    }
   ],
   "source": [
    "albedo_verdier = linspace(0, 1, 100)\n",
    "innstrålt_effekt = (1 - albedo_verdier) * innstrålt_effekt_jord\n",
    "jordtemperatur = finn_temperatur(innstrålt_effekt, jordareal)\n",
    "plot(albedo_verdier, jordtemperatur)\n",
    "xlabel(r\"Jordens albedo ($\\alpha$)\")\n",
    "ylabel(r\"Jordens temperatur [$^\\circ C$]\")\n",
    "ylim(-300, 10)\n",
    "xlim(0, 1)\n",
    "show()"
   ]
  }
 ],
 "metadata": {
  "kernelspec": {
   "display_name": "Python 3 (ipykernel)",
   "language": "python",
   "name": "python3"
  },
  "language_info": {
   "codemirror_mode": {
    "name": "ipython",
    "version": 3
   },
   "file_extension": ".py",
   "mimetype": "text/x-python",
   "name": "python",
   "nbconvert_exporter": "python",
   "pygments_lexer": "ipython3",
   "version": "3.9.2"
  }
 },
 "nbformat": 4,
 "nbformat_minor": 5
}
