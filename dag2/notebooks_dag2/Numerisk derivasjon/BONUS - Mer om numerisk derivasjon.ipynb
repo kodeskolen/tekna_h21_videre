{
 "cells": [
  {
   "cell_type": "markdown",
   "metadata": {},
   "source": [
    "# Mer om numerisk derivasjon\n",
    "\n",
    "Når vi bruker sensorer, så er det ikke alltid slik at alle målingene har like lang tid mellom seg. La oss derfor finne ut hvordan vi deriverer et slikt signal numerisk."
   ]
  },
  {
   "cell_type": "code",
   "execution_count": 1,
   "metadata": {},
   "outputs": [],
   "source": [
    "from pylab import arange, sin, plot, show"
   ]
  },
  {
   "cell_type": "markdown",
   "metadata": {},
   "source": [
    "Den originale derivasjonsfunksjonen vår så slik ut:"
   ]
  },
  {
   "cell_type": "code",
   "execution_count": 2,
   "metadata": {},
   "outputs": [],
   "source": [
    "def deriver(avstandsmålinger, dt):\n",
    "    antall_målinger = len(avstandsmålinger)\n",
    "    fart = zeros(antall_målinger-1)\n",
    "    \n",
    "    for t in range(antall_målinger-1):\n",
    "        fart[t] = (avstandsmålinger[t+1] - avstandsmålinger[t])/dt\n",
    "        \n",
    "    return fart"
   ]
  },
  {
   "cell_type": "markdown",
   "metadata": {},
   "source": [
    "men hvis det er ulik tid mellom hver måling, så har vi jo ikke en konstant tidsendring. La oss derfor modifisere `deriver`-funksjonen vår slik at den tar inn en tids-array og og deler på tindsendringen i tillegg til avstandsendringen!"
   ]
  },
  {
   "cell_type": "code",
   "execution_count": 3,
   "metadata": {},
   "outputs": [],
   "source": [
    "def deriver_ulik_tidsmellomrom(tidspunkt, avstandsmålinger):\n",
    "    antall_målinger = len(avstandsmålinger)\n",
    "    fart = zeros(antall_målinger-1)\n",
    "    \n",
    "    for t in range(antall_målinger-1):\n",
    "        dt = tidspunkt[t+1] - tidspunkt[t]\n",
    "        fart[t] = (avstandsmålinger[t+1] - avstandsmålinger[t])/dt\n",
    "        \n",
    "    return fart"
   ]
  },
  {
   "cell_type": "markdown",
   "metadata": {},
   "source": [
    "Her ser vi at den eneste endringen her er at vi tar inn en array med tidspunkt for målingene og regner ut tidsendringen manuelt for hver farts-utregning."
   ]
  },
  {
   "cell_type": "markdown",
   "metadata": {},
   "source": [
    "## Raskere derivasjon\n",
    "\n",
    "Et annet problem med derivasjonskoden vår er at den er treg. Hvis vi bare bruker den for å derivere matematiske funksjoner går det greit, men hvis vi f.eks. vil finne kanter i bilder fra et web-camera, så må vi har raskere kode. Dette kan vi få til med å bruke det som heter for *array slicing*, eller array-skjæring på norsk. Grunnen til at det har det navnet er at vi \"skjærer ut\" deler av en array som vi bruker videre. La oss se på et eksempel først før vi bruker det for å derivere raskt.\n",
    "\n",
    "Vi starter med en tallrekke:"
   ]
  },
  {
   "cell_type": "code",
   "execution_count": 4,
   "metadata": {},
   "outputs": [
    {
     "name": "stdout",
     "output_type": "stream",
     "text": [
      "[0.  0.1 0.2 0.3 0.4 0.5 0.6 0.7 0.8 0.9]\n"
     ]
    }
   ],
   "source": [
    "tallrekke = arange(0, 1, 0.1)\n",
    "\n",
    "print(tallrekke)"
   ]
  },
  {
   "cell_type": "markdown",
   "metadata": {},
   "source": [
    "Så vil vi hente ut element med index 3, 4 og 5. Da kan vi skrive dette"
   ]
  },
  {
   "cell_type": "code",
   "execution_count": 5,
   "metadata": {},
   "outputs": [
    {
     "name": "stdout",
     "output_type": "stream",
     "text": [
      "[0.3 0.4 0.5]\n"
     ]
    }
   ],
   "source": [
    "delrekke = tallrekke[3:6]\n",
    "\n",
    "print(delrekke)"
   ]
  },
  {
   "cell_type": "markdown",
   "metadata": {},
   "source": [
    "Her ser vi altså elementene med indeks 3, 4 og 5. Hva skjedde her egentlig? Vel linja `delrekke = tallrekke[3:6]` sier at vi skal skjære ut den delen av `tallrekke`-variabelen som har indeks mellom 3 og 6. Siden Python teller fra og med til til, men ikke med, så får vi altså den delen av `tallrekke`-variabelen som har indeks 3, 4 og 5.\n",
    "\n",
    "La oss nå se hvordan vi kan bruke slik slicing for å hente ut alle tall fra en tallrekke untatt det første:"
   ]
  },
  {
   "cell_type": "code",
   "execution_count": 6,
   "metadata": {},
   "outputs": [
    {
     "name": "stdout",
     "output_type": "stream",
     "text": [
      "[0.1 0.2 0.3 0.4 0.5 0.6 0.7 0.8 0.9]\n"
     ]
    }
   ],
   "source": [
    "delrekke_uten_første_tall = tallrekke[1:]\n",
    "\n",
    "print(delrekke_uten_første_tall)"
   ]
  },
  {
   "cell_type": "markdown",
   "metadata": {},
   "source": [
    "Koden over lagde altså en ny array som har alle tallene unntatt det første. Måten det skjedde på var at vi skrev `tallrekke[1:]`. Den kodesnutten betyr at vi skal ta ut alle tall fra `tallrekke`-variabelen som har indeks fra og med 1, siden vi ikke har noe etter kolonet sier vi ikke hva den skal gå til, og derfor får vi resten av tallrekka.\n",
    "\n",
    "Neste steg er å hente ut alle tall fra tallrekka unntatt det siste."
   ]
  },
  {
   "cell_type": "code",
   "execution_count": 7,
   "metadata": {},
   "outputs": [
    {
     "name": "stdout",
     "output_type": "stream",
     "text": [
      "[0.  0.1 0.2 0.3 0.4 0.5 0.6 0.7 0.8]\n"
     ]
    }
   ],
   "source": [
    "antall_tall = len(tallrekke)\n",
    "delrekke_uten_siste_tall = tallrekke[:antall_tall - 1]\n",
    "\n",
    "print(delrekke_uten_siste_tall)"
   ]
  },
  {
   "cell_type": "markdown",
   "metadata": {},
   "source": [
    "I denne koden finner vi først ut hvor mange tall som er i tallrekka, så ber vi om alle tall til, men ikke med, det tallet med den siste indeksen. Dette er litt tungvindt å skrive, så vi kan bruke et lite triks!"
   ]
  },
  {
   "cell_type": "code",
   "execution_count": 8,
   "metadata": {},
   "outputs": [
    {
     "name": "stdout",
     "output_type": "stream",
     "text": [
      "[0.  0.1 0.2 0.3 0.4 0.5 0.6 0.7 0.8]\n"
     ]
    }
   ],
   "source": [
    "delrekke_uten_siste_tall = tallrekke[:-1]\n",
    "\n",
    "print(delrekke_uten_siste_tall)"
   ]
  },
  {
   "cell_type": "markdown",
   "metadata": {},
   "source": [
    "Dette gir jo ikke helt mening. Vi vil ha alle tall med indeks til, men ikke med -1? Vel, i Python er det å skrive `tallrekke[:-1]` en snarvei for å skrive `tallrekke[:(len(tallrekke) - 1)]`. Dette kan virke rart til å begynne med, men jeg liker å tenke på det som at med negative indekser starter vi på slutten av arrayet og teller oss baklengs.\n",
    "\n",
    "### Regne differanser med slicing\n",
    "Det som er så praktisk med slicing er at vi kan bruke det for å regne ut mange differanser \"samtidig\". Dette gjør vi ved å hente ut en tallrekke uten det første tallet og trekke fra tallrekka vi får ved å fjerne det siste tallet. Figuren under forklarer hvorfor dette fungerer\n",
    "\n",
    "<img src=\"bilder/slicing.png\" width=\"600px\" >\n",
    "\n",
    "La oss nå teste ut dette med litt Python kode"
   ]
  },
  {
   "cell_type": "code",
   "execution_count": 9,
   "metadata": {},
   "outputs": [
    {
     "name": "stdout",
     "output_type": "stream",
     "text": [
      "[0.1 0.1 0.1 0.1 0.1 0.1 0.1 0.1 0.1]\n"
     ]
    }
   ],
   "source": [
    "differanser = tallrekke[1:] - tallrekke[:-1]\n",
    "\n",
    "print(differanser)"
   ]
  },
  {
   "cell_type": "markdown",
   "metadata": {},
   "source": [
    "Hvis vi nå har tidspunktet mellom hver måling, så kan vi bare dele på det for å regne ut den deriverte. La oss si at vi har 10 målinger i sekundet."
   ]
  },
  {
   "cell_type": "code",
   "execution_count": 10,
   "metadata": {},
   "outputs": [
    {
     "name": "stdout",
     "output_type": "stream",
     "text": [
      "[1. 1. 1. 1. 1. 1. 1. 1. 1.]\n"
     ]
    }
   ],
   "source": [
    "differanser = tallrekke[1:] - tallrekke[:-1]\n",
    "dt = 1/10  # 10 målinger i sekundet\n",
    "derivert = differanser/dt\n",
    "\n",
    "print(derivert)"
   ]
  },
  {
   "cell_type": "markdown",
   "metadata": {},
   "source": [
    "Vi kan også bruke dette trikset for å regne ut den deriverte med ulik tid mellom hver måling. La oss se et eksempel på det."
   ]
  },
  {
   "cell_type": "code",
   "execution_count": 11,
   "metadata": {},
   "outputs": [
    {
     "data": {
      "image/png": "[encoded data removed]",
      "text/plain": [
       "<Figure size 432x288 with 1 Axes>"
      ]
     },
     "metadata": {
      "needs_background": "light"
     },
     "output_type": "display_data"
    }
   ],
   "source": [
    "tid = tallrekke + 0.1*sin(tallrekke*6)\n",
    "strekning = tallrekke\n",
    "\n",
    "plot(tid, strekning, '-o')\n",
    "show()"
   ]
  },
  {
   "cell_type": "markdown",
   "metadata": {},
   "source": [
    "Her har vi altså tidpunkt som er ugjevnt fordelt utover x-aksen. Dette kan for eksempel skje om man måler hvor lang tid det tar å løpe en konstant lengde. La oss nå derivere dette"
   ]
  },
  {
   "cell_type": "code",
   "execution_count": 12,
   "metadata": {},
   "outputs": [
    {
     "data": {
      "image/png": "[encoded data removed]",
      "text/plain": [
       "<Figure size 432x288 with 1 Axes>"
      ]
     },
     "metadata": {
      "needs_background": "light"
     },
     "output_type": "display_data"
    }
   ],
   "source": [
    "streknings_differanse = strekning[1:] - strekning[:-1]\n",
    "tids_differanse = tid[1:] - tid[:-1]\n",
    "\n",
    "derivert = streknings_differanse/tids_differanse\n",
    "plot(tid[1:], derivert)\n",
    "show()"
   ]
  }
 ],
 "metadata": {
  "kernelspec": {
   "display_name": "Python 3",
   "language": "python",
   "name": "python3"
  },
  "language_info": {
   "codemirror_mode": {
    "name": "ipython",
    "version": 3
   },
   "file_extension": ".py",
   "mimetype": "text/x-python",
   "name": "python",
   "nbconvert_exporter": "python",
   "pygments_lexer": "ipython3",
   "version": "3.7.6"
  }
 },
 "nbformat": 4,
 "nbformat_minor": 2
}
