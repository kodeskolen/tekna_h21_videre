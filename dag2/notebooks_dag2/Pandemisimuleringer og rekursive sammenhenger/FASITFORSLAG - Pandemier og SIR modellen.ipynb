{
 "cells": [
  {
   "cell_type": "markdown",
   "metadata": {},
   "source": [
    "# Modellering av pandemier\n",
    "**Hvis du ikke er interessert i teorien bak SIR-modeller, kan du hoppe direkte til oppgave 1.**\n",
    "\n",
    "Vi har sikkert alle hørt om simuleringsmodeller av pandemier. Disse modellene brukes for å informere politikerene om hva som er lurt å gjøre og hvordan vi bør oppføre oss, men hvordan fungerer egentlig disse modellene?\n",
    "\n",
    "I denne notebooken skal vi se litt på en av de enkleste modellene for sykdomsmodellering: den såkalte SIR modellen. SIR står for Susceptible, infected og removed, eller smittbar, smittet og fjernet på norsk og representerer de tre forskjellige gruppene et menneske kan tilhøre i en slik modell.\n",
    "\n",
    "La oss nå se nærmere på de tre kategoriene i SIR modellen\n",
    " * Smittbar (Susceptible): De som kan bli smittet\n",
    " * Smittede (Infected): De som kan smitte andre\n",
    " * Fjernet (Removed): De som har blitt immune eller dødd\n",
    "\n",
    "I pandemimodellene som lages av eksperter er det så klart flere kategorier enn dette, men de tar nesten alltid utgangspunkt i en SIR modell og legger til flere grupperinger. Hvis vi forstår SIR modellen så har vi godt grunnlag til å forstå modellene som det snakkes om i avisene!\n",
    "\n",
    "## Matematisk modellering av SIR dynamikk\n",
    "For å danne en matematisk SIR modell må vi først beskrive hvordan de forskjellige gruppene oppfører seg påvirker hverandre.\n",
    "\n",
    "**Smittbare personer:** En person kan bli smittet, men sannsynligheten for å bli smittet er avhengig av hvor mange som er smittet for øyeblikket. Vi kan skrive det slik\n",
    "\n",
    "$$ S_{t+1} = S_t - i S_t, $$\n",
    "\n",
    "hvor $S_t$ er antall smittbare ved dag nr. $t$, $i$ er smitteraten (infection rate). Men hva er egentlig denne smitteraten? Vel vi vet at den må være avhengig av antall smittede for hvis ingen er smittede, er smitteraten lik 0. Tilsvarende, hvis vi går fra 10 til 20 smittede, kan vi se for oss at smitteraten dobles. Det gir derfor mening å ha en proposjonalitetsrelasjon mellom smitteraten og antall smittede. Hvis vi har det, så får vi denne likningen istedenfor\n",
    "\n",
    "$$ S_{t+1} = S_t - i I_t S_t, $$\n",
    "\n",
    "hvor $S_t$ og $I_t$ er antall smittbare og smittede ved dag nr. $t$ og $i$ er smitteraten.\n",
    "\n",
    "**Antall smittede:** Vi vet at antall som blir smittet er likt med antall friske som blir smittede. Hvis vi skriver det matematisk får vi\n",
    "\n",
    "$$ I_{t+1} = I_t + i I_t S_t, $$\n",
    "\n",
    "hvor $S_t$ og $I_t$ er antall smittbare og smittede ved dag nr. $t$ og $i$ er smitteraten. Hvis vi kun har den relasjonen så vil jo ingen bli immune eller dø. Vi må altså ha med en sammenheng for det og. Hver dag er det en fast sannsynlighet for at en smittet person enten blir frisk eller dør, som betyr at antall smittede synker proposjonalt med antallet som er smittet. Hvis vi skriver det matematisk får vi denne sammenhengen for antall smittede:\n",
    "\n",
    "$$ I_{t+1} = I_t + i I_t S_t - d I_t, $$\n",
    "\n",
    "hvor $S_t$ og $I_t$ er antall smittbare og smittede ved dag nr. $t$, $i$ er smitteraten og $d$ er sannsynligheten for å gå fra å være syk til å enten bli frisk og immun eller dø.\n",
    "\n",
    "**Antall fjernede:** Antallet som er fjernet fra simuleringen, altså de som er immune eller døde, har vi jo allerede funnet ut at er proposjonalt med antall syke. Hvis vi skriver det, så får vi denne sammenhengen.\n",
    "\n",
    "$$ R_{t+1} = R_t + d I_t, $$\n",
    "\n",
    "hvor $R_t$ og $I_t$ er antall fjernede og smittede ved dag nr. $t$ og $d_t$ er sannsynligheten for at en syk person enten bli frisk eller dør i løpet av et tidssteg.\n",
    "\n",
    "**Kombinere alle likningene:** Hvis vi kombinerer alle likningene våre får vi dette uttrykket:\n",
    "\n",
    "$$ \\Large{S_{t+1} = S_t - i S_t I_t}, $$\n",
    "$$ \\Large{I_{t+1} = I_t + i S_t I_t - d I_t}, $$\n",
    "$$ \\Large{R_{t+1} = R_t + d I_t}, $$\n",
    "\n",
    "som vi kan programmere likt slikt vi programmerte rovdyr-byttedyr modellen."
   ]
  },
  {
   "cell_type": "markdown",
   "metadata": {},
   "source": [
    "## Oppgaver"
   ]
  },
  {
   "cell_type": "code",
   "execution_count": 41,
   "metadata": {},
   "outputs": [],
   "source": [
    "from pylab import arange, zeros, plot, xlabel, ylabel, title, legend, show"
   ]
  },
  {
   "cell_type": "markdown",
   "metadata": {},
   "source": [
    "### Oppgave 1: Enkel implementasjon av SIR-modellen\n",
    "\n",
    "Vi starter med å implementere SIR-modellen, uten å fokusere på å ha fornuftige størrelser. I Oppgave 2 skal vi simulere en pandemi i Oslo.\n",
    "\n",
    "#### Repetisjon:\n",
    "Husk at SIR-modellen er gitt ved den rekursive sammenhengen:\n",
    "$$ \\large{S_{t+1} = S_t - i S_t I_t}, $$\n",
    "$$ \\large{I_{t+1} = I_t + i S_t I_t - d I_t}, $$\n",
    "$$ \\large{R_{t+1} = R_t + d I_t}, $$\n",
    "hvor $S_t$ er antall friske mennesker ved tid $t$, $I_t$ er antall smittede mennesker ved tid $t$ og $R_t$ er antall immune og døde mennesker ved tid $t$. $i$ representerer *infeksjonsraten* og $d$ representerer raten syke mennesker fjernes fra simuleringen (altså raten syke individ blir immune eller død med).\n",
    "\n",
    "#### Oppgave 1a)\n",
    "Opprett en variabel `fjerne_rate` som representerer $d$ og `infeksjonsrate` som representere $i$. Sett $d = 0.03$ og $i = 0.0000005$"
   ]
  },
  {
   "cell_type": "code",
   "execution_count": 42,
   "metadata": {},
   "outputs": [],
   "source": [
    "fjerne_rate = 0.03\n",
    "infeksjonsrate = 0.0000005"
   ]
  },
  {
   "cell_type": "markdown",
   "metadata": {},
   "source": [
    "#### Oppgave 1b)\n",
    "Fyll inn den manglende koden slik at vi starter med $S_0 = 499 970$, $I_0 = 30$ og $R_0 = 0$."
   ]
  },
  {
   "cell_type": "code",
   "execution_count": 43,
   "metadata": {},
   "outputs": [],
   "source": [
    "antall_simuleringsdager = 365\n",
    "smittbar = zeros(antall_simuleringsdager)\n",
    "smittet = zeros(antall_simuleringsdager)\n",
    "fjernet = zeros(antall_simuleringsdager)\n",
    "\n",
    "\n",
    "smittbar[0] = 499970\n",
    "smittet[0] = 30\n",
    "fjernet[0] = 0"
   ]
  },
  {
   "cell_type": "markdown",
   "metadata": {},
   "source": [
    "#### Oppgave 1c)\n",
    "Fyll inn den manglende koden i simuleringsløkka under slik at vi simulerer en pandemi med SIR-modellen. (**Hint:** Se på den rekursive sammenhengen for SIR-modellen over)"
   ]
  },
  {
   "cell_type": "code",
   "execution_count": 51,
   "metadata": {},
   "outputs": [],
   "source": [
    "for t in range(antall_simuleringsdager - 1):\n",
    "    smittbar[t+1] = smittbar[t] - infeksjonsrate*smittbar[t]*smittet[t]\n",
    "    smittet[t+1] = smittet[t] + infeksjonsrate*smittbar[t]*smittet[t] - fjerne_rate*smittet[t]\n",
    "    fjernet[t+1] = fjernet[t] + fjerne_rate*smittet[t]"
   ]
  },
  {
   "cell_type": "markdown",
   "metadata": {},
   "source": [
    "#### Oppgave 1d)\n",
    "**Refleksjonsoppgave:** Hvorfor lar vi `t` gå fra 0 til `antall_simuleringsdager-2`? (husk `range`-funksjonen går igjennom tall fra og med og 0 til men ikke med endepunktet). Hva vil skje hvis vi lar den gå til `antall_simuleringsdager-1`?"
   ]
  },
  {
   "cell_type": "markdown",
   "metadata": {},
   "source": [
    "#### Oppgave 1e)\n",
    "Fyll inn den manglende koden under for å lage et plott over antall smittbare, smittede og fjernede mennesker i simuleringen som funksjon av tid."
   ]
  },
  {
   "cell_type": "code",
   "execution_count": 52,
   "metadata": {},
   "outputs": [
    {
     "data": {
      "image/png": "[encoded data removed]",
      "text/plain": [
       "<Figure size 432x288 with 1 Axes>"
      ]
     },
     "metadata": {
      "needs_background": "light"
     },
     "output_type": "display_data"
    }
   ],
   "source": [
    "tid = arange(antall_simuleringsdager)\n",
    "\n",
    "plot(tid, smittbar, label=\"Smittbare mennesker (S)\")\n",
    "plot(tid, smittet, label=\"Smittede mennesker (I)\")\n",
    "plot(tid, fjernet, label=\"Døde og immune mennesker (R)\")\n",
    "xlabel(\"Dager siden første infeksjon\")\n",
    "ylabel(\"Antall mennesker\")\n",
    "legend()\n",
    "show()"
   ]
  },
  {
   "cell_type": "markdown",
   "metadata": {},
   "source": [
    "# Valg av modellparametre\n",
    "**Hvis du ikke er interessert i teorien bak SIR-modeller, kan du hoppe direkte til oppgave 2.**\n",
    "\n",
    "### Valg av initialpopulasjoner\n",
    "Så nå har vi en matematisk modell for å simulere antallet syke i befolkningen, men hvordan kan vi egentlig velge disse ratene?\n",
    "\n",
    "La oss ta utgangspunkt i en by som Oslo, hvor det er ca 600 000 innbyggere. Hvis vi starter med 2 syke og 599 998 friske personer, så får vi at\n",
    "\n",
    "$$ S_0 = 599 998, $$\n",
    "$$ I_0 = 2, $$\n",
    "$$ R_0 = 0. $$\n",
    "\n",
    "### Valg av $d$:\n",
    "$d$ representerer sannsynligheten for at en smittet person blir frisk eller dør i løpet av en dag. Hvis den forventede syketiden er $T$, vil $d$ være gitt ved\n",
    "\n",
    "$$ d = \\frac{1}{T}. $$\n",
    "\n",
    "Hvis vi sier at man i snitt er syk i 10 dager, vil vi ha at\n",
    "\n",
    "$$ d = 0.1.$$\n",
    "\n",
    "### Valg av $i$:\n",
    "$i$ er den parameteren som er mest innviklet å velge. Det er en del logikk bak det, men hvert steg er ganske rett frem.\n",
    "\n",
    "For å velge $i$ kan vi starte med å se på likningen for antall smittbare:\n",
    "\n",
    "$$ S_{t+1} = S_t - i S_t I_t. $$\n",
    "\n",
    "Vi ser at hver smittede person smitter totalt $i S_t$ nye personer hver dag. Hva betyr dette? La oss ta utgangspunkt i noen eksempelscenarioer og tolke modellen for å finne en fornuftig verdi for dette.\n",
    "\n",
    "#### Eksempelscenario: Nesten ingen har blitt syk\n",
    "Hvis nesten ingen har blitt syke ennå, må nesten alle en syk person møter i løpet av en dag være smittbare. Det betyr at antallet friske som en syk person smitter er gitt ved smittesannsynligheten ganget med antall personer en syk person møter i løpet av en dag. Vi kan skrive det slik\n",
    "\n",
    "$$ S_{t+1} = S_t - m p_{\\text{smitte}} I_t, $$\n",
    "\n",
    "hvor $m$ er hvor mange personer en gjennomsnittsperson møter i løpet av en dag og $p_{\\text{smitte}}$ er sannsynligheten for å smitte en person du møter.\n",
    "\n",
    "#### Eksempelscenario: Halve befolkningen er syk\n",
    "Hvis halve befolkningen er blitt syk uten at noen smitteværnstiltak er satt inn så vil smittesannsynligheten, $p_{\\text{smitte}}$, være konstant. Den eneste endringen vil altså være at antall smittbare personer en syk person møter i løpet av en dag vil være halvert. Hvis vi skriver dette matematisk får vi \n",
    "denne sammenhengen:\n",
    "\n",
    "$$ S_{t+1} = S_t - \\frac{m}{2} p_{\\text{smitte}} I_t, $$\n",
    "\n",
    "hvor $m$ nok en gang er hvor mange personer en gjennomsnittsperson møter i løpet av en dag og $p_{\\text{smitte}}$ er sannsynligheten for å smitte noen om du er syk. \n",
    "\n",
    "#### Eksempelscenario: Hele befolkningen har vært eller er syke\n",
    "Hvis hele befolkningen har vært eller er syke, så vil ingen nye personer bli smittet, altså er\n",
    "\n",
    "$$ S_{t+1} = S_t - 0 p_{\\text{smitte}} I_t. $$\n",
    "\n",
    "#### Hva betyr disse eksempelscenarioene?\n",
    "Vi ser at antall friske personer som blir smittet i løpet av en dag, $t$, er gitt ved \n",
    "\n",
    "$$ \\text{nye syke} = p_{\\text{smitte}} n_t I_t, $$\n",
    "\n",
    "hvor $n_t$ er antall smittbare personer en gjennomsnittlig syk person møter i løpet av en dag, $p_{\\text{smitte}}$ er smittesannsynligheten og $I_t$ er antallet syke personer.\n",
    "\n",
    "Den neste parameteren vi må finne er hvor mange smittbare personer en syk person møteri løpet av en dag, $n_t$. Dette er gitt ved andelen smittbare i befolkningen \n",
    "\n",
    "$$ n_t = m \\frac{S_t}{N}, $$\n",
    "\n",
    "hvor $m$ er det totale antallet personer en syk person møter i løpet av en dag, $S_t$ er antall smittbare personer den gjeldende dagen og $N$ er den totale befolkningen. \n",
    "\n",
    "La oss nå sette sammen alt dette for å finne en logisk verdi for $i$:\n",
    "\n",
    "$$ S_{t+1} = S_t + p_{\\text{smitte}} m \\frac{S_t}{N} I_t, $$\n",
    "\n",
    "hvis vi flytter på brøken, får vi at\n",
    "\n",
    "$$ i = \\frac{m p_{\\text{smitte}}}{N}, $$\n",
    "\n",
    "hvor $m$ er det totale antallet personer en syk person møter i løpet av en dag, $p_{\\text{smitte}}$ er sannsynligheten for at en syk person smitter en smittbar person han eller hun møter og $N$ er det totale befolkningstallet.\n",
    "\n",
    "### Overslag av verdien til $i$\n",
    " * Det er en 5% sannsynlighet for å smitte noen\n",
    "   * $p_{\\text{smitte}} = 0.05$\n",
    " * Hver person møter i snitt 25 nye i løpet av en dag\n",
    "   * $m = 25$\n",
    "\n",
    "Hvis vi kombinerer disse antakelsene med et innbyggertall på 600000, får vi\n",
    "\n",
    "$$ i = \\frac{0.1 \\times 25}{600000} $$"
   ]
  },
  {
   "cell_type": "markdown",
   "metadata": {},
   "source": [
    "### Oppgave 2\n",
    "Nå skal vi simulere en pandemi i Oslo. For å gjøre det må vi bruke sammenhengene vi fant over.\n",
    "\n",
    "#### Repetisjon av teori\n",
    " * Det totale befolkningstallet er $N$\n",
    " * Antall smittbare personer ved starten av simuleringen er gitt ved $S_0 = N - I_0$\n",
    " * Antall smittede personer ved starten av simuleringen er en fri parameter definert av brukeren.\n",
    " * Vi starter med ingen fjernede personer fra simuleringen: $R_0 = 0$.\n",
    " * Fjerne-raten, $d$ er gitt ved $d = \\frac{1}{T},$ hvor $T$ er den forventede syketiden.\n",
    " * Infeksjonsraten, $i$ er gitt ved $i = \\frac{m p_{\\text{smitte}}}{N},$ hvor $m$ er antallet personer en syk person møter i løpet av en dag, $p_{\\text{smitte}}$ er sannsynligheten for at en syk person smitter en smittbar person han eller hun møter og $N$ er det totale befolkningstallet.\n",
    "\n",
    "#### Oppgave 2 a)\n",
    "Opprett variablene `befolkningstall`, `forventet_syketid`, `smittesannsynlighet`, `antall_man_møter` og `syke_ved_start` og gi de verdier fra tabellen under\n",
    "\n",
    "|           Parameter | Verdi     |\n",
    "|--------------------:|:----------|\n",
    "|                 $N$ |   600 000 |\n",
    "|                 $T$ |        10 |\n",
    "|                 $m$ |        25 |\n",
    "| $p_{\\text{smitte}}$ | 0.02 (2 %)|\n",
    "|               $I_0$ |         2 |"
   ]
  },
  {
   "cell_type": "code",
   "execution_count": 53,
   "metadata": {},
   "outputs": [],
   "source": [
    "# Befolkningsparametre\n",
    "befolkningstall = 600_000\n",
    "forventet_syketid = 10\n",
    "antall_man_møter = 25\n",
    "smittesannsynlighet = 0.02\n",
    "syke_ved_start = 2"
   ]
  },
  {
   "cell_type": "markdown",
   "metadata": {},
   "source": [
    "#### Oppgave 2b)\n",
    "\n",
    "Opprett en variabel `fjerne_rate` som representerer $d$ og `infeksjonsrate` som representere $i$. Gi variablene fornuftige verdier basert på $T$, $m$ og $p_{\\text{smitte}}$. (**Hint:** Se på likningene for $d$ og $i$ over)."
   ]
  },
  {
   "cell_type": "code",
   "execution_count": 54,
   "metadata": {},
   "outputs": [],
   "source": [
    "# Modellparametre\n",
    "fjerne_rate = 1/forventet_syketid\n",
    "infeksjonsrate = antall_man_møter*smittesannsynlighet/befolkningstall"
   ]
  },
  {
   "cell_type": "markdown",
   "metadata": {},
   "source": [
    "#### Oppgave 2c)\n",
    "Fyll inn den manglende koden i cella under. (**Hint:** Se på likningene for $d$ og $i$ over)."
   ]
  },
  {
   "cell_type": "code",
   "execution_count": 55,
   "metadata": {},
   "outputs": [],
   "source": [
    "# Simuleringslengde\n",
    "simuleringslengde = 365\n",
    "\n",
    "# Startverdier til simuleringen\n",
    "smittbar = zeros(simuleringslengde)\n",
    "smittet = zeros(simuleringslengde)\n",
    "fjernet = zeros(simuleringslengde)\n",
    "\n",
    "\n",
    "smittbar[0] = befolkningstall - syke_ved_start\n",
    "smittet[0] = syke_ved_start\n",
    "fjernet[0] = 0"
   ]
  },
  {
   "cell_type": "markdown",
   "metadata": {},
   "source": [
    "#### Oppgave 2d)\n",
    "\n",
    "Fyll inn den manglende koden i simuleringsløkka under"
   ]
  },
  {
   "cell_type": "code",
   "execution_count": 56,
   "metadata": {},
   "outputs": [],
   "source": [
    "for t in range(antall_simuleringsdager - 1):\n",
    "    smittbar[t+1] = smittbar[t] - infeksjonsrate*smittbar[t]*smittet[t]\n",
    "    smittet[t+1] = smittet[t] + infeksjonsrate*smittbar[t]*smittet[t] - fjerne_rate*smittet[t]\n",
    "    fjernet[t+1] = fjernet[t] + fjerne_rate*smittet[t]"
   ]
  },
  {
   "cell_type": "markdown",
   "metadata": {},
   "source": [
    "#### Oppgave 2e)\n",
    "\n",
    "**Refleksjonsoppgave:** Under er kode som genererer et plott over smittbare, smittede og immune/døde mennesker i Oslo som funksjon av hvor lenge pandemien har pågått. Hvilke parametre kan du endre for å redusere det maksimale antallet smittede personer på en gang? Prøv å endre disse variablene og kjør simuleringen igjen."
   ]
  },
  {
   "cell_type": "code",
   "execution_count": 57,
   "metadata": {},
   "outputs": [
    {
     "data": {
      "image/png": "[encoded data removed]",
      "text/plain": [
       "<Figure size 432x288 with 1 Axes>"
      ]
     },
     "metadata": {
      "needs_background": "light"
     },
     "output_type": "display_data"
    }
   ],
   "source": [
    "tid = arange(antall_simuleringsdager)\n",
    "\n",
    "plot(tid, smittbar, label=\"Smittbare mennesker (S)\")\n",
    "plot(tid, smittet, label=\"Smittede mennesker (I)\")\n",
    "plot(tid, fjernet, label=\"Døde og immune mennesker (R)\")\n",
    "xlabel(\"Dager siden første infeksjon\")\n",
    "ylabel(\"Antall mennesker\")\n",
    "title(f\"Maksimalt antall smittede mennesker: {max(smittet):.0f}\")\n",
    "legend()\n",
    "show()"
   ]
  },
  {
   "cell_type": "markdown",
   "metadata": {},
   "source": [
    "#### Oppgave 2f) (bonusoppgave)\n",
    "Lag en funksjon `simuler_pandemi(befolkningstall, forventet_syketid, antall_man_møter, smittesannsynlighet, syke_ved_start)` som tar inn de fire parameterne til en pandemismulering og genererer et plott av smittbare, smitttede og fjernede mennesker som funksjon av tid."
   ]
  },
  {
   "cell_type": "code",
   "execution_count": 58,
   "metadata": {},
   "outputs": [],
   "source": [
    "def simuler_pandemi(befolkningstall, forventet_syketid, antall_man_møter, smittesannsynlighet, syke_ved_start):\n",
    "    # Modellparametre\n",
    "    fjerne_rate = 1/forventet_syketid\n",
    "    infeksjonsrate = antall_man_møter*smittesannsynlighet/befolkningstall\n",
    "    \n",
    "    # Simuleringslengde\n",
    "    simuleringslengde = 365\n",
    "\n",
    "    # Startverdier til simuleringen\n",
    "    smittbar = zeros(simuleringslengde)\n",
    "    smittet = zeros(simuleringslengde)\n",
    "    fjernet = zeros(simuleringslengde)\n",
    "\n",
    "\n",
    "    smittbar[0] = befolkningstall - syke_ved_start\n",
    "    smittet[0] = syke_ved_start\n",
    "    fjernet[0] = 0\n",
    "    \n",
    "    for t in range(antall_simuleringsdager - 1):\n",
    "        smittbar[t+1] = smittbar[t] - infeksjonsrate*smittbar[t]*smittet[t]\n",
    "        smittet[t+1] = smittet[t] + infeksjonsrate*smittbar[t]*smittet[t] - fjerne_rate*smittet[t]\n",
    "        fjernet[t+1] = fjernet[t] + fjerne_rate*smittet[t]\n",
    "        \n",
    "    tid = arange(antall_simuleringsdager)\n",
    "\n",
    "    plot(tid, smittbar, label=\"Smittbare mennesker (S)\")\n",
    "    plot(tid, smittet, label=\"Smittede mennesker (I)\")\n",
    "    plot(tid, fjernet, label=\"Døde og immune mennesker (R)\")\n",
    "    xlabel(\"Dager siden første infeksjon\")\n",
    "    ylabel(\"Antall mennesker\")\n",
    "    title(f\"Maksimalt antall smittede mennesker: {max(smittet):.0f}\")\n",
    "    legend()\n",
    "    show()"
   ]
  },
  {
   "cell_type": "markdown",
   "metadata": {},
   "source": [
    "#### Oppgave 2g) (bonusoppgave)\n",
    "Bruk `interact`-funksjonen fra `ipywidgets`-biblioteket for å knytte `simuler_pandemi`-funksjonen til glidebrytere for å ha et interaktivt plott over en pandemisimulering"
   ]
  },
  {
   "cell_type": "code",
   "execution_count": 70,
   "metadata": {},
   "outputs": [
    {
     "data": {
      "application/vnd.jupyter.widget-view+json": {
       "model_id": "198e72c9727c4b90bb3fbf34216addf5",
       "version_major": 2,
       "version_minor": 0
      },
      "text/plain": [
       "interactive(children=(IntSlider(value=500000, description='befolkningstall', max=1000000), IntSlider(value=20,…"
      ]
     },
     "metadata": {},
     "output_type": "display_data"
    },
    {
     "data": {
      "text/plain": [
       "<function __main__.simuler_pandemi(befolkningstall, forventet_syketid, antall_man_møter, smittesannsynlighet, syke_ved_start)>"
      ]
     },
     "execution_count": 70,
     "metadata": {},
     "output_type": "execute_result"
    }
   ],
   "source": [
    "from ipywidgets import interact\n",
    "\n",
    "interact(\n",
    "    simuler_pandemi,\n",
    "    befolkningstall=(0, 1_000_000), \n",
    "    forventet_syketid=(0, 40), \n",
    "    antall_man_møter=(0, 50), \n",
    "    smittesannsynlighet=(0.0, 0.15, 0.01), \n",
    "    syke_ved_start=(0, 20)\n",
    ")"
   ]
  },
  {
   "cell_type": "code",
   "execution_count": null,
   "metadata": {},
   "outputs": [],
   "source": []
  }
 ],
 "metadata": {
  "kernelspec": {
   "display_name": "Python 3 (ipykernel)",
   "language": "python",
   "name": "python3"
  },
  "language_info": {
   "codemirror_mode": {
    "name": "ipython",
    "version": 3
   },
   "file_extension": ".py",
   "mimetype": "text/x-python",
   "name": "python",
   "nbconvert_exporter": "python",
   "pygments_lexer": "ipython3",
   "version": "3.9.2"
  }
 },
 "nbformat": 4,
 "nbformat_minor": 2
}
