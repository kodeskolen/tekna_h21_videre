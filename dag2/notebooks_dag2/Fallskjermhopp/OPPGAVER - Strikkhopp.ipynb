{
 "cells": [
  {
   "cell_type": "code",
   "execution_count": null,
   "id": "3c2d9fcc",
   "metadata": {},
   "outputs": [],
   "source": [
    "from pylab import plot, show, subplot, xlabel, ylabel, figure, legend, array"
   ]
  },
  {
   "cell_type": "markdown",
   "id": "0936f2a0",
   "metadata": {},
   "source": [
    "# Strikkhopp\n",
    "\n",
    "Nå har vi skrevet kode som simulerer fallskjermhopp, og da er det ikke så lang vei til å simulere strikkhopp og. Men først, la oss se koden for fallskjermhopp. Først definerer vi noen funksjoner for bevegelseslikningene og luftmotstanden"
   ]
  },
  {
   "cell_type": "code",
   "execution_count": null,
   "id": "ce955b6a",
   "metadata": {},
   "outputs": [],
   "source": [
    "def finn_høyde(h0, v0, a, t):\n",
    "    return h0 + v0*t + 0.5*a*t*t\n",
    "\n",
    "def finn_fart(v0, a, t):\n",
    "    return v0 + a*t\n",
    "\n",
    "def luftmotstand(v, A, C, rho):\n",
    "    return 0.5*A*C*rho*v*v"
   ]
  },
  {
   "cell_type": "markdown",
   "id": "5ff396b7",
   "metadata": {},
   "source": [
    "Så simulerer vi fallskjermhoppet og lagrer simuleringsverdiene i lister som vi plotter etterpå."
   ]
  },
  {
   "cell_type": "code",
   "execution_count": null,
   "id": "f39c7955",
   "metadata": {},
   "outputs": [],
   "source": [
    "g = 9.81  # m/s/s\n",
    "m = 90  # kg\n",
    "\n",
    "h = 1000  # m\n",
    "v = 0  # m/s\n",
    "t = 0  # s\n",
    "\n",
    "rho = 1\n",
    "\n",
    "t_liste = [t]\n",
    "h_liste = [h]\n",
    "v_liste = [v]\n",
    "a_liste = [-g]\n",
    "\n",
    "dt = 0.01\n",
    "fallskjermtid = 10\n",
    "while h > 0:\n",
    "    if t < fallskjermtid:\n",
    "        A = 0.7\n",
    "        C = 1.4\n",
    "    else:\n",
    "        A = 44\n",
    "        C = 1.8\n",
    "    sum_krefter = -g*m + luftmotstand(v, A, C, rho)\n",
    "    a = sum_krefter/m\n",
    "    \n",
    "    h = finn_høyde(h, v, a, dt)\n",
    "    v = finn_fart(v, a, dt)\n",
    "    t = t + dt\n",
    "    \n",
    "    h_liste.append(h)\n",
    "    v_liste.append(v)\n",
    "    t_liste.append(t)\n",
    "    a_liste.append(a)"
   ]
  },
  {
   "cell_type": "markdown",
   "id": "0bb17070",
   "metadata": {},
   "source": [
    "Kode for å plotte resultatet fra simuleringen"
   ]
  },
  {
   "cell_type": "code",
   "execution_count": null,
   "id": "1483a387",
   "metadata": {},
   "outputs": [],
   "source": [
    "plot(t_liste, h_liste)\n",
    "xlabel(\"Tid siden start\")\n",
    "ylabel(\"Høyde\")\n",
    "show()\n",
    "\n",
    "plot(t_liste, v_liste)\n",
    "xlabel(\"Tid siden start\")\n",
    "ylabel(\"Hastighet\")\n",
    "show()\n",
    "\n",
    "plot(t_liste, a_liste)\n",
    "xlabel(\"Tid siden start\")\n",
    "ylabel(\"Akselerasjon\")\n",
    "show()"
   ]
  },
  {
   "cell_type": "markdown",
   "id": "440db197",
   "metadata": {},
   "source": [
    "## Introduksjon til strikkhopp\n",
    "\n",
    "Når vi hopper strikk er det enten to eller tre krefter som virker på oss. Tyngdekraften og luftmotstanden virker alltid, og strikkraften virker dersom $|h| > h_\\text{strikk}$, hvor $h_\\text{strikk}$ er lengden på strikken. Grunnen til at strikkraften ikke alltid virker på oss, er at strikkraften virker kun mens strikket blir strukket, ikke mens det er kveilet opp. Litt som i figuren under.\n",
    "\n",
    "<div style=\"overflow:auto;margin:auto;width:420px\">\n",
    "<img src=\"bilder/strikkhopper_1.png\" width=\"140px\" align=\"left\" style=\"margin:0px;\"/>\n",
    "<img src=\"bilder/strikkhopper_2.png\" width=\"140px\" align=\"left\" style=\"margin:0px;\"/>\n",
    "<img src=\"bilder/strikkhopper_3.png\" width=\"140px\" align=\"left\" style=\"margin:0px;\"/>\n",
    "</div>\n",
    "    \n",
    "For å finne akselerasjonen til systemet, bruker vi Newton's andre lov, som sier at\n",
    "\n",
    "$$ \\sum F = -G - \\text{sign}(v)D(v) - \\text{sign}(h)S(h) = m a,$$\n",
    "\n",
    "hvor $\\text{sign}(v)D(v)$ er luftmotstanden (vi ganger med et fortegn som peker motsatt retning av hastigheten for å passe på at luftmotstanden bremser) og $S(h)$ er strikkraften, som er gitt av Hookes lov (vi ganger strikkraften med et fortegn som peker i motsatt retning av $h$ slik at strikkraften alltid peker mot punktet der strikket starter å strekke):\n",
    "\n",
    "$$ S(h) = \\begin{cases} k |h| - h_\\text{strikk} & ,~|h| > h_\\text{strikk} \\\\ 0 & ,~ \\text{ellers}\\end{cases}.$$\n",
    "\n",
    "## Oppgave 1\n",
    "### Oppgave 1a)\n",
    "Lag en funksjon `strikkraft(h, k, h_strikk)` som tar inn posisjonen til strikkhopperen, $h$, strikkonstanten, $k$, og strikklengden,  $h_\\text{strikk}$ og returnerer strikkraften til strikket gitt ved funksjonen over. (**Hint:** Du kan bruke `abs` funksjonen for å ta absoluttverdien til et tall)"
   ]
  },
  {
   "cell_type": "code",
   "execution_count": null,
   "id": "3bde395a",
   "metadata": {},
   "outputs": [],
   "source": [
    "def strikkraft(h, k, h_strikk):\n",
    "    \"\"\"Regner ut strikkreftene til et strikk med lengde h_strikk og strikkonstant k.\n",
    "    \"\"\"\n",
    "    # Din kode her..."
   ]
  },
  {
   "cell_type": "markdown",
   "id": "a63f9bf9",
   "metadata": {},
   "source": [
    "### Oppgave 1b)\n",
    "Nedenfor er skjelletkode for å simulere et strikkhopp. Fyll inn de manglende linjene . Bruk $A=0.7~\\text{m}^2$, $C=1.4$, $\\rho=1\\tfrac{\\text{kg}}{\\text{m}^3}$ $h_\\text{strikk} = 40~\\text{m}$ og $k=50 \\text{N}/\\text{m}$. Stopp simuleringen når hastigheten peker i positiv retning igjen (altså når strikkhopperen er på vei opp igjen). (**Hint:** Fjern betingelsen og modifiser linja hvor du regner ut summen av kreftene)."
   ]
  },
  {
   "cell_type": "code",
   "execution_count": null,
   "id": "351e6c8e",
   "metadata": {},
   "outputs": [],
   "source": [
    "from pylab import sign\n",
    "\n",
    "g = 9.81  # m/s/s\n",
    "m = 90  # kg\n",
    "\n",
    "h = 0  # m\n",
    "v = 0  # m/s\n",
    "t = 0  # s\n",
    "\n",
    "A = # Din kode her...\n",
    "C = # Din kode her...\n",
    "rho = # Din kode her...\n",
    "k = # Din kode her...\n",
    "h_strikk = # Din kode her...\n",
    "\n",
    "t_liste = [t]\n",
    "h_liste = [h]\n",
    "v_liste = [v]\n",
    "a_liste = [-g]\n",
    "\n",
    "dt = 0.001\n",
    "fallskjermtid = 10\n",
    "while t <= 60:\n",
    "    sum_krefter = # Din kode her...\n",
    "    a = sum_krefter/m\n",
    "    \n",
    "    h = finn_høyde(h, v, a, dt)\n",
    "    v = finn_fart(v, a, dt)\n",
    "    t = t + dt\n",
    "    \n",
    "    h_liste.append(h)\n",
    "    v_liste.append(v)\n",
    "    t_liste.append(t)\n",
    "    a_liste.append(a)"
   ]
  },
  {
   "cell_type": "markdown",
   "id": "b05bed65",
   "metadata": {},
   "source": [
    "### Oppgave 1c)\n",
    "Lag et plott av posisjonen, hastigheten og akselerasjonen til strikkhopperen som funksjon av tid. (**Hint:** Du kan ta utgangspunkt i koden for fallskjermhopp)"
   ]
  },
  {
   "cell_type": "code",
   "execution_count": null,
   "id": "891139ca",
   "metadata": {},
   "outputs": [],
   "source": []
  },
  {
   "cell_type": "markdown",
   "id": "c0f839b6",
   "metadata": {},
   "source": [
    "### Oppgave 1d)\n",
    "Lag en funksjon `plott_strikkhopp(A, C, k, strikklengde)` som tar tverrsnittsarealet til hopperen, $C$, strikkonstanten og strikklengde, simulerer et strikkhopp og plotter posisjonen, hastigheten og akselerasjonen til strikkhopperen som funksjon av tid."
   ]
  },
  {
   "cell_type": "code",
   "execution_count": null,
   "id": "4cfc3de3",
   "metadata": {},
   "outputs": [],
   "source": []
  },
  {
   "cell_type": "markdown",
   "id": "182a235f",
   "metadata": {},
   "source": [
    "### Oppgave 1e)\n",
    "Bruk `interact`-funksjonen fra `ipywidgets`-biblioteket for å knytte `plott_strikkhopp`-funksjonen opp mot glidebrytere for å lage et interaktivt plott. Hva skjer med maksimalhastigheten når du øker strikkkonstanten?"
   ]
  },
  {
   "cell_type": "code",
   "execution_count": null,
   "id": "c16f37f3",
   "metadata": {},
   "outputs": [],
   "source": [
    "from ipywidgets import interact"
   ]
  }
 ],
 "metadata": {
  "kernelspec": {
   "display_name": "Python 3 (ipykernel)",
   "language": "python",
   "name": "python3"
  },
  "language_info": {
   "codemirror_mode": {
    "name": "ipython",
    "version": 3
   },
   "file_extension": ".py",
   "mimetype": "text/x-python",
   "name": "python",
   "nbconvert_exporter": "python",
   "pygments_lexer": "ipython3",
   "version": "3.9.2"
  }
 },
 "nbformat": 4,
 "nbformat_minor": 5
}
