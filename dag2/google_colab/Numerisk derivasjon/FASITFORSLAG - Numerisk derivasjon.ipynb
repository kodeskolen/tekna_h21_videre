{
 "cells": [
  {
   "cell_type": "markdown",
   "metadata": {
    "slideshow": {
     "slide_type": "-"
    }
   },
   "source": [
    "# Gjennomsnittlig vekstfart, momentan vekstfart og numerisk derivasjon i Python"
   ]
  },
  {
   "cell_type": "markdown",
   "metadata": {
    "slideshow": {
     "slide_type": "-"
    }
   },
   "source": [
    "Den deriverte av en funksjon $f$ for et tidspunkt $t$ gir oss \"farten\" til funksjonen i det tidspunktet. Hva betyr det egentlig? Og hvordan finner vi farten?\n",
    "\n",
    "La oss se på et eksempel. La oss si at vi lurer på hvor raskt jeg løper? Hvordan kan vi gå frem?\n",
    "\n",
    "\n",
    "<img src=\"https://raw.githubusercontent.com/kodeskolen/tekna_h21_videre/main/dag2/notebooks_dag2/Numerisk derivasjon/bilder/athletes-running-on-track-and-field-oval-in-grayscale-34514.jpg\" width=\"600px\">"
   ]
  },
  {
   "cell_type": "markdown",
   "metadata": {},
   "source": [
    "\n",
    "## Gjennomsnittsfart er strekningen jeg løpte delt på tiden det tok\n",
    "\n",
    "\n",
    "\n",
    "<img src=\"https://raw.githubusercontent.com/kodeskolen/tekna_h21_videre/main/dag2/notebooks_dag2/Numerisk derivasjon/bilder/fart_illustrasjon.png\">\n",
    "\n",
    "\n",
    "Kanskje har du allerede målt fart før og har en ide om hvordan det skal gjøres: Vi tar fram stoppeklokka og målebåndet. Så måler vi lengden på strekningen jeg løper og hvor lang tid jeg bruker. Gjennomsnittsfarten min er da strekningen delt på tid. For å regne ut dette kan vi skrive et lite program:"
   ]
  },
  {
   "cell_type": "code",
   "execution_count": 2,
   "metadata": {},
   "outputs": [
    {
     "name": "stdout",
     "output_type": "stream",
     "text": [
      "Farten er 5.0 m/s\n"
     ]
    }
   ],
   "source": [
    "startposisjon = 0  #m unna huset mitt\n",
    "sluttposisjon = 30  #m unna huset mitt\n",
    "\n",
    "starttid = 0  #s siden start\n",
    "slutttid = 6  #s siden start\n",
    "\n",
    "ds = sluttposisjon - startposisjon\n",
    "dt = slutttid - starttid\n",
    "\n",
    "fart = ds/dt\n",
    "print(f'Farten er {fart} m/s')"
   ]
  },
  {
   "cell_type": "markdown",
   "metadata": {},
   "source": [
    "I programmet over kan du nå putte inn hvilken som helst startposisjon, sluttposisjon, starttid og sluttid og få ut gjennomsnittfarten"
   ]
  },
  {
   "cell_type": "markdown",
   "metadata": {},
   "source": [
    "## Oppgave 1\n",
    "**Hvis vi vil vite hvordan farten endrer seg underveis trenger vi flere målepunkter**\n",
    "\n",
    "Men hva om vi ikke nøyer oss med gjennomsnittfarten. Hva om vi vil vite hva farten min er underveis i løpeturen? Hva gjør vi da?\n",
    "\n",
    "Da må vi rett og slett ta flere mål. La oss si at jeg løper i tyve sekunder og noen står med stoppeklokke og måler hvor langt jeg har løpt for vært sekund. For å lagre måletidspunktene i python kan i bruke arange i numpy. "
   ]
  },
  {
   "cell_type": "code",
   "execution_count": 3,
   "metadata": {},
   "outputs": [
    {
     "name": "stdout",
     "output_type": "stream",
     "text": [
      "[ 0  1  2  3  4  5  6  7  8  9 10 11 12 13 14 15 16 17 18 19 20]\n"
     ]
    }
   ],
   "source": [
    "# kanskje ferdig kode hvor oppgaven er å skrive ned hva ver linje gjør\n",
    "from pylab import *\n",
    "from ipywidgets import interact\n",
    "\n",
    "måletidspunkt = arange(0, 21, 1)\n",
    "print(måletidspunkt)"
   ]
  },
  {
   "cell_type": "markdown",
   "metadata": {},
   "source": [
    "### Oppgave 1 a) Tolke kode\n",
    "Se på koden i cella over og svar på følgende spørsmål:\n",
    "* Hva gjør hver linje?\n",
    "* Hva slags effekt har tallene 0, 21 og 1 på koden? Hva vil skje dersom du endrer dem?"
   ]
  },
  {
   "cell_type": "markdown",
   "metadata": {},
   "source": [
    "Vi trenger også avstanden min på de ulike tidspunktene. La oss si at avstanden jeg har løpt er gitt ved funksjonen\n",
    "$$ f(t) =\\frac{1}{1 + e^{10 - t}}. $$"
   ]
  },
  {
   "cell_type": "markdown",
   "metadata": {},
   "source": [
    "### Oppgave 1 b) Funksjon for avstand\n",
    "Lag en funksjon `f(t)` som tar inn et tidspunkt og returnerer avstand gitt av uttrykket over (hint for å regne ut $e^x$ kan du bruke `exp(x)` funksjonen fra `pylab`)."
   ]
  },
  {
   "cell_type": "code",
   "execution_count": 4,
   "metadata": {},
   "outputs": [],
   "source": [
    "# Fyll inn funksjonen her\n",
    "def f(t):\n",
    "    return 1. / (1. + exp(-t+10))"
   ]
  },
  {
   "cell_type": "markdown",
   "metadata": {},
   "source": [
    "### Oppgave 1c) Finne avstandene på måletidspunktene \n",
    "Bruk funksjonen over til å finne måletidspunktene "
   ]
  },
  {
   "cell_type": "code",
   "execution_count": 5,
   "metadata": {},
   "outputs": [
    {
     "name": "stdout",
     "output_type": "stream",
     "text": [
      "[4.53978687e-05 1.23394576e-04 3.35350130e-04 9.11051194e-04\n",
      " 2.47262316e-03 6.69285092e-03 1.79862100e-02 4.74258732e-02\n",
      " 1.19202922e-01 2.68941421e-01 5.00000000e-01 7.31058579e-01\n",
      " 8.80797078e-01 9.52574127e-01 9.82013790e-01 9.93307149e-01\n",
      " 9.97527377e-01 9.99088949e-01 9.99664650e-01 9.99876605e-01\n",
      " 9.99954602e-01]\n"
     ]
    }
   ],
   "source": [
    "# Fyll inn koden \n",
    "måledistanser = f(måletidspunkt)\n",
    "print(måledistanser)"
   ]
  },
  {
   "cell_type": "markdown",
   "metadata": {},
   "source": [
    "Nå kan vi plotte løpeturen min med plot funksjonen"
   ]
  },
  {
   "cell_type": "markdown",
   "metadata": {},
   "source": [
    "### Oppgave 1d) Plotte avstandsmålinene mot tidsmålingene\n",
    "\n",
    "Bruk funksjonene `plot`, `title`, `xlabel`, `ylabel` og `show` til å lage et plott med følgende egenskaper:\n",
    "* måletidspunkt på x-aksen og måledistanser på y-aksen\n",
    "* tittelen \"løpetur\"\n",
    "* merkelappen \"Tid\" på x-aksen\n",
    "* merkelappen \"Distanse\" på y-aksen\n",
    "\n"
   ]
  },
  {
   "cell_type": "code",
   "execution_count": 6,
   "metadata": {},
   "outputs": [
    {
     "data": {
      "image/png": "[encoded data removed]",
      "text/plain": [
       "<Figure size 432x288 with 1 Axes>"
      ]
     },
     "metadata": {
      "needs_background": "light"
     },
     "output_type": "display_data"
    }
   ],
   "source": [
    "# Din kode her\n",
    "plot(måletidspunkt, måledistanser)\n",
    "\n",
    "title('Løpetur')\n",
    "xlabel('Tid')\n",
    "ylabel('Distanse')\n",
    "show()"
   ]
  },
  {
   "cell_type": "markdown",
   "metadata": {},
   "source": [
    "### Oppgave 1e) Refleksjonsoppgave\n",
    "Når løpte jeg raskest? Etter 0 sekunder, etter 10 sekunder eller etter 15?"
   ]
  },
  {
   "cell_type": "markdown",
   "metadata": {},
   "source": [
    "# Del 2: Hva er farten min underveis i turen?\n",
    "\n",
    "<img src=\"https://raw.githubusercontent.com/kodeskolen/tekna_h21_videre/main/dag2/notebooks_dag2/Numerisk derivasjon/bilder/stoppeklokker.png\" width=\"600px\">\n",
    "\n",
    "\n",
    "Vi starter med å velge et punkt vi vil finne tiden på, for eksempel $t = 10$s. La oss starte med å vise frem dette punktet med en prikk."
   ]
  },
  {
   "cell_type": "markdown",
   "metadata": {},
   "source": [
    "##  Fart er et mål på endring, så vi trenger to tidspunkt"
   ]
  },
  {
   "cell_type": "code",
   "execution_count": 7,
   "metadata": {},
   "outputs": [
    {
     "data": {
      "image/png": "[encoded data removed]",
      "text/plain": [
       "<Figure size 432x288 with 1 Axes>"
      ]
     },
     "metadata": {
      "needs_background": "light"
     },
     "output_type": "display_data"
    }
   ],
   "source": [
    "plot(måletidspunkt, måledistanser)\n",
    "\n",
    "plot(10, f(10), 'ro') # plott punkt\n",
    "plot(11, f(11), 'ro') # plott punkt\n",
    "plot([10, 11], [f(10), f(10)]) # plott endring i tid\n",
    "plot([11, 11], [f(10), f(11)]) # plott endring i strekning\n",
    "\n",
    "title('Løpetur')\n",
    "xlabel('Tid [s]')\n",
    "ylabel('Distanse [m]')\n",
    "show()"
   ]
  },
  {
   "cell_type": "markdown",
   "metadata": {},
   "source": [
    "Farten er endringen i strekning delt på endringen i tid. Vi kan se av plottet vårt at endringen i strekning er ganske stor mellom disse tidspunktene. \n",
    "\n",
    "Vi kan nå regne ut farten slik vi har gjorde tidligere:"
   ]
  },
  {
   "cell_type": "code",
   "execution_count": 8,
   "metadata": {},
   "outputs": [
    {
     "name": "stdout",
     "output_type": "stream",
     "text": [
      "Farten er 0.2310585786300049 m/s\n"
     ]
    }
   ],
   "source": [
    "fart = (f(11)-f(10))/(11-10)\n",
    "print(f'Farten er {fart} m/s')"
   ]
  },
  {
   "cell_type": "markdown",
   "metadata": {},
   "source": [
    "Hvis vi vil undersøke hvordan farten min endrer seg for forskjellige tidspunkt, må vi gjøre koden vår mer generell. Vi trenger variabler for tidspunktet vi vil se på og for hvor ofte vi måler. La oss kalle dem `t` og `dt`."
   ]
  },
  {
   "cell_type": "code",
   "execution_count": 9,
   "metadata": {},
   "outputs": [
    {
     "name": "stdout",
     "output_type": "stream",
     "text": [
      "Fart: 0.14973849934787742 m/s\n"
     ]
    },
    {
     "data": {
      "image/png": "[encoded data removed]",
      "text/plain": [
       "<Figure size 432x288 with 1 Axes>"
      ]
     },
     "metadata": {
      "needs_background": "light"
     },
     "output_type": "display_data"
    }
   ],
   "source": [
    "t = 11  # Tidspunktet vi ser på\n",
    "dt = 1  # Hvor stor er endringen i tid?\n",
    "\n",
    "måletidspunkt = arange(0, 20, dt)\n",
    "måledistanser = f(måletidspunkt)\n",
    "plot(måletidspunkt, måledistanser)\n",
    "\n",
    "plot(t, f(t), 'ro')\n",
    "plot(t+dt, f(t+dt), 'ro')\n",
    "\n",
    "# Plotte endring i tid\n",
    "plot((t, t+dt), (f(t), f(t)))\n",
    "\n",
    "# Plotte endring i strekning\n",
    "plot((t+dt, t+dt), (f(t), f(t+dt)))\n",
    "ds = f(t+dt) - f(t)\n",
    "\n",
    "fart = ds/dt\n",
    "print(f'Fart: {fart} m/s')\n",
    "\n",
    "# Pynte plottet med merkelapper og tittel\n",
    "title('Løpetur')\n",
    "xlabel('Tid')\n",
    "ylabel('Distanse')\n",
    "\n",
    "# Hvis frem plottet\n",
    "show()"
   ]
  },
  {
   "cell_type": "markdown",
   "metadata": {},
   "source": [
    "## Oppgave 2"
   ]
  },
  {
   "cell_type": "markdown",
   "metadata": {},
   "source": [
    "### Oppgave 2a)\n",
    "Kjør cellen over med forskjellige verdier av måletidspunkt. Hvordan endrer farten seg gjennom løpeturen? Hva er farten etter 2 sekunder? Hva med etter 15 sekunder?"
   ]
  },
  {
   "cell_type": "markdown",
   "metadata": {},
   "source": [
    "### Oppgave 2b)\n",
    "\n",
    "Lag en funksjon `plot_derivasjon(t)` som tar inn tidspunktet vi vil derivere funksjonen i, plotter funksjonen med en trekant som visualiserer den deriverte og printer ut den estimerte hastigheten i det gitte tidspunktet. (**Hint:** Ta utgangspunkt i koden over når du lager funksjonen)."
   ]
  },
  {
   "cell_type": "code",
   "execution_count": 14,
   "metadata": {},
   "outputs": [],
   "source": [
    "def plot_derivasjon(t):\n",
    "    # Gjøre beregninger\n",
    "    dt = 1\n",
    "    måletidspunkt = arange(0, 21, dt)\n",
    "    måledistanser = f(måletidspunkt)\n",
    "\n",
    "    # Tegne linjene\n",
    "    plot(måletidspunkt, måledistanser)\n",
    "\n",
    "    plot((t, t + dt), (f(t), f(t))) # plott endring i tid\n",
    "    plot((t + dt, t + dt), (f(t), f(t+dt))) # plott endring i strekning\n",
    "\n",
    "    # Pynte på plottet\n",
    "    title('Løpetur')\n",
    "    xlabel('Tid')\n",
    "    ylabel('Distanse')\n",
    "    \n",
    "    # Regne ut farten\n",
    "    avstands_endring = f(t+dt)-f(t)\n",
    "    fart = (avstands_endring/(dt))\n",
    "    print(f'Farten er {fart} m/s')"
   ]
  },
  {
   "cell_type": "markdown",
   "metadata": {},
   "source": [
    "### Oppgave 2c)\n",
    "\n",
    "Bruk `interact`-funksjonen til å knytte `plot_derivasjon`-funksjonen opp mot en glidebryter som lar brukeren velge `t`-variabelen."
   ]
  },
  {
   "cell_type": "code",
   "execution_count": 15,
   "metadata": {},
   "outputs": [
    {
     "data": {
      "application/vnd.jupyter.widget-view+json": {
       "model_id": "0d52584079f840479e7433215d099c3b",
       "version_major": 2,
       "version_minor": 0
      },
      "text/plain": [
       "interactive(children=(IntSlider(value=10, description='t', max=20), Output()), _dom_classes=('widget-interact'…"
      ]
     },
     "metadata": {},
     "output_type": "display_data"
    },
    {
     "data": {
      "text/plain": [
       "<function __main__.plot_derivasjon(t)>"
      ]
     },
     "execution_count": 15,
     "metadata": {},
     "output_type": "execute_result"
    }
   ],
   "source": [
    "interact(plot_derivasjon, t=(0,20))"
   ]
  },
  {
   "cell_type": "markdown",
   "metadata": {},
   "source": [
    "### Oppgave 2c)\n",
    "\n",
    "Vi ønsker å estimere momentanfarten, og for å gjøre det må vi la `dt` bli veldig liten. Modifiser koden du skrev i oppgave 2b) slik at `dt` er en parameter til `plot_derivasjon`-funksjonen. Knytt den opp mot en glidebryter som har verdier mellom 0.0 og 1.0. (**Hint:** Husk desimaltegnet slik at `interact`-funksjonen vet at `dt`-parameteren ikke er et heltall)"
   ]
  },
  {
   "cell_type": "code",
   "execution_count": 16,
   "metadata": {},
   "outputs": [
    {
     "data": {
      "application/vnd.jupyter.widget-view+json": {
       "model_id": "96465df86a644ecbbe2e73244055824e",
       "version_major": 2,
       "version_minor": 0
      },
      "text/plain": [
       "interactive(children=(IntSlider(value=10, description='t', max=20), FloatSlider(value=0.5, description='dt', m…"
      ]
     },
     "metadata": {},
     "output_type": "display_data"
    },
    {
     "data": {
      "text/plain": [
       "<function __main__.plot_derivasjon(t, dt)>"
      ]
     },
     "execution_count": 16,
     "metadata": {},
     "output_type": "execute_result"
    }
   ],
   "source": [
    "def plot_derivasjon(t, dt):\n",
    "    # Gjøre beregninger\n",
    "    måletidspunkt = arange(0, 21, dt)\n",
    "    måledistanser = f(måletidspunkt)\n",
    "\n",
    "    # Tegne linjene\n",
    "    plot(måletidspunkt, måledistanser)\n",
    "\n",
    "    plot((t, t + dt), (f(t), f(t))) # plott endring i tid\n",
    "    plot((t + dt, t + dt), (f(t), f(t+dt))) # plott endring i strekning\n",
    "\n",
    "    # Pynte på plottet\n",
    "    title('Løpetur')\n",
    "    xlabel('Tid')\n",
    "    ylabel('Distanse')\n",
    "    \n",
    "    # Regne ut farten\n",
    "    avstands_endring = f(t+dt)-f(t)\n",
    "    fart = (avstands_endring/(dt))\n",
    "    print(f'Farten er {fart} m/s')\n",
    "    \n",
    "interact(plot_derivasjon, t=(0, 20), dt=(0.0, 1.0))"
   ]
  },
  {
   "cell_type": "markdown",
   "metadata": {},
   "source": [
    "### Oppgave 2d)\n",
    "Hva skjer når du varierer på `dt`-parameteren? Hva skjer om du setter `dt` til null?"
   ]
  },
  {
   "cell_type": "markdown",
   "metadata": {},
   "source": [
    "<center>\n",
    "    <img src=\"https://raw.githubusercontent.com/kodeskolen/tekna_h21_videre/main/dag2/notebooks_dag2/Numerisk derivasjon/bilder/pexels-photo-3425443.jpeg\" width=\"200px\" style=\"display: inline\" />\n",
    "    <img src=\"https://raw.githubusercontent.com/kodeskolen/tekna_h21_videre/main/dag2/notebooks_dag2/Numerisk derivasjon/bilder/athletes-running-on-track-and-field-oval-in-grayscale-34514.jpg\" width=\"400px\" style=\"display: inline\">\n",
    "    \n",
    "<p style=\"text-align: center\"><strong>Refleksjonsspørsmål:</strong> Hva er farten til løperne på bildet?</p>\n",
    "</center>"
   ]
  },
  {
   "cell_type": "markdown",
   "metadata": {},
   "source": [
    "### OBS:\n",
    "Hvis vi leker rundt med sliderene ser vi at den gule og grønne linja av og til ikke helt passer med den blå linja. Grunnen til det er at måten vi tegner opp den blå linja er ved å regne ut x og y verdiene til linja på visse punkter og trekke rette streker mellom disse punktene. Det er ikke alltid de punktene vi har regnet ut x og y verdiene til den blå linja er de samme som de vi brukte for å tegne opp den gule og grønne linja, og da kan dette skje. For å demonstrere dette kan du sette `tidspunkt=11` og `dt=0.60`."
   ]
  },
  {
   "cell_type": "markdown",
   "metadata": {},
   "source": [
    "## Oppgave 3: Regne ut farten i alle tidspunkt\n",
    "Over skrev vi kode som regner ut farten til en parametrisert løpetur i et hvilket som helst tidspunkt. Nå er vi interessert i å regne ut farten i alle tidspunkt.\n",
    "\n",
    "### Oppgave 3a)\n",
    "Fyll inn den manglende koden under slik at `fart`-arrayen inneholder et estimat på den deriverte til `måledistanser`. Husk at den deriverte er gitt ved\n",
    "\n",
    "$$ f'(t) = \\lim_{\\Delta t \\to 0} \\frac{f(t + \\Delta t) - f(t)}{\\Delta t},$$\n",
    "\n",
    "hvor $f(t)$ representerer måledistansen ved måletidspunkt $t$."
   ]
  },
  {
   "cell_type": "code",
   "execution_count": 17,
   "metadata": {},
   "outputs": [
    {
     "data": {
      "image/png": "[encoded data removed]",
      "text/plain": [
       "<Figure size 432x288 with 1 Axes>"
      ]
     },
     "metadata": {
      "needs_background": "light"
     },
     "output_type": "display_data"
    }
   ],
   "source": [
    "# Kode for å lage plot av farten for hvert tidspunkt her\n",
    "dt = 0.01\n",
    "\n",
    "måletidspunkt = arange(0, 20+dt, dt)\n",
    "måledistanser = f(måletidspunkt)\n",
    "\n",
    "antall_tidspunkt = len(måledistanser)\n",
    "\n",
    "fart = zeros(antall_tidspunkt-1)\n",
    "for t in range(antall_tidspunkt - 1):\n",
    "    fart[t] = (måledistanser[t+1] - måledistanser[t]) / dt\n",
    "    \n",
    "plot(måletidspunkt[1:], fart)\n",
    "show()"
   ]
  },
  {
   "cell_type": "markdown",
   "metadata": {},
   "source": [
    "### Oppgave 3b)\n",
    "Modifiser verdien for `dt` i cellen over. Hva skjer når du gjør `dt` stor, veldig liten og lik 0?"
   ]
  },
  {
   "cell_type": "code",
   "execution_count": 19,
   "metadata": {},
   "outputs": [
    {
     "data": {
      "application/vnd.jupyter.widget-view+json": {
       "model_id": "e134e173840b40dea040d114b9f47154",
       "version_major": 2,
       "version_minor": 0
      },
      "text/plain": [
       "interactive(children=(FloatSlider(value=1.0, description='dt', max=2.0), Output()), _dom_classes=('widget-inte…"
      ]
     },
     "metadata": {},
     "output_type": "display_data"
    },
    {
     "data": {
      "text/plain": [
       "<function __main__.plot_deriverte(dt=1)>"
      ]
     },
     "execution_count": 19,
     "metadata": {},
     "output_type": "execute_result"
    }
   ],
   "source": [
    "def plot_deriverte(dt=1):\n",
    "    måletidspunkt = arange(0, 21, dt)\n",
    "    måledistanser = f(måletidspunkt)\n",
    "    antall_tidssteg = len(måletidspunkt)\n",
    "    \n",
    "    endring_distanse = zeros(antall_tidssteg - 1)\n",
    "    for i in range(antall_tidssteg - 1):\n",
    "        endring_distanse[i] = måledistanser[i+1] - måledistanser[i] \n",
    "    fart = endring_distanse/dt\n",
    "    \n",
    "    plot(måletidspunkt[1:], fart) # hvorfor hopper vi over første tidspunkt?\n",
    "\n",
    "\n",
    "    title('Løpetur')\n",
    "    xlabel('Tid')\n",
    "    ylabel('Fart')\n",
    "    show()\n",
    "\n",
    "interact(plot_deriverte, dt=(0.0, 2.0))"
   ]
  },
  {
   "cell_type": "markdown",
   "metadata": {},
   "source": [
    "### Oppgave 3c)\n",
    "Modifiser koden under slik at, `deriver(avstandsmålinger, dt)` tar inn en array av avstandsmålinger og hvort stort tidsinterval som er mellom hver måling og returnerer en array med den tilhørende farten."
   ]
  },
  {
   "cell_type": "code",
   "execution_count": 23,
   "metadata": {},
   "outputs": [],
   "source": [
    "def deriver(avstandsmålinger, dt):\n",
    "    \"\"\"Ta inn array av avstandsmålinger og dt og returner tilhørende fart.\n",
    "    \"\"\"\n",
    "    antall_målinger = len(avstandsmålinger)\n",
    "    fart = zeros(antall_målinger-1)\n",
    "    \n",
    "    # Kode for å lagre den deriverte til avstandsmålinger i fart-variabelen her\n",
    "    for t in range(antall_målinger - 1):\n",
    "        fart[t] = (avstandsmålinger[t+1] - avstandsmålinger[t]) / dt\n",
    "        \n",
    "    return fart"
   ]
  },
  {
   "cell_type": "markdown",
   "metadata": {},
   "source": [
    "### Oppgave 3d)"
   ]
  },
  {
   "cell_type": "markdown",
   "metadata": {},
   "source": [
    "Nå kan vi bruke funksjonen til å derivere hvilken som helst funksjon, så lenge vi har en array med målinger. Cellen under lager først et plot av $g(x) = cos(x) + x$ for $x = 0 - 10$. Så deriveres funksjonen og plotter den deriverte under i et eget plot. Modifiser koden slik at den deriverer funksjonen $ h(x) = (sin(x) + 1)^x $ istedenfor $g(x)$."
   ]
  },
  {
   "cell_type": "code",
   "execution_count": 24,
   "metadata": {},
   "outputs": [
    {
     "data": {
      "image/png": "[encoded data removed]",
      "text/plain": [
       "<Figure size 432x288 with 1 Axes>"
      ]
     },
     "metadata": {
      "needs_background": "light"
     },
     "output_type": "display_data"
    },
    {
     "data": {
      "image/png": "[encoded data removed]",
      "text/plain": [
       "<Figure size 432x288 with 1 Axes>"
      ]
     },
     "metadata": {
      "needs_background": "light"
     },
     "output_type": "display_data"
    }
   ],
   "source": [
    "# Definere funksjonen som skal deriveres\n",
    "def g(x):\n",
    "    return cos(x)+x \n",
    "\n",
    "def h(x):\n",
    "    return (sin(x) + 1)**x\n",
    "\n",
    "# Definere størrelsen på tidsintervallet (dt)\n",
    "dt = 0.1\n",
    "\n",
    "# Lage arrayer med 'måletidspunkt' og 'målinger'\n",
    "x_verdier = arange(0, 10, dt)\n",
    "y_verdier = h(x_verdier)\n",
    "\n",
    "# Tegne plot av funksjonen\n",
    "plot(x_verdier, y_verdier)\n",
    "title('h(x)')\n",
    "show()\n",
    "\n",
    "# Bruke numerisk derivasjon til å derivere funksjonen\n",
    "fart_verdier = deriver(y_verdier, dt)\n",
    "\n",
    "# Tegne plot av den deriverte\n",
    "plot(x_verdier[:-1], fart_verdier)\n",
    "title('deriverte til h(x)')\n",
    "show()"
   ]
  },
  {
   "cell_type": "markdown",
   "metadata": {},
   "source": [
    "# Del 3:  Numerisk derivasjon av ekte data\n",
    "\n",
    "Vi har laget et bibliotek, `distanse_finner`, som kan laste inn GPS koordinater i CSV-format fra [GPSLogger for Android](https://gpslogger.app) eller GPX-format fra generelle GPS-loggere. Nedenfor er kode for å installere dette biblioteket, laste inn data fra en fil (i dette tilfelle, en sykkeltur fra Sagene i Oslo til Oslo Sentrum)."
   ]
  },
  {
   "cell_type": "code",
   "execution_count": 25,
   "metadata": {},
   "outputs": [
    {
     "name": "stdout",
     "output_type": "stream",
     "text": [
      "Requirement already satisfied: distanse_finner in /Users/marie/.local/lib/python3.8/site-packages (0.0.9)\r\n"
     ]
    }
   ],
   "source": [
    "# Her installerer vi distanse_finner pakken som lar oss regne ut hvor langt vi har\n",
    "# bevegd oss fra GPS data.\n",
    "!pip install distanse_finner --user --upgrade"
   ]
  },
  {
   "cell_type": "code",
   "execution_count": 26,
   "metadata": {},
   "outputs": [],
   "source": [
    "from distanse_finner import last_uniform_data"
   ]
  },
  {
   "cell_type": "code",
   "execution_count": 27,
   "metadata": {},
   "outputs": [
    {
     "data": {
      "image/png": "[encoded data removed]",
      "text/plain": [
       "<Figure size 432x288 with 1 Axes>"
      ]
     },
     "metadata": {
      "needs_background": "light"
     },
     "output_type": "display_data"
    }
   ],
   "source": [
    "dt_s = 5  # Fem sekund mellom hver måling\n",
    "tidspunkt_s, avstander_km = last_uniform_data('20200516.csv', dt_s)\n",
    "\n",
    "plot(tidspunkt_s, avstander_km)\n",
    "xlabel('Tid')\n",
    "ylabel('Strekning')\n",
    "title('Sykkeltur')\n",
    "show()"
   ]
  },
  {
   "cell_type": "markdown",
   "metadata": {},
   "source": [
    "Koden under kan du bruke for å regne ut hastigheten til denne sykkelturen."
   ]
  },
  {
   "cell_type": "code",
   "execution_count": 28,
   "metadata": {},
   "outputs": [
    {
     "data": {
      "image/png": "[encoded data removed]",
      "text/plain": [
       "<Figure size 432x288 with 1 Axes>"
      ]
     },
     "metadata": {
      "needs_background": "light"
     },
     "output_type": "display_data"
    }
   ],
   "source": [
    "fart = deriver(avstander_km, dt_s) #km/s\n",
    "fart = fart*3600 # km/h\n",
    "\n",
    "plot(tidspunkt_s[1:], fart)\n",
    "\n",
    "xlabel('Tid')\n",
    "ylabel('Fart')\n",
    "title('Sykkeltur')\n",
    "show()"
   ]
  }
 ],
 "metadata": {
  "kernelspec": {
   "display_name": "Python 3",
   "language": "python",
   "name": "python3"
  },
  "language_info": {
   "codemirror_mode": {
    "name": "ipython",
    "version": 3
   },
   "file_extension": ".py",
   "mimetype": "text/x-python",
   "name": "python",
   "nbconvert_exporter": "python",
   "pygments_lexer": "ipython3",
   "version": "3.8.8"
  }
 },
 "nbformat": 4,
 "nbformat_minor": 2
}
