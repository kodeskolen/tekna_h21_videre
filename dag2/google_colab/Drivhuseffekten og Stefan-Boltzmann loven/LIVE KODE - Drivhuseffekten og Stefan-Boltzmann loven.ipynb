{
 "cells": [
  {
   "cell_type": "markdown",
   "id": "77d6b4fa",
   "metadata": {},
   "source": [
    "# Klimamodeller og svarte legemer\n",
    "\n",
    "I denne notebooken skal vi se på hvordan vi kan lage enkle klimamodeller.\n",
    "\n",
    "<img src=\"https://raw.githubusercontent.com/kodeskolen/tekna_h21_videre/main/dag2/notebooks_dag2/Drivhuseffekten og Stefan-Boltzmann loven/bilder/klimamodell.png\" width=\"800px\">"
   ]
  },
  {
   "cell_type": "code",
   "execution_count": null,
   "id": "7d9c1836",
   "metadata": {},
   "outputs": [],
   "source": [
    "from pylab import pi"
   ]
  },
  {
   "cell_type": "markdown",
   "id": "fb3a57dd",
   "metadata": {},
   "source": [
    "## Stefan-Boltzmann loven\n",
    "\n",
    "\n",
    "$\\Large{\\text{P}_{\\text{legeme}} = \\sigma T^4 A,} $\n",
    "\n",
    "$\\Large{\\sigma = 5.6704~\\text{Wm}^{-2}\\text{K}^{-4}}$"
   ]
  },
  {
   "cell_type": "code",
   "execution_count": null,
   "id": "f0e1f465",
   "metadata": {},
   "outputs": [],
   "source": [
    "def finn_effekt(temperatur, areal):\n",
    "    \"\"\"Bruker Stefan-Boltzmann loven for å regne ut utstrålt effekt av et svart legeme.\n",
    "    \"\"\"\n",
    "    sigma = 5.6704e-8  # W m^(-2) K^(-4)\n",
    "    # Kode her..."
   ]
  },
  {
   "cell_type": "markdown",
   "id": "945df700",
   "metadata": {},
   "source": [
    "## Solens utstrålte effekt\n",
    "$\\Large{A_{\\text{sol}} = 4 \\pi r_{\\text{sol}}^2}$\n",
    "\n",
    "$\\Large{r_{\\text{sol}} = 696~340~000~\\text{m}}$"
   ]
  },
  {
   "cell_type": "code",
   "execution_count": null,
   "id": "1c064d77",
   "metadata": {},
   "outputs": [],
   "source": [
    "def finn_kuleskallareal(radius):\n",
    "    \"\"\"Regner ut arealet til et kuleskall med gitt radius\"\"\"\n",
    "    # Kode her ...\n",
    "\n",
    "soltemperatur = 5_778 # K\n",
    "solradius = 696_340_000 # m\n",
    "\n",
    "# Kode her..."
   ]
  },
  {
   "cell_type": "code",
   "execution_count": null,
   "id": "a92c1806",
   "metadata": {},
   "outputs": [],
   "source": [
    "panelovner = sol_utstrålt_effekt / 2000\n",
    "avstand_proxima_centauri = 4.01703e+16\n",
    "panelovnlengde = panelovner  / avstand_proxima_centauri\n",
    "print(f\"Solen stråler ut {sol_utstrålt_effekt:.2E} W, nok energi til å holde {panelovner:.0f} panelovner varme.\")\n",
    "print(f\"Det er nok panelovner til å nå vår nærmeste stjerne, Proxima Centauri, {panelovnlengde:,.0f} ganger hvis vi stabler dem oppå hverandre.\")"
   ]
  },
  {
   "cell_type": "markdown",
   "id": "5014c5be",
   "metadata": {},
   "source": [
    "## Solkonstanten: solens flukstetthet ved jorden"
   ]
  },
  {
   "cell_type": "markdown",
   "id": "f51f1a04",
   "metadata": {},
   "source": [
    "$\\Large{G_{SC} = \\frac{\\text{P}_{\\text{sol}}^{\\text{ut}}}{A_{\\text{sol til jord}}}}$\n",
    "\n",
    "$\\Large{d_{\\text{sol til jord}} = 148~880~000~000~m}$"
   ]
  },
  {
   "cell_type": "code",
   "execution_count": null,
   "id": "21eebbe1",
   "metadata": {},
   "outputs": [],
   "source": [
    "avstand_fra_jord_til_sol = 148_880_000_000  # m\n",
    "# Kode her..."
   ]
  },
  {
   "cell_type": "markdown",
   "id": "cf3832de",
   "metadata": {},
   "source": [
    "Solkonstantens faktiske verdi er mellom 1361 og 1367, avhengig av hvordan den måles. \n",
    "\n",
    "**Spørsmål til refleksjon:** Hva kan være noen mulige årsaker til vårt overestimat?\n",
    "\n",
    "**Mulige svar:**\n",
    "\n",
    " * Solens temperatur eller avstand er ikke nøyaktig målt\n",
    " * Noe av energien blir absorbert mellom solen og jorden\n",
    " * Jorden følger ikke en sirkulær bane med solen i sentrum\n"
   ]
  },
  {
   "cell_type": "markdown",
   "id": "543e5c68",
   "metadata": {},
   "source": [
    "## Jordens innstrålte effekt\n",
    "\n",
    "$\\Large{P_{\\text{sol}} = G_{SC} A_{\\text{tverrsnitt}},}$\n",
    "\n",
    "$G_{SC}$ er solkonstanten vi regnet ut over og $A_{\\text{tverrsnitt}}$ er jordens *tverrsnittsareal*. \n",
    "\n",
    "$\\Large{r_{\\text{jord}} = 6~371~000~m}$\n",
    "\n",
    "<img src=\"https://raw.githubusercontent.com/kodeskolen/tekna_h21_videre/main/dag2/notebooks_dag2/Drivhuseffekten og Stefan-Boltzmann loven/bilder/belysningsareal.png\" width=\"200px\">"
   ]
  },
  {
   "cell_type": "code",
   "execution_count": null,
   "id": "e5b66535",
   "metadata": {},
   "outputs": [],
   "source": [
    "jordradius = 6_371_000\n",
    "# Kode her"
   ]
  },
  {
   "cell_type": "markdown",
   "id": "553588a9",
   "metadata": {},
   "source": [
    "## Energibalanse, jordtemperatur og Stefan-Boltzmann loven\n",
    "\n",
    "$\\Large{\\text{Innstrålt effekt} = \\text{Utstrålt effekt}}$\n",
    "\n",
    "$\\Large{\\text{P}_{\\text{sol}} = \\text{P}_{\\text{jord}}}$\n",
    "<img src=\"https://raw.githubusercontent.com/kodeskolen/tekna_h21_videre/main/dag2/notebooks_dag2/Drivhuseffekten og Stefan-Boltzmann loven/bilder/energibudsjett.png\" width=\"400px\">"
   ]
  },
  {
   "cell_type": "markdown",
   "id": "f0793b6a",
   "metadata": {},
   "source": [
    "$\\Large{T_{\\text{jord}} = \\left(\\frac{\\text{P}_{\\text{jord}}}{\\sigma A}\\right)^{\\frac{1}{4}}}$"
   ]
  },
  {
   "cell_type": "code",
   "execution_count": null,
   "id": "e8595dd7",
   "metadata": {},
   "outputs": [],
   "source": [
    "def finn_temperatur(utstrålt_effekt, areal):\n",
    "    \"\"\"Bruker Stefan-Boltzmann loven for å regne ut temperaturen til et svart legeme basert på utstrålt effekt.\n",
    "    \"\"\"\n",
    "    sigma = 5.6704e-8  # W m^(-2) K^(-4)\n",
    "    # Din kode her...\n"
   ]
  },
  {
   "cell_type": "markdown",
   "id": "fbeb2c33",
   "metadata": {},
   "source": [
    "## Skyene reflekterer solen før den treffer jorden\n",
    "$\\Large{(1 - \\alpha) \\text{P}_{\\text{sol}} = \\text{P}_{\\text{jord}}}$\n",
    "\n",
    "$\\Large{\\alpha = 0.3}$\n",
    "<img src=\"https://raw.githubusercontent.com/kodeskolen/tekna_h21_videre/main/dag2/notebooks_dag2/Drivhuseffekten og Stefan-Boltzmann loven/bilder/energibudsjett_med_albedo.png\" width=\"400px\">"
   ]
  },
  {
   "cell_type": "code",
   "execution_count": null,
   "id": "bbdb211a",
   "metadata": {},
   "outputs": [],
   "source": [
    "albedo = 0.3\n",
    "# Kode her"
   ]
  }
 ],
 "metadata": {
  "kernelspec": {
   "display_name": "Python 3",
   "language": "python",
   "name": "python3"
  },
  "language_info": {
   "codemirror_mode": {
    "name": "ipython",
    "version": 3
   },
   "file_extension": ".py",
   "mimetype": "text/x-python",
   "name": "python",
   "nbconvert_exporter": "python",
   "pygments_lexer": "ipython3",
   "version": "3.8.8"
  }
 },
 "nbformat": 4,
 "nbformat_minor": 5
}
