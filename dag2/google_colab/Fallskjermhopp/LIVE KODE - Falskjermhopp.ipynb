{
 "cells": [
  {
   "cell_type": "markdown",
   "id": "5e0a87f7",
   "metadata": {},
   "source": [
    "# Simulering av fallskjermhopp"
   ]
  },
  {
   "cell_type": "code",
   "execution_count": null,
   "id": "87931fd7",
   "metadata": {},
   "outputs": [],
   "source": [
    "from pylab import plot, show, subplot, xlabel, ylabel, figure, legend, array"
   ]
  },
  {
   "cell_type": "markdown",
   "id": "b2df55a5",
   "metadata": {},
   "source": [
    "## Fallskjermhopp uten luftmotstand\n",
    "\n",
    "<img src=\"https://raw.githubusercontent.com/kodeskolen/tekna_h21_videre/main/dag2/notebooks_dag2/Fallskjermhopp/bilder/fallskjermhopp_uten_luftmotstand.png\" width=\"200px\" />\n",
    "\n",
    "### Krefter\n",
    "$\n",
    "\\Large{G = m g}\n",
    "$\n",
    "\n",
    "$\n",
    "\\Large{\\sum F = -G = m a, \\qquad a = \\frac{\\sum F}{m}}\n",
    "$\n",
    "### Bevegelseslikninger\n",
    "$\n",
    "\\Large{h(t) = h_0 + v_0 t + \\frac{1}{2} a t^2}\n",
    "$\n",
    "\n",
    "$\n",
    "\\Large{v(t) = v_0 + a t}\n",
    "$\n",
    "### Bevegelseslikningene som Python-funksjoner"
   ]
  },
  {
   "cell_type": "code",
   "execution_count": null,
   "id": "d72a9bb7",
   "metadata": {},
   "outputs": [],
   "source": []
  },
  {
   "cell_type": "markdown",
   "id": "ab6d3300",
   "metadata": {},
   "source": [
    "### Simulere fallskjermhopp\n",
    "For å simulere fallskjermhoppet, må vi definere noen parametre: Fallskjermhopperens masse, $m$, gravitasjonskonstanten, $g$ og initialbetingelsene, $h_0$ og $v_0$. Vi må og definere hvor lenge fallskjermhopperen skal være i luften slik at vi kan finne hastigheten og høyden på det tidspunktet.\n",
    "\n",
    "|Mening                   | Størrelse               | Verdi                               | Enhet |\n",
    "|:------------------------|:------------------------|:------------------------------------|:-|\n",
    "|Gravitasjonskonstant     | $g$                     | $9.81$                              | $\\tfrac{\\text{m}}{\\text{s}^2}$ |\n",
    "|Masse                    | $m$                     | $90$                                | $\\text{kg}$  |\n",
    "|Startshøyde              | $h_0$                   | $1000$                              | $\\text{m}$   |\n",
    "|Startshastighet          | $v_0$                   | $0$                                 | $\\tfrac{\\text{m}}{\\text{s}}$ |\n"
   ]
  },
  {
   "cell_type": "code",
   "execution_count": null,
   "id": "86065336",
   "metadata": {},
   "outputs": [],
   "source": [
    "g = 9.81  # m/s/s\n",
    "m = 90  # kg\n",
    "\n",
    "h0 = 1000  # m\n",
    "v0 = 0  # m/s"
   ]
  },
  {
   "cell_type": "markdown",
   "id": "befbc634",
   "metadata": {},
   "source": [
    "## Fallskjermhopp med luftmotstand\n",
    "\n",
    "<div style=\"width:100%;overflow:auto\" >\n",
    "<img src=\"https://raw.githubusercontent.com/kodeskolen/tekna_h21_videre/main/dag2/notebooks_dag2/Fallskjermhopp/bilder/fallskjermhopp_med_luftmotstand_1.png\" width=\"200px\" align=\"left\" />\n",
    "</div>\n",
    "\n",
    "### Krefter\n",
    "$\\large{\\sum F = D - G}$\n",
    "\n",
    "\n",
    "$\\large{a = \\frac{\\sum F}{m}}$\n",
    "\n",
    "### Luftmotstanden, D\n",
    "$\\large{D(v) = \\frac{1}{2}\\rho C A v^2}$\n",
    "\n",
    "hvor $\\rho$ er volumtettheten til lufta, $A$ er tverrsnittsarealet til objektet som faller, $C$ er en konstant som beskriver hvor *aerodynamisk form* objektet som faller har og $v$ er hastigheten til det som faller. La oss starte med å lage en funksjon som regner ut luftmotstanden basert på disse størrelsene."
   ]
  },
  {
   "cell_type": "code",
   "execution_count": null,
   "id": "8edfacf4",
   "metadata": {},
   "outputs": [],
   "source": []
  },
  {
   "cell_type": "markdown",
   "id": "3293f00a",
   "metadata": {},
   "source": [
    "Nå som vi har en funksjon for å regne ut luftmotstanden må vi vite hva størrelsene $\\rho$, $A$ og $C$ er. Disse størrelsene har vi for både et menneske og en fallskjerm i tabellen under\n",
    "\n",
    "|Mening                   | Størrelse               | Verdi                               | Enhet |\n",
    "|:------------------------|:------------------------|:------------------------------------|:-|\n",
    "|Gravitasjonskonstant     | $g$                     | $9.81$                              | $\\tfrac{\\text{m}}{\\text{s}^2}$ |\n",
    "|Masse                    | $m$                     | $90$                                | $\\text{kg}$  |\n",
    "|Startshøyde              | $h_0$                   | $1000$                              | $\\text{m}$   |\n",
    "|Startshastighet          | $v_0$                   | $0$                                 | $\\tfrac{\\text{m}}{\\text{s}}$ |\n",
    "|Luftens volumtetthet     | $\\rho$                  | $1$                                 | $\\tfrac{\\text{kg}}{\\text{m}^3}$ |\n",
    "|Tverrsnittsareal         | $A_{\\text{menneske}}$   | $0.7$                               | $\\text{m}^2$ |\n",
    "|Mål på aerodynamisk form | $C_{\\text{menneske}}$   | $1.4$                               | |\n",
    "\n",
    "\n",
    "La oss først prøve en simulering hvor vi bruker likningene for konstant akselerasjon men hvor vi tar med luftmotstand."
   ]
  },
  {
   "cell_type": "code",
   "execution_count": null,
   "id": "5794d3d6",
   "metadata": {},
   "outputs": [],
   "source": [
    "g = 9.81  # m/s/s\n",
    "m = 90  # kg\n",
    "\n",
    "h0 = 1000  # m\n",
    "v0 = 0  # m/s\n",
    "\n",
    "C = 1.4 \n",
    "A = 0.7  # m^2\n",
    "rho = 1  # kg/m^3"
   ]
  },
  {
   "cell_type": "markdown",
   "id": "dc148d04",
   "metadata": {},
   "source": [
    "### Lengre simulering med luftmotstand"
   ]
  },
  {
   "cell_type": "code",
   "execution_count": null,
   "id": "05df84d7",
   "metadata": {},
   "outputs": [],
   "source": []
  },
  {
   "cell_type": "code",
   "execution_count": null,
   "id": "1a5f7145",
   "metadata": {},
   "outputs": [],
   "source": [
    "g = 9.81  # m/s/s\n",
    "m = 90  # kg\n",
    "\n",
    "h0 = 1000  # m\n",
    "v0 = 0  # m/s\n",
    "\n",
    "C = 1.4 \n",
    "A = 0.7  # m^2\n",
    "rho = 1  # kg/m^3\n"
   ]
  },
  {
   "cell_type": "markdown",
   "id": "6c21dd9a",
   "metadata": {},
   "source": [
    "## Visualisere hoppet"
   ]
  },
  {
   "cell_type": "code",
   "execution_count": null,
   "id": "4c8a819b",
   "metadata": {},
   "outputs": [],
   "source": []
  },
  {
   "cell_type": "markdown",
   "id": "c6948686",
   "metadata": {},
   "source": [
    "## Utløse fallskjermen\n",
    "\n",
    "<div style=\"width:400px; \">\n",
    "<img src=\"https://raw.githubusercontent.com/kodeskolen/tekna_h21_videre/main/dag2/notebooks_dag2/Fallskjermhopp/bilder/fallskjermhopp_med_luftmotstand_1.png\" width=\"200px\" align=\"left\" />\n",
    "<img src=\"https://raw.githubusercontent.com/kodeskolen/tekna_h21_videre/main/dag2/notebooks_dag2/Fallskjermhopp/bilder/fallskjermhopp_med_luftmotstand_2.png\" width=\"200px\" />\n",
    "</div>\n",
    "\n",
    "|Mening                   | Størrelse               | Verdi                               | Enhet |\n",
    "|:------------------------|:------------------------|:------------------------------------|:-|\n",
    "|Gravitasjonskonstant     | $g$                     | $9.81$                              | $\\tfrac{\\text{m}}{\\text{s}^2}$ |\n",
    "|Masse                    | $m$                     | $90$                                | $\\text{kg}$  |\n",
    "|Startshøyde              | $h_0$                   | $1000$                              | $\\text{m}$   |\n",
    "|Startshastighet          | $v_0$                   | $0$                                 | $\\tfrac{\\text{m}}{\\text{s}}$ |\n",
    "|Luftens volumtetthet     | $\\rho$                  | $1$                                 | $\\tfrac{\\text{kg}}{\\text{m}^3}$ |\n",
    "|Tverrsnittsareal         | $A_{\\text{menneske}}$   | $0.7$                               | $\\text{m}^2$ |\n",
    "|Mål på aerodynamisk form | $C_{\\text{menneske}}$   | $1.4$                               | |\n",
    "|Tverrsnittsareal         | $A_{\\text{fallskjerm}}$   | $44$                               | $\\text{m}^2$ |\n",
    "|Mål på aerodynamisk form | $C_{\\text{fallskjerm}}$   | $1.8$                               | |"
   ]
  },
  {
   "cell_type": "code",
   "execution_count": null,
   "id": "babb4b5a",
   "metadata": {
    "scrolled": true
   },
   "outputs": [],
   "source": [
    "g = 9.81  # m/s/s\n",
    "m = 90  # kg\n",
    "\n",
    "h0 = 1000  # m\n",
    "v0 = 0  # m/s"
   ]
  },
  {
   "cell_type": "markdown",
   "id": "d4b562b3",
   "metadata": {},
   "source": [
    "## Gradvis utløsing av fallskjermen\n",
    "For å løse ut fallskjermen saktere, starter vi med spesifisere hvor mange sekunder det tar å løse ut fallskjermen, $\\Delta t_{\\text{utløsning}}$. For hver iterasjon sjekker vi da om \n",
    "$$t_{\\text{utløsning}} < t < t_{\\text{utløsning}} + \\Delta t_{\\text{utløsning}},$$\n",
    "og hvis denne betingelsen er oppfylt, så øker vi $A$ og $C$ litt.\n",
    "\n",
    "For å øke $A$ og $C$ litt, bruker vi denne formelen for $A$\n",
    "$$A = \\begin{cases}\n",
    "A_\\text{menneske} & , t < t_{\\text{utløsning}} \\\\\n",
    "A_\\text{menneske} + \\frac{t - t_\\text{utløsning}}{\\Delta t_{\\text{utløsning}}}(A_\\text{fallskjerm} - A_\\text{menneske}) & , t_{\\text{utløsning}} \\leq t < t_{\\text{utløsning}} + \\Delta t_{\\text{utløsning}} \\\\\n",
    "A_\\text{fallskjerm} & , t_{\\text{utløsning}} + \\Delta t_{\\text{utløsning}} \\leq t\n",
    "\\end{cases}$$\n",
    "og denne formelen for $C$\n",
    "$$C = \\begin{cases}\n",
    "C_\\text{menneske} & , t < t_{\\text{utløsning}} \\\\\n",
    "C_\\text{menneske} + \\frac{t - t_\\text{utløsning}}{\\Delta t_{\\text{utløsning}}}(C_\\text{fallskjerm} - C_\\text{menneske}) & , t_{\\text{utløsning}} \\leq t < t_{\\text{utløsning}} + \\Delta t_{\\text{utløsning}} \\\\\n",
    "C_\\text{fallskjerm} & , t_{\\text{utløsning}} + \\Delta t_{\\text{utløsning}} \\leq t\n",
    "\\end{cases}$$"
   ]
  },
  {
   "cell_type": "code",
   "execution_count": null,
   "id": "a19d4b53",
   "metadata": {},
   "outputs": [],
   "source": [
    "g = 9.81  # m/s/s\n",
    "m = 90  # kg\n",
    "\n",
    "h0 = 1000  # m\n",
    "v0 = 0  # m/s\n",
    "\n",
    "dt = 0.01\n",
    "\n",
    "h = h0\n",
    "v = v0\n",
    "t = 0\n",
    "\n",
    "h_liste = [h]\n",
    "v_liste = [v]\n",
    "t_liste = [t]\n",
    "a_liste = [-g]\n",
    "\n",
    "dt = 0.01\n",
    "\n",
    "# Andre parametre\n",
    "utløsningstidspunkt = 10\n",
    "utløsningsvarighet = 5\n",
    "\n",
    "while h > 0:\n",
    "    if t < utløsningstidspunkt:\n",
    "        A = 0.7\n",
    "        C = 1.4\n",
    "    elif t < utløsningstidspunkt + utløsningsvarighet:\n",
    "        A_diff = 44 - 0.7\n",
    "        C_diff = 1.8 - 1.4\n",
    "        prosentfaktor_åpen = (t - utløsningstidspunkt) / utløsningsvarighet\n",
    "        A = 0.7 + prosentfaktor_åpen * A_diff\n",
    "        C = 1.4 + prosentfaktor_åpen * C_diff\n",
    "    else:\n",
    "        A = 44\n",
    "        C = 1.8\n",
    "    sum_F = -g*m + luftmotstand(v, A, C, rho)\n",
    "    a = sum_F/m\n",
    "    \n",
    "    h = finn_høyde(h, v, a, dt)\n",
    "    v = finn_fart(v, a, dt)\n",
    "    t = t + dt\n",
    "    \n",
    "    h_liste.append(h)\n",
    "    v_liste.append(v)\n",
    "    t_liste.append(t)\n",
    "    a_liste.append(a)\n",
    "\n",
    "plot(t_liste, a_liste)\n",
    "xlabel(\"Tid siden start\")\n",
    "ylabel(\"Akselerasjon\")\n",
    "\n",
    "show()"
   ]
  },
  {
   "cell_type": "code",
   "execution_count": null,
   "id": "cc7f3823",
   "metadata": {},
   "outputs": [],
   "source": []
  }
 ],
 "metadata": {
  "kernelspec": {
   "display_name": "Python 3",
   "language": "python",
   "name": "python3"
  },
  "language_info": {
   "codemirror_mode": {
    "name": "ipython",
    "version": 3
   },
   "file_extension": ".py",
   "mimetype": "text/x-python",
   "name": "python",
   "nbconvert_exporter": "python",
   "pygments_lexer": "ipython3",
   "version": "3.8.8"
  }
 },
 "nbformat": 4,
 "nbformat_minor": 5
}
