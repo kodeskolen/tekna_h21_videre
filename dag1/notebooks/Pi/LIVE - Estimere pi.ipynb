{
 "cells": [
  {
   "cell_type": "markdown",
   "metadata": {
    "id": "Pd9P3bY7kwHC"
   },
   "source": [
    "# Estimere pi med dart\n",
    "\n",
    "## Estimere $P(\\text{treffe sirkel})$ med Python\n",
    "For å estimere $\\pi$ med dartkast trenger vi:\n",
    "\n",
    " * En måte å simulere tilfeldige dartkast i kvadratet\n",
    " * En måte å sjekke om vi traff blinken\n",
    " * Kode for å kaste dart mange ganger og telle hvor mange ganger vi traff blinken\n",
    " \n",
    "La oss starte med å importere noen nyttige funksjoner fra `pylab`."
   ]
  },
  {
   "cell_type": "code",
   "execution_count": null,
   "metadata": {
    "id": "ltxcXua-fOqv"
   },
   "outputs": [],
   "source": []
  },
  {
   "cell_type": "markdown",
   "metadata": {
    "id": "2nz7dEuWodZG"
   },
   "source": [
    "### Kode for å simulere dartkast\n",
    "\n",
    "Når vi kaster en dartpil så lander den ett eller annet tilfeldig sted på enhetskvadratet. For å simulere dette kan vi lage en funksjon som trekker et x-koordinat tilfeldig mellom -1 og 1 og et y-koordinat tilfeldig mellom -1 og 1. Dette kan vi gjøre med `uniform`-funksjonen i pylab"
   ]
  },
  {
   "cell_type": "code",
   "execution_count": null,
   "metadata": {},
   "outputs": [],
   "source": []
  },
  {
   "cell_type": "markdown",
   "metadata": {
    "id": "O59x8sfjyAr1"
   },
   "source": [
    "### Visualisere et dartkast\n",
    "\n",
    "Det er ofte nyttig å teste koden underveis og visualisere koderesultatene."
   ]
  },
  {
   "cell_type": "code",
   "execution_count": null,
   "metadata": {},
   "outputs": [],
   "source": []
  },
  {
   "cell_type": "markdown",
   "metadata": {
    "id": "PIp7K-YTzDwt"
   },
   "source": [
    "## Sjekke at vi treffer blinken\n",
    "\n",
    "<img src=\"bilder/dartkast.png\" width=200px align=\"right\">\n",
    "\n",
    "Neste steg i simuleringen vår blir å sjekke om vi traff blinken.  Vi trenger altså å sjekke om vi er innenfor enhetssirkelen. For at et punkt skal være innenfor enhetssirkelen må avstanden mellom origo og punktet være mindre enn 1. \n",
    "\n",
    "Vi ser av figuren til høyre at vi kan tegne opp en rettvinklet trekant slik at avstanden til origo er gitt ved hypotenusen til trekanten og x- og y- koordinatene til dartkastet tilsvarer første og andre katet. Da kan vi bruke Pytagoras-setning til å finne avstanden. \n",
    "\n",
    "Vi starter med å lage en funksjon for å regne ut hypotenusen til en rettvinklet trekant. Pytagoras setning sier at:\n",
    "\n",
    "\\begin{equation}\n",
    "    \\text{Hypotenus} = \\sqrt{\\text{Katet}_1^2 + \\text{Katet}_2^2}\n",
    "\\end{equation}\n",
    "\n",
    "Dette kan vi skrive som en funksjon i Python:"
   ]
  },
  {
   "cell_type": "code",
   "execution_count": null,
   "metadata": {},
   "outputs": [],
   "source": []
  },
  {
   "cell_type": "markdown",
   "metadata": {
    "id": "hBo5CdSk3XEh"
   },
   "source": [
    "Nå kan vi bruke `finn_hypotenus` funksjonen til å lage en betingelse for om darten traff inne i enhetssirkelen. Dette kan vi bruke til å lage en funksjon som sjekker om vi traff eller ikke:\n"
   ]
  },
  {
   "cell_type": "code",
   "execution_count": null,
   "metadata": {},
   "outputs": [],
   "source": []
  },
  {
   "cell_type": "markdown",
   "metadata": {
    "id": "RKEG80np3jvo"
   },
   "source": [
    "### Bedre visualisering av dartkast\n",
    "\n",
    "Nå som vi har en måte å teste om et dartkast traff blinken eller ei, kan vi visualisere det ved å tegne dartkastet rødt (utenfor blinken) eller grønt (innenfor blinken)."
   ]
  },
  {
   "cell_type": "code",
   "execution_count": null,
   "metadata": {},
   "outputs": [],
   "source": []
  },
  {
   "cell_type": "markdown",
   "metadata": {
    "id": "Nhi9t4xfgNyB"
   },
   "source": [
    "Hvis vi kjører koden over mange ganger, ser vi at dartkastene blir grønne om de er innenfor enhetssirkelen og røde om de er utenfor. Altså ser det ut som om koden kjører. Da er vi klare for å estimere pi!\n",
    "\n",
    "## Mange dartkast for å estimere pi\n",
    "\n",
    "Vi starter med kode som kaster dart mange ganger, teller opp antall ganger vi traff blinken, og bruker det for å estimere sannsynligheten for å treffe blinken. Basert på dette, kan vi som vi så tidligere, estimere pi!"
   ]
  },
  {
   "cell_type": "code",
   "execution_count": null,
   "metadata": {},
   "outputs": [],
   "source": []
  },
  {
   "cell_type": "markdown",
   "metadata": {
    "id": "6vJFRCCKolK5"
   },
   "source": [
    "## Glidebryter for å velge antall kast"
   ]
  },
  {
   "cell_type": "code",
   "execution_count": null,
   "metadata": {
    "colab": {
     "base_uri": "https://localhost:8080/",
     "height": 425,
     "referenced_widgets": [
      "3db035267981477891605add15434d1f",
      "d212a30ea2fe49cab987ef1bea19283d",
      "2c837e1a5b1d4395b169f0ebf4f2dfe7",
      "613e8fef9b7945ef8fc4c031b4e9ae40",
      "ee1a1cae407a40c38eb7f4166601e52d",
      "5b4be9b23d68460587754910c7ac89a6",
      "e26bcd8fa3d04fb9a6d526cf3b47c834",
      "b21ad01f75234e91af33cbf70f89a42a",
      "e6852915cf2a45f09e94f845d7e60025",
      "f901738880a8410a939da2133866ea08"
     ]
    },
    "id": "mmQMpD9xoonZ",
    "outputId": "e4be8e8d-9064-43c2-c6ab-9cb0faefb634"
   },
   "outputs": [],
   "source": [
    "from ipywidgets import interact_manual"
   ]
  }
 ],
 "metadata": {
  "colab": {
   "collapsed_sections": [],
   "name": "Monte Carlo Pi.ipynb",
   "provenance": []
  },
  "kernelspec": {
   "display_name": "Python 3",
   "language": "python",
   "name": "python3"
  },
  "language_info": {
   "codemirror_mode": {
    "name": "ipython",
    "version": 3
   },
   "file_extension": ".py",
   "mimetype": "text/x-python",
   "name": "python",
   "nbconvert_exporter": "python",
   "pygments_lexer": "ipython3",
   "version": "3.8.8"
  },
  "widgets": {
   "application/vnd.jupyter.widget-state+json": {
    "2c837e1a5b1d4395b169f0ebf4f2dfe7": {
     "model_module": "@jupyter-widgets/controls",
     "model_module_version": "1.5.0",
     "model_name": "IntSliderModel",
     "state": {
      "_dom_classes": [],
      "_model_module": "@jupyter-widgets/controls",
      "_model_module_version": "1.5.0",
      "_model_name": "IntSliderModel",
      "_view_count": null,
      "_view_module": "@jupyter-widgets/controls",
      "_view_module_version": "1.5.0",
      "_view_name": "IntSliderView",
      "continuous_update": true,
      "description": "antall_kast",
      "description_tooltip": null,
      "disabled": false,
      "layout": "IPY_MODEL_e26bcd8fa3d04fb9a6d526cf3b47c834",
      "max": 10000,
      "min": 1,
      "orientation": "horizontal",
      "readout": true,
      "readout_format": "d",
      "step": 1,
      "style": "IPY_MODEL_5b4be9b23d68460587754910c7ac89a6",
      "value": 1834
     }
    },
    "3db035267981477891605add15434d1f": {
     "model_module": "@jupyter-widgets/controls",
     "model_module_version": "1.5.0",
     "model_name": "VBoxModel",
     "state": {
      "_dom_classes": [
       "widget-interact"
      ],
      "_model_module": "@jupyter-widgets/controls",
      "_model_module_version": "1.5.0",
      "_model_name": "VBoxModel",
      "_view_count": null,
      "_view_module": "@jupyter-widgets/controls",
      "_view_module_version": "1.5.0",
      "_view_name": "VBoxView",
      "box_style": "",
      "children": [
       "IPY_MODEL_2c837e1a5b1d4395b169f0ebf4f2dfe7",
       "IPY_MODEL_613e8fef9b7945ef8fc4c031b4e9ae40",
       "IPY_MODEL_ee1a1cae407a40c38eb7f4166601e52d"
      ],
      "layout": "IPY_MODEL_d212a30ea2fe49cab987ef1bea19283d"
     }
    },
    "5b4be9b23d68460587754910c7ac89a6": {
     "model_module": "@jupyter-widgets/controls",
     "model_module_version": "1.5.0",
     "model_name": "SliderStyleModel",
     "state": {
      "_model_module": "@jupyter-widgets/controls",
      "_model_module_version": "1.5.0",
      "_model_name": "SliderStyleModel",
      "_view_count": null,
      "_view_module": "@jupyter-widgets/base",
      "_view_module_version": "1.2.0",
      "_view_name": "StyleView",
      "description_width": "",
      "handle_color": null
     }
    },
    "613e8fef9b7945ef8fc4c031b4e9ae40": {
     "model_module": "@jupyter-widgets/controls",
     "model_module_version": "1.5.0",
     "model_name": "ButtonModel",
     "state": {
      "_dom_classes": [],
      "_model_module": "@jupyter-widgets/controls",
      "_model_module_version": "1.5.0",
      "_model_name": "ButtonModel",
      "_view_count": null,
      "_view_module": "@jupyter-widgets/controls",
      "_view_module_version": "1.5.0",
      "_view_name": "ButtonView",
      "button_style": "",
      "description": "Run Interact",
      "disabled": true,
      "icon": "",
      "layout": "IPY_MODEL_e6852915cf2a45f09e94f845d7e60025",
      "style": "IPY_MODEL_b21ad01f75234e91af33cbf70f89a42a",
      "tooltip": ""
     }
    },
    "b21ad01f75234e91af33cbf70f89a42a": {
     "model_module": "@jupyter-widgets/controls",
     "model_module_version": "1.5.0",
     "model_name": "ButtonStyleModel",
     "state": {
      "_model_module": "@jupyter-widgets/controls",
      "_model_module_version": "1.5.0",
      "_model_name": "ButtonStyleModel",
      "_view_count": null,
      "_view_module": "@jupyter-widgets/base",
      "_view_module_version": "1.2.0",
      "_view_name": "StyleView",
      "button_color": null,
      "font_weight": ""
     }
    },
    "d212a30ea2fe49cab987ef1bea19283d": {
     "model_module": "@jupyter-widgets/base",
     "model_module_version": "1.2.0",
     "model_name": "LayoutModel",
     "state": {
      "_model_module": "@jupyter-widgets/base",
      "_model_module_version": "1.2.0",
      "_model_name": "LayoutModel",
      "_view_count": null,
      "_view_module": "@jupyter-widgets/base",
      "_view_module_version": "1.2.0",
      "_view_name": "LayoutView",
      "align_content": null,
      "align_items": null,
      "align_self": null,
      "border": null,
      "bottom": null,
      "display": null,
      "flex": null,
      "flex_flow": null,
      "grid_area": null,
      "grid_auto_columns": null,
      "grid_auto_flow": null,
      "grid_auto_rows": null,
      "grid_column": null,
      "grid_gap": null,
      "grid_row": null,
      "grid_template_areas": null,
      "grid_template_columns": null,
      "grid_template_rows": null,
      "height": null,
      "justify_content": null,
      "justify_items": null,
      "left": null,
      "margin": null,
      "max_height": null,
      "max_width": null,
      "min_height": null,
      "min_width": null,
      "object_fit": null,
      "object_position": null,
      "order": null,
      "overflow": null,
      "overflow_x": null,
      "overflow_y": null,
      "padding": null,
      "right": null,
      "top": null,
      "visibility": null,
      "width": null
     }
    },
    "e26bcd8fa3d04fb9a6d526cf3b47c834": {
     "model_module": "@jupyter-widgets/base",
     "model_module_version": "1.2.0",
     "model_name": "LayoutModel",
     "state": {
      "_model_module": "@jupyter-widgets/base",
      "_model_module_version": "1.2.0",
      "_model_name": "LayoutModel",
      "_view_count": null,
      "_view_module": "@jupyter-widgets/base",
      "_view_module_version": "1.2.0",
      "_view_name": "LayoutView",
      "align_content": null,
      "align_items": null,
      "align_self": null,
      "border": null,
      "bottom": null,
      "display": null,
      "flex": null,
      "flex_flow": null,
      "grid_area": null,
      "grid_auto_columns": null,
      "grid_auto_flow": null,
      "grid_auto_rows": null,
      "grid_column": null,
      "grid_gap": null,
      "grid_row": null,
      "grid_template_areas": null,
      "grid_template_columns": null,
      "grid_template_rows": null,
      "height": null,
      "justify_content": null,
      "justify_items": null,
      "left": null,
      "margin": null,
      "max_height": null,
      "max_width": null,
      "min_height": null,
      "min_width": null,
      "object_fit": null,
      "object_position": null,
      "order": null,
      "overflow": null,
      "overflow_x": null,
      "overflow_y": null,
      "padding": null,
      "right": null,
      "top": null,
      "visibility": null,
      "width": null
     }
    },
    "e6852915cf2a45f09e94f845d7e60025": {
     "model_module": "@jupyter-widgets/base",
     "model_module_version": "1.2.0",
     "model_name": "LayoutModel",
     "state": {
      "_model_module": "@jupyter-widgets/base",
      "_model_module_version": "1.2.0",
      "_model_name": "LayoutModel",
      "_view_count": null,
      "_view_module": "@jupyter-widgets/base",
      "_view_module_version": "1.2.0",
      "_view_name": "LayoutView",
      "align_content": null,
      "align_items": null,
      "align_self": null,
      "border": null,
      "bottom": null,
      "display": null,
      "flex": null,
      "flex_flow": null,
      "grid_area": null,
      "grid_auto_columns": null,
      "grid_auto_flow": null,
      "grid_auto_rows": null,
      "grid_column": null,
      "grid_gap": null,
      "grid_row": null,
      "grid_template_areas": null,
      "grid_template_columns": null,
      "grid_template_rows": null,
      "height": null,
      "justify_content": null,
      "justify_items": null,
      "left": null,
      "margin": null,
      "max_height": null,
      "max_width": null,
      "min_height": null,
      "min_width": null,
      "object_fit": null,
      "object_position": null,
      "order": null,
      "overflow": null,
      "overflow_x": null,
      "overflow_y": null,
      "padding": null,
      "right": null,
      "top": null,
      "visibility": null,
      "width": null
     }
    },
    "ee1a1cae407a40c38eb7f4166601e52d": {
     "model_module": "@jupyter-widgets/output",
     "model_module_version": "1.0.0",
     "model_name": "OutputModel",
     "state": {
      "_dom_classes": [],
      "_model_module": "@jupyter-widgets/output",
      "_model_module_version": "1.0.0",
      "_model_name": "OutputModel",
      "_view_count": null,
      "_view_module": "@jupyter-widgets/output",
      "_view_module_version": "1.0.0",
      "_view_name": "OutputView",
      "layout": "IPY_MODEL_f901738880a8410a939da2133866ea08",
      "msg_id": "47a044cf15b64eb6c90ba7d466f89cfb",
      "outputs": [
       {
        "name": "stdout",
        "output_type": "stream",
        "text": [
         "Antall kast: 1834\n",
         "Antall treff: 1408\n",
         "Estimert sannsynlighet: 0.7677208287895311\n",
         "Estimert pi: 3.0708833151581243\n"
        ]
       }
      ]
     }
    },
    "f901738880a8410a939da2133866ea08": {
     "model_module": "@jupyter-widgets/base",
     "model_module_version": "1.2.0",
     "model_name": "LayoutModel",
     "state": {
      "_model_module": "@jupyter-widgets/base",
      "_model_module_version": "1.2.0",
      "_model_name": "LayoutModel",
      "_view_count": null,
      "_view_module": "@jupyter-widgets/base",
      "_view_module_version": "1.2.0",
      "_view_name": "LayoutView",
      "align_content": null,
      "align_items": null,
      "align_self": null,
      "border": null,
      "bottom": null,
      "display": null,
      "flex": null,
      "flex_flow": null,
      "grid_area": null,
      "grid_auto_columns": null,
      "grid_auto_flow": null,
      "grid_auto_rows": null,
      "grid_column": null,
      "grid_gap": null,
      "grid_row": null,
      "grid_template_areas": null,
      "grid_template_columns": null,
      "grid_template_rows": null,
      "height": null,
      "justify_content": null,
      "justify_items": null,
      "left": null,
      "margin": null,
      "max_height": null,
      "max_width": null,
      "min_height": null,
      "min_width": null,
      "object_fit": null,
      "object_position": null,
      "order": null,
      "overflow": null,
      "overflow_x": null,
      "overflow_y": null,
      "padding": null,
      "right": null,
      "top": null,
      "visibility": null,
      "width": null
     }
    }
   }
  }
 },
 "nbformat": 4,
 "nbformat_minor": 1
}
