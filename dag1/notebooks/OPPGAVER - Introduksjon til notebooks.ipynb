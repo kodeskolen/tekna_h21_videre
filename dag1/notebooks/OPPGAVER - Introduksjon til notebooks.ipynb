{
 "cells": [
  {
   "cell_type": "markdown",
   "metadata": {},
   "source": [
    "# Oppgaver - Introduksjon til notebooks"
   ]
  },
  {
   "cell_type": "markdown",
   "metadata": {},
   "source": [
    "## Oppgave 1 - Redigere tekst og kodeceller\n",
    "Under er en celle med tekst og en celle med kode"
   ]
  },
  {
   "cell_type": "markdown",
   "metadata": {},
   "source": [
    "Her er det tekst"
   ]
  },
  {
   "cell_type": "code",
   "execution_count": 1,
   "metadata": {},
   "outputs": [
    {
     "name": "stdout",
     "output_type": "stream",
     "text": [
      "Hei, Marie!\n"
     ]
    }
   ],
   "source": [
    "navn = \"Marie\"\n",
    "print(f\"Hei, {navn}!\")"
   ]
  },
  {
   "cell_type": "markdown",
   "metadata": {},
   "source": [
    "### Oppgave 1a) \n",
    "Endre tekstcellen til å inneholde bedskjeden \"Her er det oppdatert tekst\"\n",
    "### Oppgave 1b) \n",
    "Modifiser kodecellen til å skrive en hilsen til ditt navn"
   ]
  },
  {
   "cell_type": "markdown",
   "metadata": {},
   "source": [
    "## Oppgave 2 - Opprette celler\n",
    "I denne oppgaven skal du bruke \"pluss\"-symbolet i verktøylinja sammen med skrivemodus menyen til å opprette en ny kodecelle og en ny markdown celle\n",
    "\n",
    "### Oppgave 2 a)\n",
    "Opprett en kodecelle under denne cellen. Kodecellen skal bruke `print` til å skrive bedskjeden \"dette er en kodecelle\"\n",
    "\n",
    "### Oppgave 2 b)\n",
    "Kjør kodecellen du lagde i oppgaven over og se at du får rett utskrift\n",
    "\n",
    "### Oppgave 2 c)\n",
    "Opprett en ny tekstcelle (Markdown) under kodecellen. Tekstcellen skal ha teksten \"Dette er en tekstcelle\""
   ]
  },
  {
   "cell_type": "markdown",
   "metadata": {},
   "source": [
    "## Oppgave 3 widgets\n",
    "\n",
    "### Oppgave 3 a)\n",
    "Nedenfor har du kode til en funksjon som regner ut temperaturen i Celcius basert på inputtemperatur i Farenheit. Lag en funksjon, `print_celcius_fra_farenheit` som printer ut hvor mange grader Celcius en gitt temperatur i Farenheit er.\n"
   ]
  },
  {
   "cell_type": "code",
   "execution_count": 3,
   "metadata": {},
   "outputs": [],
   "source": [
    "def finn_celcius_fra_farenheit(temperatur_farenheit):\n",
    "    return 5*(temperatur_farenheit - 32)/9 "
   ]
  },
  {
   "cell_type": "markdown",
   "metadata": {},
   "source": [
    "### Oppgave 3 b)\n",
    "Bruk `interact` funksjonen fra `ipywidgets` biblioteket sammen med `print_celcius_fra_farenheit` funksjonen du lagde i 3a) til å lage et interaktivt program som skriver ut hvor mange grader Celcius en gitt temperatur i Farenheit er.\n",
    "\n",
    "PS: Husk å importere `interact` fra `ipywidgets` først."
   ]
  },
  {
   "cell_type": "code",
   "execution_count": null,
   "metadata": {},
   "outputs": [],
   "source": []
  },
  {
   "cell_type": "markdown",
   "metadata": {},
   "source": [
    "## Oppgave 4\n",
    "\n",
    "### Oppgave 4a)\n",
    "Pytagoras setning sier at \n",
    "\n",
    "\\begin{equation}\n",
    "\\text{katet}_1^2 + \\text{katet}_2^2 = \\text{hypotenus}^2\n",
    "\\end{equation}\n",
    "\n",
    "Lag en funksjon `finn_hypotenus(katet1, katet2)` som tar inn lengden på to kateter i en rettvinklet trekant og returnerer lengden på hypotenusen. (**HINT:** Husk å importere `sqrt` fra `pylab`-biblioteket)"
   ]
  },
  {
   "cell_type": "code",
   "execution_count": null,
   "metadata": {},
   "outputs": [],
   "source": []
  },
  {
   "cell_type": "markdown",
   "metadata": {},
   "source": [
    "### Oppgave 4b)\n",
    "Lag en funksjon `print_hypotenus(katet1, katet2)` som tar inn lengden på to kateter i en rettvinklet trekant og skriver ut hypotenusen"
   ]
  },
  {
   "cell_type": "code",
   "execution_count": null,
   "metadata": {},
   "outputs": [],
   "source": []
  },
  {
   "cell_type": "markdown",
   "metadata": {},
   "source": [
    "### Oppgave 4c)\n",
    "\n",
    "Bruk `interact` sammen med `print_hypotenus`-funksjonen for å lage et interaktivt program som skriver ut lengden til hypotenusen til en rettvinklet trekant som har katetlengde gitt av to glidebrytere."
   ]
  },
  {
   "cell_type": "code",
   "execution_count": null,
   "metadata": {},
   "outputs": [],
   "source": []
  },
  {
   "cell_type": "markdown",
   "metadata": {},
   "source": [
    "### Oppgave 5\n",
    "\n",
    "Hvis vi setter $x$ kroner inn i en bankkonto med $p$% rente, så vil vi neste år ha\n",
    "\n",
    "$$ \\frac{100 + p}{100} x, $$\n",
    "\n",
    "kroner på kontoen vår. Dette kan vi skrive som en rekursiv tallfølge, slik\n",
    "\n",
    "$$ x_{t+1} = \\frac{100 + p}{100} x_t, $$\n",
    "\n",
    "hvor $x_t$ er hvor mye penger vi har etter $t$ år.\n",
    "\n",
    "#### a)\n",
    "Lag en funksjon `sparekonto(innskudd, rente, sparetid)` som tar inn hvor mye penger du setter inn på konto, hva renta er og hvor mange år du vil spare og som printer ut hvor mye penger du har til slutt.\n",
    "\n",
    "#### Hint\n",
    " * Du kan bruke en for løkke hvor du oppdaterer hvor mye penger du har på konto hvert år. Syntaksen til en for-løkke ser slik ut:\n",
    " \n",
    "```python\n",
    "antall_iterasjoner = 10\n",
    "for tellevariabel in range(antall_iterasjoner):\n",
    "    [fyll inn kode som skal gjentas her]\n",
    "```\n",
    "\n",
    "#### b)\n",
    "Bruk `interact` funksjonen til å lage et interaktivt program med glidebrytere som lar deg velge innskuddsmengde, rente og sparetid og som printer ut hvor mye penger du kommer til å ha på slutten av sparetiden.\n"
   ]
  },
  {
   "cell_type": "code",
   "execution_count": null,
   "metadata": {},
   "outputs": [],
   "source": []
  },
  {
   "cell_type": "code",
   "execution_count": null,
   "metadata": {},
   "outputs": [],
   "source": []
  }
 ],
 "metadata": {
  "kernelspec": {
   "display_name": "Python 3",
   "language": "python",
   "name": "python3"
  },
  "language_info": {
   "codemirror_mode": {
    "name": "ipython",
    "version": 3
   },
   "file_extension": ".py",
   "mimetype": "text/x-python",
   "name": "python",
   "nbconvert_exporter": "python",
   "pygments_lexer": "ipython3",
   "version": "3.8.8"
  }
 },
 "nbformat": 4,
 "nbformat_minor": 2
}
