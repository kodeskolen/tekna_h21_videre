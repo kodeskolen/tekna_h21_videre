{
 "cells": [
  {
   "cell_type": "code",
   "execution_count": 2,
   "metadata": {},
   "outputs": [],
   "source": [
    "from pylab import zeros, plot, show, xlabel, ylabel"
   ]
  },
  {
   "cell_type": "markdown",
   "metadata": {},
   "source": [
    "# Del 2: Bærekraftig vekst\n",
    "\n",
    "<img src=\"bilder/kaniner_3.png\" align=\"right\">\n",
    "\n",
    "I del 1 så vi at vår eksponentielle vekst modell fører til 2.5 millioner kaniner på øya etter 100 år! Med denne modellen vil befolkningen bare vokse helt uhemmet, og det er det rett og slett ikke plass til!\n",
    "\n",
    "\n",
    "\n",
    "Problemet er at matematiske modellen vi har lagd så langt har ikke noen form for *bærekraftig vekst*. Øya vår har jo ikke mat, eller plass, til uendelig med kaniner. Derfor ønsker vi en modell hvor **vekstraten endrer seg basert på hvor mange kaniner som er på øya fra før**. Vi ønsker altså en modell på formen:\n",
    "\n",
    "$ \\Huge{k_{t+1} = k_t + r(k_t) k_t}. $\n",
    "\n",
    "Det naturlige spørsmålet vårt nå er hvilken form vi tror at $r(k)$ skal ha. La oss starte med noen observasjoner.\n",
    "\n",
    " 1. Øya har en bæreevne, $N$, som er antallet kaniner øya har plass og mat til.\n",
    " 1. Hvis $k_t \\approx 0$ så ønsker vi eksponensiell vekst for da er bæreevnen mye høyere enn antallet dyr. \n",
    "    * Altså er den ubegrensede vekstraten, $r(0) = r_0 > 0$.\n",
    " 1. Hvis $k_t \\approx N$ så ønsker vi at det skal være ca like mange dyr på øya hvert år.\n",
    "    * Altså er $r(N) = 0$.\n",
    "\n",
    "Den letteste måten å få en funksjon på denne formen er å tenke seg en rett linje som går igjennom punktene $(0, r_0)$ og $(N, 0)$, slik vi ser i figuren under\n",
    "\n",
    "<img src=\"bilder/vekstmengde.png\" width=\"600px\" />\n",
    "\n",
    "Hvis vi bruker funksjonen over for den relative vekstraten så får vi dette uttrykket for $r$:\n",
    "\n",
    "$ \\Large{r(k) = r_0 \\left(1 - \\frac{k}{N} \\right)}. $"
   ]
  },
  {
   "cell_type": "markdown",
   "metadata": {},
   "source": [
    "## Oppgave 1 a)\n",
    "Lag en funksjon  \n",
    "`vekstrate(antall_kaniner)`\n",
    "som tar inn antall kaniner og returnerer vekstraten for et system bæreevnen $N=5000$ og ubegrensede vekstrate $r_0=0.5$."
   ]
  },
  {
   "cell_type": "code",
   "execution_count": null,
   "metadata": {},
   "outputs": [],
   "source": []
  },
  {
   "cell_type": "markdown",
   "metadata": {},
   "source": [
    "\n",
    "## Oppgave 1b)\n",
    "Test at funksjonen din virker ved å printe ut vekstraten til et system med vekstrate lik 0.5 og bæreevne lik 5000 kaniner. Test ut med 0 kaniner og med 5000 kaniner. Med 0 kaniner skal vekstraten være lik 0.5 og med 5000 kaniner skal vekstraten være 0."
   ]
  },
  {
   "cell_type": "code",
   "execution_count": null,
   "metadata": {},
   "outputs": [],
   "source": []
  },
  {
   "cell_type": "markdown",
   "metadata": {},
   "source": [
    "## Oppgave 2\n",
    "Koden under simulerer eksponentiell vekst med en konstant vekstrate på 0.5. Modifiser koden slik ut du istedet simulerer en øy med bæreevne på 5000 og ubegrenset vekstrate på 0.5 i 40 år.\n",
    "\n",
    "### Hint:\n",
    " * Formelen for eksponentiell vekst er beskrevet i teksten over\n",
    " * Du trenger kan bruke `vekstrate` funkjsonen du lagde i oppgave 1a)"
   ]
  },
  {
   "cell_type": "code",
   "execution_count": 3,
   "metadata": {},
   "outputs": [
    {
     "data": {
      "image/png": "[encoded data removed]",
      "text/plain": [
       "<Figure size 432x288 with 1 Axes>"
      ]
     },
     "metadata": {
      "needs_background": "light"
     },
     "output_type": "display_data"
    }
   ],
   "source": [
    "antall_år = 40\n",
    "\n",
    "k = zeros(antall_år)\n",
    "k[0] = 200\n",
    "\n",
    "for t in range(antall_år - 1):\n",
    "    k[t+1] = k[t] + 0.5*k[t]\n",
    "\n",
    "\n",
    "plot(range(antall_år), k, '-o')\n",
    "xlabel('Tid [år]')\n",
    "ylabel('Antall kaniner')\n",
    "show()"
   ]
  },
  {
   "cell_type": "code",
   "execution_count": null,
   "metadata": {},
   "outputs": [],
   "source": []
  },
  {
   "cell_type": "markdown",
   "metadata": {},
   "source": [
    "## Oppgave 3\n",
    "Gjør om koden over til å bruke en glidebryter (slider) som kan endre den ubegrensede vekstraten og bæreevnen. Vekstraten skal kunne være mellom `0.0` og `3.5` og bæreevnen skal kunne være mellom `100` og `10000`.\n",
    "\n",
    "### Hint:\n",
    "  * Du må opprette en funksjon som tar inn vekstraten og bæreevnen, simulerer øya og plotter resultatet.\n",
    "    * Denne funksjonen kan f.eks. hete `plott_bærekraftig_vekst(bæreevne, ubegrenset_vekstrate)`\n",
    "  * Inni denne funksjonen kan du opprette en ny vekstrate-funksjon\n",
    "  * Du må bruke `interact` funksjonen, hvis du ikke husker hvordan den fungerte kan du se på *Intro til notebook* notatboka."
   ]
  },
  {
   "cell_type": "code",
   "execution_count": null,
   "metadata": {},
   "outputs": [],
   "source": []
  },
  {
   "cell_type": "markdown",
   "metadata": {},
   "source": [
    "## Oppgave 4\n",
    "Utforsk effekten av forskjellige parametre på simuleringen."
   ]
  },
  {
   "cell_type": "markdown",
   "metadata": {},
   "source": [
    "## Oppgave 5\n",
    "Hva tror du vil skje dersom øya starter med flere kaniner enn bæreevnen kan tåle?\n",
    "\n",
    " a) Skriv ned hva du tror kommer til å skje og hvorfor\n",
    " \n",
    " b) Oppdater koden du lagde i oppgave 3 slik at du også har en slider for hvor mange kaniner du kan starte med\n",
    " \n",
    " c) Bruk glidebryteren til å se om du hadde rett i a)"
   ]
  },
  {
   "cell_type": "code",
   "execution_count": null,
   "metadata": {},
   "outputs": [],
   "source": []
  },
  {
   "cell_type": "code",
   "execution_count": null,
   "metadata": {},
   "outputs": [],
   "source": []
  }
 ],
 "metadata": {
  "kernelspec": {
   "display_name": "Python 3",
   "language": "python",
   "name": "python3"
  },
  "language_info": {
   "codemirror_mode": {
    "name": "ipython",
    "version": 3
   },
   "file_extension": ".py",
   "mimetype": "text/x-python",
   "name": "python",
   "nbconvert_exporter": "python",
   "pygments_lexer": "ipython3",
   "version": "3.8.8"
  }
 },
 "nbformat": 4,
 "nbformat_minor": 4
}
