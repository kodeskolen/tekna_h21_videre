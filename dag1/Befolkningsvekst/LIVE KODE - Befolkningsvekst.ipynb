{
 "cells": [
  {
   "cell_type": "markdown",
   "metadata": {},
   "source": [
    "# Del 0: Vi kan indeksere arrayer for å hente ut eller oppdatere elementer\n",
    "<img src=\"bilder/array_indexing.png\" width=\"600px\">"
   ]
  },
  {
   "cell_type": "code",
   "execution_count": null,
   "metadata": {},
   "outputs": [],
   "source": []
  },
  {
   "cell_type": "markdown",
   "metadata": {},
   "source": [
    "# Del 1: Simulere populasjoner med rekursive formler og indeksering\n",
    "\n",
    "<img src=\"bilder/kaniner_1.png\" align=\"right\">\n",
    "\n",
    "Matematisk modell:\n",
    "\n",
    "$ \\Huge{k_{t+1} = k_t + 100}, $\n",
    "\n",
    "Tilsvarende Python-kode:\n",
    "\n",
    "<code style=\"font-size: 22pt\">k[t+1] = k[t] + 100</code>"
   ]
  },
  {
   "cell_type": "code",
   "execution_count": null,
   "metadata": {},
   "outputs": [],
   "source": []
  },
  {
   "cell_type": "markdown",
   "metadata": {},
   "source": [
    "# Del 2: Eksponentiell vekst\n",
    "\n",
    "Matematisk modell:\n",
    "\n",
    "$ \\Huge{k_{t+1} = k_{t} + f k_{t} - d k_{t}}. $\n",
    "\n",
    "Vi kan skrive den om til å bli:\n",
    "\n",
    "$ \\Huge{k_{t+1} = k_{t} + r k_{t}}, $\n",
    "\n",
    "hvor $r=(f - d)$ er vekstraten til kaninene våre. Hvis vi bruker programmering, så får vi:\n",
    "\n",
    "<code style=\"font-size: 32pt\">k[t+1] = k[t] + r*k[t]</code>"
   ]
  },
  {
   "cell_type": "code",
   "execution_count": null,
   "metadata": {},
   "outputs": [],
   "source": []
  },
  {
   "cell_type": "markdown",
   "metadata": {},
   "source": [
    "Men hva skjer om vi simulerer øya over lengre tid? For å utforske det kan vi lage glidebryter for antall år og vekstraten"
   ]
  },
  {
   "cell_type": "code",
   "execution_count": null,
   "metadata": {},
   "outputs": [],
   "source": []
  }
 ],
 "metadata": {
  "kernelspec": {
   "display_name": "Python 3",
   "language": "python",
   "name": "python3"
  },
  "language_info": {
   "codemirror_mode": {
    "name": "ipython",
    "version": 3
   },
   "file_extension": ".py",
   "mimetype": "text/x-python",
   "name": "python",
   "nbconvert_exporter": "python",
   "pygments_lexer": "ipython3",
   "version": "3.8.8"
  }
 },
 "nbformat": 4,
 "nbformat_minor": 4
}
