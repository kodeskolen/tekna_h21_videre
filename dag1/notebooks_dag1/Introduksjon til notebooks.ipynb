{
 "cells": [
  {
   "cell_type": "markdown",
   "metadata": {},
   "source": [
    "# Jupyter notatbøker\n",
    "\n",
    "Et verktøy som brukes veldig mye, både for undervisning og forskning, er Jupyter notatbøker, eller notebooks. Slike notatbøker lar oss blande kode og formattert tekst på en veldig fin måte.\n",
    "\n",
    "Notatbøkene er bygd opp av celler. Hver celle inneholder enten en kodesnutt med Python kode, eller tekst som vi kan formattere med noe som heter *markdown*. La oss starte med å se på kodeceller."
   ]
  },
  {
   "cell_type": "code",
   "execution_count": 1,
   "metadata": {},
   "outputs": [
    {
     "name": "stdout",
     "output_type": "stream",
     "text": [
      "Notatbøker er fine\n"
     ]
    }
   ],
   "source": [
    "print(\"Notatbøker er fine\")"
   ]
  },
  {
   "cell_type": "markdown",
   "metadata": {},
   "source": [
    "Nå skal du kjøre cella over. Det kan du gjøre ved å trykke i cella med musepekeren og så trykke på `[Run]` knappen i verktøylinja over, eventuelt kan du trykke i cella og så trykke `[Shift]+[Enter]` på tastaturet.\n",
    "\n",
    "Hva får du som output?\n",
    "\n",
    "## Markdown\n",
    "Tekst i Jupyter notatbøker kan formateres med noe som heter markdown. Med markdown kan man gjøre mye for å formatere teksten og en full oversikt finner du [her](https://github.com/adam-p/markdown-here/wiki/Markdown-Cheatsheet), men alt du trenger for å få tekst i en ny celle er å skrive inn teksten og endre fra `[Code]` til `[Markdown]` i verktøylinja over."
   ]
  },
  {
   "cell_type": "markdown",
   "metadata": {},
   "source": [
    "## Notatbokens hukommelse\n",
    "En ting som er viktig å huske på er at notebooken husker variabler mellom celler. Så vi kan definere en variabel her"
   ]
  },
  {
   "cell_type": "code",
   "execution_count": 2,
   "metadata": {},
   "outputs": [],
   "source": [
    "x = 5"
   ]
  },
  {
   "cell_type": "markdown",
   "metadata": {},
   "source": [
    "Og skrive den ut her"
   ]
  },
  {
   "cell_type": "code",
   "execution_count": 3,
   "metadata": {},
   "outputs": [
    {
     "name": "stdout",
     "output_type": "stream",
     "text": [
      "5\n"
     ]
    }
   ],
   "source": [
    "print(x)"
   ]
  },
  {
   "cell_type": "markdown",
   "metadata": {},
   "source": [
    "Det betyr at hvis vi nå overksriver `x` her"
   ]
  },
  {
   "cell_type": "code",
   "execution_count": 4,
   "metadata": {},
   "outputs": [],
   "source": [
    "x = 7"
   ]
  },
  {
   "cell_type": "markdown",
   "metadata": {},
   "source": [
    "Og kjører cella på nytt så får vi ut 7. Når du har en notebook med mange celler kan det derfor hva notebooken husker mellom cellene gå litt i surr. Det kan altså være lurt å passe på rekkefølgen du kjører cellene i. Hvis du får en uforklarlig feil som kan komme av at noe er overskrivet et sted bør du “refreshe” ved å bruke `Restart` knappen under `Kernel` menyen over.\n",
    "\n",
    "Det er lurt å restarte kernelen (kjærnen på norsk) gjevnlig for sikkerhets skyld!"
   ]
  },
  {
   "cell_type": "markdown",
   "metadata": {},
   "source": [
    "## Interaktive program og *widgets*\n",
    "Jupyter notatbøker er hovedsakelig gode for to ting. Det første er å lage notater siden de lar deg kombinere tekst og kode. Dette er nyttig hvis man vil ta notater for seg selv eller ønsker å dele kode med andre. Man kan for eksempel bruke det for å lage undervisningsmateriale hvor elever enten skal skrive inn kode selv eller kjøre ferdigksrevet kode. Det er også lett å kombinere celler med ferdigskrevet kode og tomme celler som skal fylles inn slik at den *vankseligste* koden er ferdiglaget, men elevene får fortsatt følelsen av å lage et produkt selv.\n",
    "\n",
    "Den andre tingen slike notatbøker kan er gode for er å lage interaktive programmer som for eksempel tar inn glidebrytere som input. For å gjøre dette bruker vi `interact` funksjonen fra `ipywidgets` biblioteket."
   ]
  },
  {
   "cell_type": "code",
   "execution_count": 5,
   "metadata": {},
   "outputs": [],
   "source": [
    "from ipywidgets import interact"
   ]
  },
  {
   "cell_type": "markdown",
   "metadata": {},
   "source": [
    "Det `interact` funksjonen gjør er å lage et interaktivt brukergrensesnitt for å kalle på funksjoner. `interact` er en funksjon som tar ett \"vanlig\" input, nemlig funksjonen som skal gjøres interaktiv, og så mange *nøkkelordargument* du ønsker. For å demonstrere dette tar vi utgangspunkt i et lite fysikkrelevant eksempel, nemlig å regne ut energien til et foton fra dets bølgelengde. For å gjøre det bruker vi denne formelen\n",
    "\n",
    "$$ E = h \\frac{c}{\\lambda}, $$\n",
    "\n",
    "hvor $E$ er energien til fotonet, $h$ er Plancks konstant, $c$ er lyshastigheten og $\\lambda$ er bølgelengden."
   ]
  },
  {
   "cell_type": "code",
   "execution_count": 6,
   "metadata": {},
   "outputs": [
    {
     "name": "stdout",
     "output_type": "stream",
     "text": [
      "Lys med en bølgelende på 450 nm har 2.76 eV energi\n"
     ]
    }
   ],
   "source": [
    "plancks_konstant = 4.14e-15  # (eV) (s)\n",
    "lyshastighet = 3.00e17  # nm/s\n",
    "\n",
    "def bølgelengde_til_energi(bølgelengde):\n",
    "    return plancks_konstant*lyshastighet/bølgelengde\n",
    "\n",
    "\n",
    "def print_energi_fra_bølgelengde(bølgelengde):\n",
    "    energi = bølgelengde_til_energi(bølgelengde)\n",
    "    print(f\"Lys med en bølgelende på {bølgelengde} nm har {energi} eV energi\")\n",
    "    \n",
    "bølgelengde = 450  # nm\n",
    "print_energi_fra_bølgelengde(bølgelengde)"
   ]
  },
  {
   "cell_type": "markdown",
   "metadata": {},
   "source": [
    "Her ser vi at vi har en funksjon som tar inn bølgelengden til lys i nanometer og skriver ut energien til fotonene i elektronvolt. Det neste steget er å legge til en glidebryter (slider på engelsk) for å interaktivt velge hva bølgelengden skal være."
   ]
  },
  {
   "cell_type": "code",
   "execution_count": 7,
   "metadata": {},
   "outputs": [
    {
     "data": {
      "application/vnd.jupyter.widget-view+json": {
       "model_id": "ba700c990db243a399eb7275def78c55",
       "version_major": 2,
       "version_minor": 0
      },
      "text/plain": [
       "interactive(children=(IntSlider(value=450, description='bølgelengde', max=1350, min=-450), Output()), _dom_cla…"
      ]
     },
     "metadata": {},
     "output_type": "display_data"
    },
    {
     "data": {
      "text/plain": [
       "<function __main__.print_energi_fra_bølgelengde(bølgelengde)>"
      ]
     },
     "execution_count": 7,
     "metadata": {},
     "output_type": "execute_result"
    }
   ],
   "source": [
    "interact(print_energi_fra_bølgelengde, bølgelengde=450)"
   ]
  },
  {
   "cell_type": "markdown",
   "metadata": {},
   "source": [
    "Her ser vi at et enkelt funksjonskall til `interact` funksjonen lager et program som interaktivt kaller på `print_energi_fra_bølgelengde` funksjonen når glidebryteren endres.\n",
    "\n",
    "I dette tilfelle så hadde vi en bryter som kunne gi oss heltalls-verdier for bølgelengden. Hvis vi ønsker å kunne sende inn desimaltall, må vi passe på at vi skriver `bølgelengde=450.0` i kallet til `interact` slik at Python vet at funksjonen støtter desimaltall-input."
   ]
  },
  {
   "cell_type": "code",
   "execution_count": 10,
   "metadata": {},
   "outputs": [
    {
     "data": {
      "application/vnd.jupyter.widget-view+json": {
       "model_id": "000449fd105140f299e3e94bb84706cb",
       "version_major": 2,
       "version_minor": 0
      },
      "text/plain": [
       "interactive(children=(FloatSlider(value=450.0, description='bølgelengde', max=1350.0, min=-450.0), Output()), …"
      ]
     },
     "metadata": {},
     "output_type": "display_data"
    },
    {
     "data": {
      "text/plain": [
       "<function __main__.print_energi_fra_bølgelengde(bølgelengde)>"
      ]
     },
     "execution_count": 10,
     "metadata": {},
     "output_type": "execute_result"
    }
   ],
   "source": [
    "interact(print_energi_fra_bølgelengde, bølgelengde=450.0)"
   ]
  },
  {
   "cell_type": "markdown",
   "metadata": {},
   "source": [
    "Vi kan også ha andre typer brytere enn glidebrytere. Hvis vi for eksempel har en funksjon som tar inn `True/False` input, så får vi en avkryssningsboks."
   ]
  },
  {
   "cell_type": "code",
   "execution_count": 9,
   "metadata": {},
   "outputs": [
    {
     "data": {
      "application/vnd.jupyter.widget-view+json": {
       "model_id": "38d48125c6bc43b0990555c6445092db",
       "version_major": 2,
       "version_minor": 0
      },
      "text/plain": [
       "interactive(children=(Checkbox(value=True, description='bruk_fortegn'), IntSlider(value=5, description='tall',…"
      ]
     },
     "metadata": {},
     "output_type": "display_data"
    },
    {
     "data": {
      "text/plain": [
       "<function __main__.print_avstand_til_origo(bruk_fortegn, tall)>"
      ]
     },
     "execution_count": 9,
     "metadata": {},
     "output_type": "execute_result"
    }
   ],
   "source": [
    "def print_avstand_til_origo(bruk_fortegn, tall):\n",
    "    if bruk_fortegn:\n",
    "        print(f\"Du valgte tallet {tall}\")\n",
    "    else:\n",
    "        absoluttverdi = abs(tall)\n",
    "        print(f\"Du valgte et tall {absoluttverdi} steg unna origo\")\n",
    "    \n",
    "interact(print_avstand_til_origo, bruk_fortegn=True, tall=5)"
   ]
  },
  {
   "cell_type": "markdown",
   "metadata": {},
   "source": [
    "Her ser vi at vi har et interaktivt program hvor brukeren kan skrive inn to parametre!"
   ]
  },
  {
   "cell_type": "code",
   "execution_count": null,
   "metadata": {},
   "outputs": [],
   "source": []
  }
 ],
 "metadata": {
  "kernelspec": {
   "display_name": "Python 3 (ipykernel)",
   "language": "python",
   "name": "python3"
  },
  "language_info": {
   "codemirror_mode": {
    "name": "ipython",
    "version": 3
   },
   "file_extension": ".py",
   "mimetype": "text/x-python",
   "name": "python",
   "nbconvert_exporter": "python",
   "pygments_lexer": "ipython3",
   "version": "3.9.2"
  }
 },
 "nbformat": 4,
 "nbformat_minor": 2
}
