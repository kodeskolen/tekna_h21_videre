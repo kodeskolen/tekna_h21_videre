{
 "cells": [
  {
   "cell_type": "markdown",
   "metadata": {},
   "source": [
    "# Del 3: Rovdyr-byttedyr dynamikk\n",
    "\n",
    "La oss nå tenke oss at vi, istedenfor å introdusere bare kaniner til øya vår, introduserer både kaniner og gauper. Før vi kan beskrive et slikt system matematisk så bør vi tenke hvordan det gir mening at det biologiske systemet utvikler seg. Så, når vi har kommet frem til det, kan vi tenke på hvordan vi kan beskrive et slikt system matematisk.\n",
    "\n",
    "<img src=\"bilder/kaniner_2.png\">\n",
    "\n",
    "Hvis vi skal tenke oss hvordan øya er, kan vi komme frem til disse fire reglene:\n",
    " 1. Hvis det ikke er noen gauper tilstede, så utvikler kaninpopulasjonen seg som om det bærekraftig vekst.\n",
    " 2. Jo flere gauper jo høyere blir dødsraten til kaninene.\n",
    " 3. Bæreevnen til gaupene er avhengig av antallet kaniner.\n",
    " 4. Gaupene dør også av naturlige årsaker som ikke er relatert til mengden kaniner som er tilgjengelig.\n",
    "La oss nå sette opp likninger som tar hensyn til alle disse reglene.\n",
    "\n",
    "## Kaniner:\n",
    "Vi har allerede modellert kaninbestanden med en bærekraftig vekst-likning:\n",
    "\n",
    "$ \\Large{k_{t+1} = r(k_t) k_t.} $\n",
    "\n",
    "### Kaniner som blir jaktet:\n",
    "Når kaninene blir jaktet på trenger vi vite hvor mange kaniner gaupene spiser. Hvis hver gaupe har en apetitt, altså et visst antall kaniner de vil spise, vil vi få en proposjonalitetssammenheng mellom antall gauper og dødsraten. Vi kan bruke variabelen, $a_u$ for å beskrive gaupeappetitten, og få denne likningen for kaninbestanden:\n",
    "\n",
    "$ \\Large{k_{t+1} = r(k_t) k_t - (a_u g_t) k_t,} $\n",
    "\n",
    "hvor $g_t$ er antallet gauper i år $t$. \n",
    "\n",
    "### Den relative vekstraten for kaniner: \n",
    "Siden kaniner blir jaktet på vet vi empirisk at kaninbestanden ikke vil nærme seg bæreevnen til øya — de blir spist av gaupene lenge før det. Dermed trenger vi ikke bruke den kompliserte formelen for relativ vekstrate fra forrige avsnitt. Istedenfor kan vi modellere fødselsraten til kaninene slik vi gjorde i første avsnitt, og dermed få likninger som er litt lettere å håndtere. Hvis vi gjør det får vi denne likningen for harebestanden:\n",
    "\n",
    "$ \\Large{k_{t+1} = k_t + f_k k_t - (a_g g_t) k_t.} $\n",
    "\n",
    "## Gauper:\n",
    "Bæreevnen til gaupepopulasjonen er gitt ved antallet kaniner på øya. Igjen, hvis hver gaupe må spise 500 kaniner i året for å overleve, så er bæreevnen til Gaupene proposjonal med antallet kaniner. Dermed, hvis vi antar at antallet gaupeunger som overlever er proposjonalt med antall gauper og antall kaniner får vi denne likningen for gaupepopulasjonen:\n",
    "\n",
    "$ \\Large{g_{t+1} = g_t + (f_g k_t) g_t} $\n",
    "\n",
    "\n",
    "### Gauper dør også:\n",
    "Siden det ikke er noen som jakter på gauper så kan vi anta at de dør med en konstant frekvens. Altså, hvor mange gauper som dør i løpet av et år er proposjonalt med hvor mange gauper som er på øya. Hvis vi kombinerer det med likningen over får vi:\n",
    "\n",
    "$ \\Large{g_{t+1} = g_t + (f_g k_t) g_t - d_g g_t.} $\n",
    "\n",
    "\n",
    "## Sammendrag av modellen:\n",
    "Bestanden kaniner og gauper kan vi altså beskrive med disse to likningene:\n",
    "\n",
    "$ \\Large{k_{t+1} = k_t + f_k k_t - (a_g g_t) k_t,} $\n",
    "\n",
    "$ \\Large{g_{t+1} = g_t + (f_g k_t) g_t - d_g g_t.} $\n",
    "\n",
    "Her ble det mange konstanter gitt! Jeg liker å visualisere disse likningene slik:\n",
    "\n",
    "<img src=\"bilder/rovdyr_byttedyr_byttedyr.png\" width=\"600px\">\n",
    "<img src=\"bilder/rovdyr_byttedyr_rovdyr.png\" width=\"600px\">\n",
    "\n",
    "Antallet kaniner neste år er gitt ved antallet kaniner i år, pluss antallet nye kaniner, minus antallet kaniner som blir spist av gaupene. Tilsvarende er antallet gauper neste år gitt ved antallet gauper dette året, pluss antallet nye gauper som det er mat til, minus antallet gauper som dør. Hvis vi vil programmere det, kan vi skrive det slik:\n",
    "\n",
    "<code style=\"font-size: 22pt\">k[t+1] = k[t] + f_k * k[t] - a_g * k[t] * g[t]</code>\n",
    "\n",
    "<code style=\"font-size: 22pt\">g[t+1] = g[t] + f_g * k[t] * g[t] - d_g * g[t]</code>\n",
    "\n",
    "### Sammendrag over størrelsene:\n",
    "Her ble det mange variabler, så la oss se grundigere på dem\n",
    "  * $k_t$ - Antall kaniner i år $t$\n",
    "  * $g_t$ - Antall gauper i år $t$\n",
    "  * $f_k$ - Den relative fødselsraten til kaniner.\n",
    "  * $f_g$ - Den relative fødselsraten til gauper. \n",
    "  * $a_g$ - Appetitten til gauper.\n",
    "  * $d_g$ - Den relative dødsraten til gauper.\n",
    "\n",
    "Vi har altså et system hvor antallet kaniner kan vokse fritt om vi ikke har noen gauper til stede. Gaupene jakter på kaninene så hvis det er mange gauper tilstede så dør mange kaniner.\n",
    "\n",
    "## Problemer med denne modellen:\n",
    "Det er dessverre et problem med denne modellen, og det er at den ser på år for år. Dessverre er det slik at utviklingen år for år er mer komplisert enn det vi har skrevet over. Men, fortvil ikke! For alt vi har sagt gir jo mening, men sammenhengene gjelder ikke for år, men for kortere tidsintervall, slik som dager. Det eneste vi trenger å gjøre for at modellen skal gjelde dag-for-dag istedenfor år-for-år er å dele konstantene våre på antall dager det er i et år.\n",
    "\n",
    "\n",
    "## Valg av størrelser:\n",
    "I denne simuleringen kommer vi til å bruke parametre som ikke helt gir mening hvis vi har et system med kun gauper kaniner. Grunnen til det er at hvis vi har \"fornuftige\" verdier for parameterne vil vi få så mange flere kaniner enn gauper at vi vil ikke kunne se noen endring i gaupebestanden over tid. Vi setter disse verdiene for parameterne:\n",
    "\n",
    "  * $k_0 = 10.0$ - Antall kaniner det første året\n",
    "  * $g_0 = 2.00$ - Antall gauper det første året\n",
    "  * $f_k = 5.00$ - Den relative fødselsraten til kaniner per dag.\n",
    "  * $f_g = 0.15$ - Den relative fødselsraten til gauper per dag. \n",
    "  * $a_g = 2.50$ - Appetitten til gauper per dag.\n",
    "  * $d_g = 0.50$ - Den relative dødsraten til gauper per dag."
   ]
  },
  {
   "cell_type": "markdown",
   "metadata": {},
   "source": [
    "\n",
    "$\n",
    "\\Huge{k_{t+1} = k_t + f_k k_t - (a_g g_t) k_t}. \n",
    "$\n",
    "\n",
    "$\n",
    "\\Huge{g_{t+1} = g_t + (f_g k_t) g_t - d_g g_t}. \n",
    "$"
   ]
  },
  {
   "cell_type": "code",
   "execution_count": 12,
   "metadata": {},
   "outputs": [],
   "source": [
    "dager_i_år = 365\n",
    "antall_år = 10\n",
    "antall_dager = antall_år*dager_i_år\n",
    "\n",
    "f_k = 5/dager_i_år\n",
    "f_g = 0.15/dager_i_år\n",
    "a_g = 1.5/dager_i_år\n",
    "d_g = 0.5/dager_i_år\n",
    "\n",
    "k = zeros(antall_dager)\n",
    "k[0] = 10 # start mengde kaniner\n",
    "g = zeros(antall_dager)\n",
    "g[0] = 2\n",
    "\n",
    "for t in range(antall_dager - 1):\n",
    "    k[t+1] = k[t] + f_k*k[t] - a_g*g[t]*k[t]\n",
    "    g[t+1] = g[t] + f_g*g[t]*k[t] -  d_g*g[t]"
   ]
  },
  {
   "cell_type": "code",
   "execution_count": 13,
   "metadata": {},
   "outputs": [
    {
     "data": {
      "image/png": "[encoded data removed]",
      "text/plain": [
       "<Figure size 432x288 with 1 Axes>"
      ]
     },
     "metadata": {
      "needs_background": "light"
     },
     "output_type": "display_data"
    }
   ],
   "source": [
    "from pylab import legend\n",
    "    \n",
    "plot(range(antall_dager), k, label='Kaniner')\n",
    "plot(range(antall_dager), g, label='Gauper')\n",
    "\n",
    "legend()\n",
    "xlabel('Dager')\n",
    "ylabel('Antall dyr')\n",
    "show()"
   ]
  },
  {
   "cell_type": "markdown",
   "metadata": {},
   "source": [
    "Her har vi altså sett hvordan vi kan modellere gaupe og kanin populasjoner matematisk, men stemmer disse tallene overens med virkeligheten? Vel, det kan vi faktisk sjekke. Det har seg nemlig slik at det kanadiske selskapet Hudson's Bay Company samlet inn data på hvor mye hareskinn og gaupeskinn de fikk inn hvert år. \n",
    "\n",
    "<img src=\"bilder/gauperogharer.png\">\n",
    "\n",
    "Vi ser altså at mengden harer og gauper følger et periodisk mønster som likner veldig på det vi har i simuleringen vår! "
   ]
  },
  {
   "cell_type": "markdown",
   "metadata": {},
   "source": [
    "### Interaktiv rovdyr-byttedyr simulering\n",
    "\n",
    "Under har vi gjort om koden over til å bli en funksjon, som vi bruker `interact` for å gjøre om til et interaktivt program."
   ]
  },
  {
   "cell_type": "code",
   "execution_count": 14,
   "metadata": {},
   "outputs": [],
   "source": [
    "def plott_rovdyr_byttedyr(\n",
    "    kaniner_fødselsrate,\n",
    "    gauper_fødselsrate,\n",
    "    gaupeappetitt,\n",
    "    gaupedødsrate,\n",
    "    start_kaniner,\n",
    "    start_gauper,\n",
    "    antall_år\n",
    "):\n",
    "    # Tidsvariabler\n",
    "    dager_i_år = 365\n",
    "    alle_år = arange(antall_år*dager_i_år)/dager_i_år\n",
    "\n",
    "    # Kanin og gaupevariabler\n",
    "    antall_kaniner = zeros(antall_år*dager_i_år)\n",
    "    antall_kaniner[0] = start_kaniner\n",
    "\n",
    "    antall_gauper = zeros(antall_år*dager_i_år)\n",
    "    antall_gauper[0] = start_gauper\n",
    "\n",
    "\n",
    "    for år in range(antall_år*dager_i_år - 1):  # Hvert etterfølgende år\n",
    "        # Simuleringsparametre\n",
    "        f_k = kaniner_fødselsrate/365\n",
    "        f_g = gauper_fødselsrate/365\n",
    "        a_g = gaupeappetitt/365\n",
    "        d_g = gaupedødsrate/365\n",
    "\n",
    "        # Populasjonsvariabler\n",
    "        k_t = antall_kaniner[år]  # Antall kaniner dette året\n",
    "        g_t = antall_gauper[år]   # Antall gauper dette året\n",
    "\n",
    "        # Finn antall kaniner og gauper neste år\n",
    "        antall_kaniner[år+1] = k_t + (f_k * k_t - a_g * g_t * k_t)\n",
    "        antall_gauper[år+1] = g_t + (f_g * k_t * g_t - d_g * g_t)\n",
    "        \n",
    "    \n",
    "    # Vis frem antall kaniner som funksjon av år\n",
    "    plot(alle_år, antall_kaniner, '-', label=\"Kaniner\")\n",
    "    plot(alle_år, antall_gauper, '-', label=\"Gauper\")\n",
    "\n",
    "    # Pynt på plottet\n",
    "    xlabel(\"År\")\n",
    "    ylabel(\"Antall kaniner\")\n",
    "    legend()\n",
    "    show()"
   ]
  },
  {
   "cell_type": "code",
   "execution_count": 15,
   "metadata": {},
   "outputs": [
    {
     "data": {
      "application/vnd.jupyter.widget-view+json": {
       "model_id": "288d03ec1ba94694ae61220895405343",
       "version_major": 2,
       "version_minor": 0
      },
      "text/plain": [
       "interactive(children=(IntSlider(value=5, description='kaniner_fødselsrate', max=15, min=-5), FloatSlider(value…"
      ]
     },
     "metadata": {},
     "output_type": "display_data"
    },
    {
     "data": {
      "text/plain": [
       "<function __main__.plott_rovdyr_byttedyr(kaniner_fødselsrate, gauper_fødselsrate, gaupeappetitt, gaupedødsrate, start_kaniner, start_gauper, antall_år)>"
      ]
     },
     "execution_count": 15,
     "metadata": {},
     "output_type": "execute_result"
    }
   ],
   "source": [
    "interact(\n",
    "    plott_rovdyr_byttedyr,\n",
    "    kaniner_fødselsrate = 5,\n",
    "    gauper_fødselsrate = 0.15,\n",
    "    gaupeappetitt = 1.5,\n",
    "    gaupedødsrate = 0.5,\n",
    "    start_kaniner = 10,\n",
    "    start_gauper = 2,\n",
    "    antall_år=40,    \n",
    ")"
   ]
  },
  {
   "cell_type": "code",
   "execution_count": null,
   "metadata": {},
   "outputs": [],
   "source": []
  }
 ],
 "metadata": {
  "kernelspec": {
   "display_name": "Python 3",
   "language": "python",
   "name": "python3"
  },
  "language_info": {
   "codemirror_mode": {
    "name": "ipython",
    "version": 3
   },
   "file_extension": ".py",
   "mimetype": "text/x-python",
   "name": "python",
   "nbconvert_exporter": "python",
   "pygments_lexer": "ipython3",
   "version": "3.8.8"
  }
 },
 "nbformat": 4,
 "nbformat_minor": 4
}
