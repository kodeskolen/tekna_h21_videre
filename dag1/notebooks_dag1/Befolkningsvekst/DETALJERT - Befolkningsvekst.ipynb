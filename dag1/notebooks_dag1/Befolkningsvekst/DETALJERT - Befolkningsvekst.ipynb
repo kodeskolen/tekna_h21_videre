{
 "cells": [
  {
   "cell_type": "code",
   "execution_count": 1,
   "metadata": {},
   "outputs": [],
   "source": [
    "from pylab import arange"
   ]
  },
  {
   "cell_type": "markdown",
   "metadata": {},
   "source": [
    "# Del 0: Vi kan indeksere arrayer for å hente ut eller oppdatere elementer\n",
    "\n",
    "I dette opplegget skal vi simulere biologiske system ved hjelp av rekursive rekker. Tidligere har vi brukt rekursive rekker for å simulere renter på en bankkonto, men vi så kun på et og et år om gangen. Men hva om vi ønsker å plotte pengeutviklingen som funksjon av tid. Vel da må vi kunne lagre pengene vi har på bankkontoen vår, og for å gjøre det bruker vi array-indeksering.\n",
    "\n",
    "Det har seg nemlig slik at om vi har en array, `x`, så kan vi hente ut element fra denne arrayen med klammeparanteser, det første elementet i `x`-arrayen vår kan vi få tak i ved å skrive `x[0]`, det andre kan vi få ved å skrive `x[1]`, osv. Vi teller altså fra null her og. Under har vi en figur som viser hvordan dette virker for en array med åtte element i seg.\n",
    "\n",
    "<img src=\"bilder/array_indexing.png\" width=\"600px\">\n",
    "\n",
    "La oss nå se på et lite eksempel:"
   ]
  },
  {
   "cell_type": "code",
   "execution_count": 2,
   "metadata": {},
   "outputs": [
    {
     "name": "stdout",
     "output_type": "stream",
     "text": [
      "[0 1 2 3 4]\n",
      "0\n"
     ]
    }
   ],
   "source": [
    "x = arange(5)\n",
    "print(x)\n",
    "print(x[0])"
   ]
  },
  {
   "cell_type": "markdown",
   "metadata": {},
   "source": [
    "Vi kan og endre verdien til et element i arrayet, hvis vi vil endre verdien til det første elementet i arrayen vår til `9`, kan vi skrive `x[0] = 9`. La oss se på det."
   ]
  },
  {
   "cell_type": "code",
   "execution_count": 3,
   "metadata": {},
   "outputs": [
    {
     "name": "stdout",
     "output_type": "stream",
     "text": [
      "[9 1 2 3 4]\n"
     ]
    }
   ],
   "source": [
    "x[0] = 9\n",
    "\n",
    "print(x)"
   ]
  },
  {
   "cell_type": "markdown",
   "metadata": {},
   "source": [
    "# Del 1: Simulere populasjoner med rekursive formler og indeksering\n",
    "\n",
    "<img src=\"bilder/kaniner_1.png\" align=\"right\">\n",
    "\n",
    "La oss se for oss at vi har en øy med $200$ kaniner på, også skal vi simulere hvordan kaninbefolkningen endrer seg. Det første, enkleste eksempelet vil jo være at det er en konstant økning av kaniner hvert år, f.eks. kan det bli født 100 nye kaniner hvert år. Matematisk, så kan vi skrive den modellen slik:\n",
    "\n",
    "$ \\Huge{k_{t+1} = k_t + 100}, $\n",
    "\n",
    "hvor $k_t$ er antall kaniner etter $t$ år. Hvis vi vil skrive det med Python, så skriver vi \n",
    "\n",
    "<code style=\"font-size: 22pt\">k[t+1] = k[t] + 100</code>\n",
    "\n",
    "Det er altså nesten likt den matematiske formen! La oss kode dette.\n"
   ]
  },
  {
   "cell_type": "code",
   "execution_count": 12,
   "metadata": {},
   "outputs": [
    {
     "name": "stdout",
     "output_type": "stream",
     "text": [
      "Tom array til å begynne med [0. 0. 0. 0. 0. 0. 0. 0. 0. 0.]\n",
      "Array med simuleringsresultater [ 200.  300.  400.  500.  600.  700.  800.  900. 1000. 1100.]\n"
     ]
    }
   ],
   "source": [
    "from pylab import zeros # Importere zeros for å lage en \"tom array\" med nuller\n",
    "\n",
    "antall_år = 10 \n",
    "\n",
    "k = zeros(antall_år)\n",
    "print(\"Tom array til å begynne med\", k)\n",
    "\n",
    "k[0] = 200\n",
    "\n",
    "for t in range(antall_år-1):\n",
    "    k[t+1] = k[t] + 100\n",
    "\n",
    "print(\"Array med simuleringsresultater\", k)"
   ]
  },
  {
   "cell_type": "markdown",
   "metadata": {},
   "source": [
    "# Del 2: Eksponentiell vekst\n",
    "\n",
    "Den lineære veksten vi så i forrige eksempel er veldig urealistisk. Vekstraten til dyrene våre våre er jo ikke uavhengig av hvor mange dyr vi har i det biologiske systemet vårt. Hvis vi ikke har noen dyr på øya, så kan vi vel ikke få 100 kaniner neste år!? Hvis vi har to kaniner, så vil vekstraten være mindre enn hvis vi har 4 kaniner, for det er jo bare halvparten så mange som kan få nye kaninunger. Det er derfor naturlig å tenke at vekstraten til kaniner er proposjonal med antall kaniner vi har på øya, altså blir den slik:\n",
    "\n",
    "$ \\Large{k_{t+1} = k_{t} + f k_{t}}, $\n",
    "\n",
    "hvor $k_t$ er antall kaniner i år $t$, $k_{t+1}$ er antall kaniner året etter og $f$ er fødselsraten. Om vi bruker denne modellen for å simulere systemet vårt så vil jo ingen kaniner dø. Igjen så vet vi at hvis vi har 100 kaniner så kan dobbelt så mange dø som om vi har 50 kaniner, og det er derfor logisk å tenke at dødsraten er proposjonal med antall kaniner på øya fra før. Matematisk blir det\n",
    "\n",
    "$ \\Large{k_{t+1} = k_{t} + f k_{t} - d k_{t}}, $\n",
    "\n",
    "hvor $d$ er dødsraten til kaninene. Dette ser vi at vi kan skrive om til å bli\n",
    "\n",
    "\n",
    "$ \\Huge{k_{t+1} = k_{t} + r k_{t}}, $\n",
    "\n",
    "hvor $r=(f - d)$ er vekstraten til kaninene våre. Hvis vi bruker programmering, så får vi:\n",
    "\n",
    "\n",
    "<code style=\"font-size: 22pt\">k[t+1] = k[t] + vekstrate*k[t]</code>\n",
    "\n",
    "La oss simulere systemet med en dødsrate, $d=0.1$ og fødselsrate, $f=0.2$"
   ]
  },
  {
   "cell_type": "code",
   "execution_count": 8,
   "metadata": {},
   "outputs": [
    {
     "name": "stdout",
     "output_type": "stream",
     "text": [
      "Array med simuleringsresultater [200.        220.        242.        266.2       292.82      322.102\n",
      " 354.3122    389.74342   428.717762  471.5895382]\n"
     ]
    }
   ],
   "source": [
    "antall_år = 10\n",
    "\n",
    "dødsrate = 0.1\n",
    "fødselsrate = 0.2\n",
    "vekstrate = fødselsrate - dødsrate # regne ut vekstraten\n",
    "\n",
    "k = zeros(antall_år)\n",
    "k[0] = 200\n",
    "\n",
    "for t in range(antall_år-1):\n",
    "    k[t+1] = k[t] + vekstrate*k[t]\n",
    "\n",
    "\n",
    "print(\"Array med simuleringsresultater\", k)"
   ]
  },
  {
   "cell_type": "code",
   "execution_count": 9,
   "metadata": {},
   "outputs": [
    {
     "data": {
      "image/png": "[encoded data removed]",
      "text/plain": [
       "<Figure size 432x288 with 1 Axes>"
      ]
     },
     "metadata": {
      "needs_background": "light"
     },
     "output_type": "display_data"
    }
   ],
   "source": [
    "from pylab import plot, show, xlabel, ylabel\n",
    "\n",
    "plot(range(antall_år), k, '-o')\n",
    "xlabel('Tid [år]')\n",
    "ylabel('Antall kaniner')\n",
    "show()"
   ]
  },
  {
   "cell_type": "markdown",
   "metadata": {},
   "source": [
    "Men hva skjer om vi simulerer øya over lengre tid? For å utforske det kan vi lage glidebryter for antall år og vekstraten"
   ]
  },
  {
   "cell_type": "code",
   "execution_count": 10,
   "metadata": {},
   "outputs": [
    {
     "data": {
      "application/vnd.jupyter.widget-view+json": {
       "model_id": "58fd94b8811a420cb09bd45197038928",
       "version_major": 2,
       "version_minor": 0
      },
      "text/plain": [
       "interactive(children=(IntSlider(value=50, description='antall_år'), FloatSlider(value=0.30000000000000004, des…"
      ]
     },
     "metadata": {},
     "output_type": "display_data"
    },
    {
     "data": {
      "text/plain": [
       "<function __main__.plott_befolkning(antall_år, vekstrate)>"
      ]
     },
     "execution_count": 10,
     "metadata": {},
     "output_type": "execute_result"
    }
   ],
   "source": [
    "from ipywidgets import interact\n",
    "\n",
    "def plott_befolkning(antall_år, vekstrate):\n",
    "\n",
    "    k = zeros(antall_år)\n",
    "    k[0] = 200\n",
    "\n",
    "    for t in range(antall_år-1):\n",
    "        k[t+1] = k[t] + vekstrate*k[t]\n",
    "\n",
    "    plot(range(antall_år), k, '-o')\n",
    "    xlabel('Tid [år]')\n",
    "    ylabel('Antall kaniner')\n",
    "    show()\n",
    "    \n",
    "interact(plott_befolkning, antall_år=(0, 100), vekstrate=(0.1, 0.5))"
   ]
  },
  {
   "cell_type": "markdown",
   "metadata": {},
   "source": [
    "Det vi ser her er at det tar ikke lang tid før det blir kjempemange kaniner, nesten uansett hvor lav vi stiller vekstraten. For en vekstrate på 0.1 har vi 2.5 millioner kaniner etter 100 år! "
   ]
  },
  {
   "cell_type": "code",
   "execution_count": null,
   "metadata": {},
   "outputs": [],
   "source": []
  }
 ],
 "metadata": {
  "kernelspec": {
   "display_name": "Python 3",
   "language": "python",
   "name": "python3"
  },
  "language_info": {
   "codemirror_mode": {
    "name": "ipython",
    "version": 3
   },
   "file_extension": ".py",
   "mimetype": "text/x-python",
   "name": "python",
   "nbconvert_exporter": "python",
   "pygments_lexer": "ipython3",
   "version": "3.8.8"
  }
 },
 "nbformat": 4,
 "nbformat_minor": 4
}
