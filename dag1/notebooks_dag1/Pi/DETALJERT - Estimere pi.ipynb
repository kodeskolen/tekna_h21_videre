{
 "cells": [
  {
   "cell_type": "markdown",
   "metadata": {
    "id": "Pd9P3bY7kwHC"
   },
   "source": [
    "# Estimere pi med dart\n",
    "Vi vet at arealet til en sirkel med radius lik 1 er gitt ved\n",
    "\\begin{equation}\n",
    "    A_{\\text{sirkel}} = \\pi 1^2 = \\pi.\n",
    "\\end{equation}\n",
    "Altså er pi det samme som arealet til en enhetssirkel! For å finne $\\pi$ trenger vi derfor kun finne arealet til en sirkel med radius lik 1.\n",
    "\n",
    "## Finne arelaet til en sirkel ved å kaste dart\n",
    "\n",
    "<img src=\"bilder/sirkel_firkant_koordinat.png\" width=200px align=\"right\">\n",
    "\n",
    "Se for deg at vi har en sirkulær blink med radius lik 1 og en firkant som akkurat når ut til kanten av blinken, litt som i figuren til høyre. Siden diameteren til sirkelen, og dermed også sidelengdene på kvadratet er lik 2, må arealet til kvadratet være lik 4.\n",
    "\n",
    "Vi vet og at hvis vi kaster dart tilfeldig på kvadratet, så er sannsynligheten for at dartpilen treffer sirkelen gitt ved:\n",
    "\\begin{equation}\n",
    "    P(\\text{treffe sirkel}) = \\frac{A_{\\text{sirkel}}}{A_{\\text{kvadrat}}} = \\frac{\\pi}{4}.\n",
    "\\end{equation}\n",
    "\n",
    "Hvis vi manipulerer denne likningen litt, får vi dette uttrykket for $\\pi$:\n",
    "\\begin{equation}\n",
    "    \\pi = 4P(\\text{treffe sirkel}).\n",
    "\\end{equation}\n",
    "\n",
    "## Estimere $P(\\text{treffe sirkel})$ med Python\n",
    "Men hvordan kan vi egentlig finne denne sannsynligheten? \n",
    "Vel, vi vet at sannsynligheten er gitt ved antall gunstige delt på antall mulige utfall. Da kan vi jo kaste dart veldig mange ganger og telle opp antall treff inni sirkelen! Det gir oss likningen\n",
    "\\begin{equation}\n",
    "    P(\\text{treffe sirkel}) = \\frac{\\text{antall gunstige utfall}}{\\text{antall mulige utfall}}\\approx \\frac{\\text{antall darts inne i sirkelen}}{\\text{antall darts inne i kvadratet}}.\n",
    "\\end{equation}\n",
    "La oss bruke Python for å simulere disse dartkastene og å telle opp antall treff! For å gjøre det trenger vi:\n",
    "\n",
    " * En måte å simulere tilfeldige dartkast i kvadratet\n",
    " * En måte å sjekke om vi traff blinken\n",
    " * Kode for å kaste dart mange ganger og telle hvor mange ganger vi traff blinken\n",
    " \n",
    "La oss starte med å importere noen nyttige funksjoner fra `pylab`."
   ]
  },
  {
   "cell_type": "code",
   "execution_count": 1,
   "metadata": {
    "id": "ltxcXua-fOqv"
   },
   "outputs": [],
   "source": [
    "from pylab import uniform, sqrt, plot, xlim, ylim, axis, show"
   ]
  },
  {
   "cell_type": "markdown",
   "metadata": {
    "id": "2nz7dEuWodZG"
   },
   "source": [
    "### Kode for å simulere dartkast\n",
    "\n",
    "Når vi kaster en dartpil så lander den ett eller annet tilfeldig sted på enhetskvadratet. For å simulere dette kan vi lage en funksjon som trekker et x-koordinat tilfeldig mellom -1 og 1 og et y-koordinat tilfeldig mellom -1 og 1. Dette kan vi gjøre med `uniform`-funksjonen i pylab"
   ]
  },
  {
   "cell_type": "code",
   "execution_count": 2,
   "metadata": {
    "id": "kZdM413ffzlH"
   },
   "outputs": [],
   "source": [
    "def kast_dart():\n",
    "    \"\"\"Kast en tilfeldig dart og returner koordinatene til kastet (x og y skal være mellom -1 og 1)\n",
    "    \"\"\"\n",
    "    x_koordinat = uniform(-1, 1)\n",
    "    y_koordinat = uniform(-1, 1)\n",
    "    \n",
    "    return x_koordinat, y_koordinat"
   ]
  },
  {
   "cell_type": "markdown",
   "metadata": {
    "id": "O59x8sfjyAr1"
   },
   "source": [
    "### Visualisere et dartkast\n",
    "\n",
    "Det er ofte nyttig å teste koden underveis og visualisere koderesultatene. Under er litt kode for å plotte hvor dartkastet vårt lander inne i enhetskvadratet."
   ]
  },
  {
   "cell_type": "code",
   "execution_count": 5,
   "metadata": {
    "colab": {
     "base_uri": "https://localhost:8080/",
     "height": 287
    },
    "id": "iuS0OMWagOkS",
    "outputId": "2f9e5714-eae8-4129-87b9-5d0735ee1b5e"
   },
   "outputs": [
    {
     "data": {
      "image/png": "[encoded data removed]",
      "text/plain": [
       "<Figure size 432x288 with 1 Axes>"
      ]
     },
     "metadata": {
      "needs_background": "light"
     },
     "output_type": "display_data"
    }
   ],
   "source": [
    "dart_x, dart_y = kast_dart()\n",
    "\n",
    "plot(dart_x, dart_y, 'x')\n",
    "axis(\"square\")  # Pass på at x-aksen og y-aksen har samme målestokk\n",
    "xlim(-1, 1)  # Pass på at x-aksen går fra -1 til 1 (bredden til enhetskvadratet)\n",
    "ylim(-1, 1)  # Pass på at y-aksen går fra -1 til 1 (høyden til enhetskvadratet)\n",
    "\n",
    "show()"
   ]
  },
  {
   "cell_type": "markdown",
   "metadata": {
    "id": "PIp7K-YTzDwt"
   },
   "source": [
    "## Sjekke at vi treffer blinken\n",
    "\n",
    "<img src=\"bilder/dartkast.png\" width=200px align=\"right\">\n",
    "\n",
    "Neste steg i simuleringen vår blir å sjekke om vi traff blinken.  Vi trenger altså å sjekke om vi er innenfor enhetssirkelen. For at et punkt skal være innenfor enhetssirkelen må avstanden mellom origo og punktet være mindre enn 1. \n",
    "\n",
    "Vi ser av figuren til høyre at vi kan tegne opp en rettvinklet trekant slik at avstanden til origo er gitt ved hypotenusen til trekanten og x- og y- koordinatene til dartkastet tilsvarer første og andre katet. Da kan vi bruke Pytagoras-setning til å finne avstanden. \n",
    "\n",
    "Vi starter med å lage en funksjon for å regne ut hypotenusen til en rettvinklet trekant. Pytagoras setning sier at:\n",
    "\n",
    "\\begin{equation}\n",
    "    \\text{Hypotenus} = \\sqrt{\\text{Katet}_1^2 + \\text{Katet}_2^2}\n",
    "\\end{equation}\n",
    "\n",
    "Dette kan vi skrive som en funksjon i Python:"
   ]
  },
  {
   "cell_type": "code",
   "execution_count": 10,
   "metadata": {
    "id": "lJsMhPhnf2iF"
   },
   "outputs": [],
   "source": [
    "def finn_hypotenus(katet1, katet2):\n",
    "    \"\"\"Tar inn katetene i en rettvinklet trekant og returnerer lengden til hypotenus\n",
    "    \"\"\"\n",
    "    return sqrt(katet1**2 + katet2**2)"
   ]
  },
  {
   "cell_type": "markdown",
   "metadata": {
    "id": "hBo5CdSk3XEh"
   },
   "source": [
    "Nå kan vi bruke `finn_hypotenus` funksjonen til å lage en betingelse for om darten traff inne i enhetssirkelen. Dette kan vi bruke til å lage en funksjon som sjekker om vi traff eller ikke:\n"
   ]
  },
  {
   "cell_type": "code",
   "execution_count": 11,
   "metadata": {
    "id": "3_oe3n8Ef4VY"
   },
   "outputs": [],
   "source": [
    "def traff_blinken(dart_x, dart_y):\n",
    "    \"\"\"Tar inn koordinater til dartkast returnerer True dersom darten traff og False dersom den ikke traff\n",
    "    \"\"\"\n",
    "    avstand_origo = finn_hypotenus(dart_x, dart_y)\n",
    "    if avstand_origo < 1:\n",
    "        return True\n",
    "    else:\n",
    "        return False"
   ]
  },
  {
   "cell_type": "markdown",
   "metadata": {
    "id": "RKEG80np3jvo"
   },
   "source": [
    "### Bedre visualisering av dartkast\n",
    "\n",
    "Nå som vi har en måte å teste om et dartkast traff blinken eller ei, kan vi visualisere det ved å tegne dartkastet rødt (utenfor blinken) eller grønt (innenfor blinken)."
   ]
  },
  {
   "cell_type": "code",
   "execution_count": 23,
   "metadata": {
    "colab": {
     "base_uri": "https://localhost:8080/",
     "height": 269
    },
    "id": "aCBQA0BQyJeM",
    "outputId": "5a08460e-0e34-447a-f69b-1f7693317288"
   },
   "outputs": [
    {
     "data": {
      "image/png": "[encoded data removed]",
      "text/plain": [
       "<Figure size 432x288 with 1 Axes>"
      ]
     },
     "metadata": {
      "needs_background": "light"
     },
     "output_type": "display_data"
    }
   ],
   "source": [
    "dart_x, dart_y = kast_dart()\n",
    "\n",
    "axis(\"square\")  # Pass på at x-aksen og y-aksen har samme målestokk\n",
    "xlim(-1, 1)  # Pass på at x-aksen går fra -1 til 1 (bredden til enhetskvadratet)\n",
    "ylim(-1, 1)  # Pass på at y-aksen går fra -1 til 1 (høyden til enhetskvadratet)\n",
    "\n",
    "if traff_blinken(dart_x, dart_y):\n",
    "    plot(dart_x, dart_y, 'x', color='forestgreen')\n",
    "else:\n",
    "    plot(dart_x, dart_y, 'x', color='orangered')"
   ]
  },
  {
   "cell_type": "markdown",
   "metadata": {
    "id": "Nhi9t4xfgNyB"
   },
   "source": [
    "Hvis vi kjører koden over mange ganger, ser vi at dartkastene blir grønne om de er innenfor enhetssirkelen og røde om de er utenfor. Altså ser det ut som om koden kjører. Da er vi klare for å estimere pi!\n",
    "\n",
    "PS. over brukte vi fargene `forestgreen` og `orangered`, men du kan bruke hvilke som helst CSS-kompatible farger. Du finner en liste over alle slike navngitte farger her: https://www.w3schools.com/cssref/css_colors.asp. Du kan også bruke hex-farger hvis du vil det (altså farger på formatet `#eb4034`), og da kan du hente farger fra et standard fargevalgprogram, slik som Google sin fargevelger: https://www.google.com/search?q=color+picker.\n",
    "\n",
    "## Mange dartkast for å estimere pi\n",
    "\n",
    "Vi starter med kode som kaster dart 100 000 ganger, teller opp antall ganger vi traff blinken, og bruker det for å estimere sannsynligheten for å treffe blinken. Basert på dette, kan vi som vi så tidligere, estimere pi!"
   ]
  },
  {
   "cell_type": "code",
   "execution_count": 24,
   "metadata": {
    "colab": {
     "base_uri": "https://localhost:8080/"
    },
    "id": "GlEkcQoIf5il",
    "outputId": "bfe0d490-e815-460e-bba0-319ca510cd20"
   },
   "outputs": [
    {
     "name": "stdout",
     "output_type": "stream",
     "text": [
      "Antall kast: 100000\n",
      "Antall treff: 78497\n",
      "Estimert sannsynlighet: 0.78497\n",
      "Estimert pi: 3.13988\n"
     ]
    }
   ],
   "source": [
    "antall_kast = 100000\n",
    "antall_treff = 0\n",
    "\n",
    "for kast in range(antall_kast):\n",
    "    # Kast en dart\n",
    "    dart_x, dart_y = kast_dart()\n",
    "    # Sjekk treff\n",
    "    if traff_blinken(dart_x, dart_y):\n",
    "        antall_treff += 1\n",
    "        \n",
    "estimert_sannsynlighet = antall_treff/antall_kast\n",
    "estimert_pi = 4*estimert_sannsynlighet\n",
    "\n",
    "print(f\"Antall kast: {antall_kast}\")\n",
    "print(f\"Antall treff: {antall_treff}\")\n",
    "print(f\"Estimert sannsynlighet: {estimert_sannsynlighet}\")\n",
    "print(f\"Estimert pi: {estimert_pi}\")"
   ]
  },
  {
   "cell_type": "markdown",
   "metadata": {
    "id": "ZtS9dht58UyG"
   },
   "source": [
    "Igjen kan det være nyttig å visualisere dartkastene våre. Men det kan ta lang tid å tegne opp 100 000 dartkast, så nå kaster vi bare 1000 dart istedenfor."
   ]
  },
  {
   "cell_type": "code",
   "execution_count": 25,
   "metadata": {
    "colab": {
     "base_uri": "https://localhost:8080/",
     "height": 343
    },
    "id": "KDMct9ak8AuL",
    "outputId": "6b42850b-6b32-4d0e-bf7e-4d141bbed16d"
   },
   "outputs": [
    {
     "name": "stdout",
     "output_type": "stream",
     "text": [
      "Antall kast: 1000\n",
      "Antall treff: 782\n",
      "Estimert sannsynlighet: 0.782\n",
      "Estimert pi: 3.128\n"
     ]
    },
    {
     "data": {
      "image/png": "[encoded data removed]",
      "text/plain": [
       "<Figure size 432x288 with 1 Axes>"
      ]
     },
     "metadata": {
      "needs_background": "light"
     },
     "output_type": "display_data"
    }
   ],
   "source": [
    "axis(\"square\")\n",
    "xlim(-1, 1)\n",
    "ylim(-1, 1)\n",
    "\n",
    "antall_kast = 1000\n",
    "antall_treff = 0\n",
    "\n",
    "for kast in range(antall_kast):\n",
    "    dart_x, dart_y = kast_dart()\n",
    "    if traff_blinken(dart_x, dart_y):\n",
    "        plot(dart_x, dart_y, 'x', color='forestgreen')\n",
    "        antall_treff += 1\n",
    "    else:\n",
    "        plot(dart_x, dart_y, 'x', color='orangered')\n",
    "\n",
    "estimert_sannsynlighet = antall_treff/antall_kast\n",
    "estimert_pi = 4*estimert_sannsynlighet\n",
    "\n",
    "print(f\"Antall kast: {antall_kast}\")\n",
    "print(f\"Antall treff: {antall_treff}\")\n",
    "print(f\"Estimert sannsynlighet: {estimert_sannsynlighet}\")\n",
    "print(f\"Estimert pi: {estimert_pi}\")"
   ]
  },
  {
   "cell_type": "markdown",
   "metadata": {
    "id": "6vJFRCCKolK5"
   },
   "source": [
    "## Glidebryter for å velge antall kast"
   ]
  },
  {
   "cell_type": "code",
   "execution_count": 26,
   "metadata": {
    "colab": {
     "base_uri": "https://localhost:8080/",
     "height": 425,
     "referenced_widgets": [
      "3db035267981477891605add15434d1f",
      "d212a30ea2fe49cab987ef1bea19283d",
      "2c837e1a5b1d4395b169f0ebf4f2dfe7",
      "613e8fef9b7945ef8fc4c031b4e9ae40",
      "ee1a1cae407a40c38eb7f4166601e52d",
      "5b4be9b23d68460587754910c7ac89a6",
      "e26bcd8fa3d04fb9a6d526cf3b47c834",
      "b21ad01f75234e91af33cbf70f89a42a",
      "e6852915cf2a45f09e94f845d7e60025",
      "f901738880a8410a939da2133866ea08"
     ]
    },
    "id": "mmQMpD9xoonZ",
    "outputId": "e4be8e8d-9064-43c2-c6ab-9cb0faefb634"
   },
   "outputs": [
    {
     "data": {
      "application/vnd.jupyter.widget-view+json": {
       "model_id": "a2f9303c262b432eb6e017644ab6f035",
       "version_major": 2,
       "version_minor": 0
      },
      "text/plain": [
       "interactive(children=(IntSlider(value=5000, description='antall_kast', max=10000, min=1), Button(description='…"
      ]
     },
     "metadata": {},
     "output_type": "display_data"
    },
    {
     "data": {
      "text/plain": [
       "<function __main__.estimer_pi(antall_kast)>"
      ]
     },
     "execution_count": 26,
     "metadata": {},
     "output_type": "execute_result"
    }
   ],
   "source": [
    "from ipywidgets import interact_manual\n",
    "def estimer_pi(antall_kast):\n",
    "    axis(\"square\")\n",
    "    xlim(-1, 1)\n",
    "    ylim(-1, 1)\n",
    "\n",
    "    antall_treff = 0\n",
    "\n",
    "    for kast in range(antall_kast):\n",
    "        dart_x, dart_y = kast_dart()\n",
    "        if traff_blinken(dart_x, dart_y):\n",
    "            plot(dart_x, dart_y, 'x', color='forestgreen')\n",
    "            antall_treff += 1\n",
    "        else:\n",
    "            plot(dart_x, dart_y, 'x', color='orangered')\n",
    "\n",
    "    estimert_sannsynlighet = antall_treff/antall_kast\n",
    "    estimert_pi = 4*estimert_sannsynlighet\n",
    "\n",
    "    print(f\"Antall kast: {antall_kast}\")\n",
    "    print(f\"Antall treff: {antall_treff}\")\n",
    "    print(f\"Estimert sannsynlighet: {estimert_sannsynlighet}\")\n",
    "    print(f\"Estimert pi: {estimert_pi}\")\n",
    "\n",
    "interact_manual(estimer_pi, antall_kast=(1, 10000))"
   ]
  }
 ],
 "metadata": {
  "colab": {
   "collapsed_sections": [],
   "name": "Monte Carlo Pi.ipynb",
   "provenance": []
  },
  "kernelspec": {
   "display_name": "Python 3 (ipykernel)",
   "language": "python",
   "name": "python3"
  },
  "language_info": {
   "codemirror_mode": {
    "name": "ipython",
    "version": 3
   },
   "file_extension": ".py",
   "mimetype": "text/x-python",
   "name": "python",
   "nbconvert_exporter": "python",
   "pygments_lexer": "ipython3",
   "version": "3.9.2"
  },
  "widgets": {
   "application/vnd.jupyter.widget-state+json": {
    "2c837e1a5b1d4395b169f0ebf4f2dfe7": {
     "model_module": "@jupyter-widgets/controls",
     "model_module_version": "1.5.0",
     "model_name": "IntSliderModel",
     "state": {
      "_dom_classes": [],
      "_model_module": "@jupyter-widgets/controls",
      "_model_module_version": "1.5.0",
      "_model_name": "IntSliderModel",
      "_view_count": null,
      "_view_module": "@jupyter-widgets/controls",
      "_view_module_version": "1.5.0",
      "_view_name": "IntSliderView",
      "continuous_update": true,
      "description": "antall_kast",
      "description_tooltip": null,
      "disabled": false,
      "layout": "IPY_MODEL_e26bcd8fa3d04fb9a6d526cf3b47c834",
      "max": 10000,
      "min": 1,
      "orientation": "horizontal",
      "readout": true,
      "readout_format": "d",
      "step": 1,
      "style": "IPY_MODEL_5b4be9b23d68460587754910c7ac89a6",
      "value": 1834
     }
    },
    "3db035267981477891605add15434d1f": {
     "model_module": "@jupyter-widgets/controls",
     "model_module_version": "1.5.0",
     "model_name": "VBoxModel",
     "state": {
      "_dom_classes": [
       "widget-interact"
      ],
      "_model_module": "@jupyter-widgets/controls",
      "_model_module_version": "1.5.0",
      "_model_name": "VBoxModel",
      "_view_count": null,
      "_view_module": "@jupyter-widgets/controls",
      "_view_module_version": "1.5.0",
      "_view_name": "VBoxView",
      "box_style": "",
      "children": [
       "IPY_MODEL_2c837e1a5b1d4395b169f0ebf4f2dfe7",
       "IPY_MODEL_613e8fef9b7945ef8fc4c031b4e9ae40",
       "IPY_MODEL_ee1a1cae407a40c38eb7f4166601e52d"
      ],
      "layout": "IPY_MODEL_d212a30ea2fe49cab987ef1bea19283d"
     }
    },
    "5b4be9b23d68460587754910c7ac89a6": {
     "model_module": "@jupyter-widgets/controls",
     "model_module_version": "1.5.0",
     "model_name": "SliderStyleModel",
     "state": {
      "_model_module": "@jupyter-widgets/controls",
      "_model_module_version": "1.5.0",
      "_model_name": "SliderStyleModel",
      "_view_count": null,
      "_view_module": "@jupyter-widgets/base",
      "_view_module_version": "1.2.0",
      "_view_name": "StyleView",
      "description_width": "",
      "handle_color": null
     }
    },
    "613e8fef9b7945ef8fc4c031b4e9ae40": {
     "model_module": "@jupyter-widgets/controls",
     "model_module_version": "1.5.0",
     "model_name": "ButtonModel",
     "state": {
      "_dom_classes": [],
      "_model_module": "@jupyter-widgets/controls",
      "_model_module_version": "1.5.0",
      "_model_name": "ButtonModel",
      "_view_count": null,
      "_view_module": "@jupyter-widgets/controls",
      "_view_module_version": "1.5.0",
      "_view_name": "ButtonView",
      "button_style": "",
      "description": "Run Interact",
      "disabled": true,
      "icon": "",
      "layout": "IPY_MODEL_e6852915cf2a45f09e94f845d7e60025",
      "style": "IPY_MODEL_b21ad01f75234e91af33cbf70f89a42a",
      "tooltip": ""
     }
    },
    "b21ad01f75234e91af33cbf70f89a42a": {
     "model_module": "@jupyter-widgets/controls",
     "model_module_version": "1.5.0",
     "model_name": "ButtonStyleModel",
     "state": {
      "_model_module": "@jupyter-widgets/controls",
      "_model_module_version": "1.5.0",
      "_model_name": "ButtonStyleModel",
      "_view_count": null,
      "_view_module": "@jupyter-widgets/base",
      "_view_module_version": "1.2.0",
      "_view_name": "StyleView",
      "button_color": null,
      "font_weight": ""
     }
    },
    "d212a30ea2fe49cab987ef1bea19283d": {
     "model_module": "@jupyter-widgets/base",
     "model_module_version": "1.2.0",
     "model_name": "LayoutModel",
     "state": {
      "_model_module": "@jupyter-widgets/base",
      "_model_module_version": "1.2.0",
      "_model_name": "LayoutModel",
      "_view_count": null,
      "_view_module": "@jupyter-widgets/base",
      "_view_module_version": "1.2.0",
      "_view_name": "LayoutView",
      "align_content": null,
      "align_items": null,
      "align_self": null,
      "border": null,
      "bottom": null,
      "display": null,
      "flex": null,
      "flex_flow": null,
      "grid_area": null,
      "grid_auto_columns": null,
      "grid_auto_flow": null,
      "grid_auto_rows": null,
      "grid_column": null,
      "grid_gap": null,
      "grid_row": null,
      "grid_template_areas": null,
      "grid_template_columns": null,
      "grid_template_rows": null,
      "height": null,
      "justify_content": null,
      "justify_items": null,
      "left": null,
      "margin": null,
      "max_height": null,
      "max_width": null,
      "min_height": null,
      "min_width": null,
      "object_fit": null,
      "object_position": null,
      "order": null,
      "overflow": null,
      "overflow_x": null,
      "overflow_y": null,
      "padding": null,
      "right": null,
      "top": null,
      "visibility": null,
      "width": null
     }
    },
    "e26bcd8fa3d04fb9a6d526cf3b47c834": {
     "model_module": "@jupyter-widgets/base",
     "model_module_version": "1.2.0",
     "model_name": "LayoutModel",
     "state": {
      "_model_module": "@jupyter-widgets/base",
      "_model_module_version": "1.2.0",
      "_model_name": "LayoutModel",
      "_view_count": null,
      "_view_module": "@jupyter-widgets/base",
      "_view_module_version": "1.2.0",
      "_view_name": "LayoutView",
      "align_content": null,
      "align_items": null,
      "align_self": null,
      "border": null,
      "bottom": null,
      "display": null,
      "flex": null,
      "flex_flow": null,
      "grid_area": null,
      "grid_auto_columns": null,
      "grid_auto_flow": null,
      "grid_auto_rows": null,
      "grid_column": null,
      "grid_gap": null,
      "grid_row": null,
      "grid_template_areas": null,
      "grid_template_columns": null,
      "grid_template_rows": null,
      "height": null,
      "justify_content": null,
      "justify_items": null,
      "left": null,
      "margin": null,
      "max_height": null,
      "max_width": null,
      "min_height": null,
      "min_width": null,
      "object_fit": null,
      "object_position": null,
      "order": null,
      "overflow": null,
      "overflow_x": null,
      "overflow_y": null,
      "padding": null,
      "right": null,
      "top": null,
      "visibility": null,
      "width": null
     }
    },
    "e6852915cf2a45f09e94f845d7e60025": {
     "model_module": "@jupyter-widgets/base",
     "model_module_version": "1.2.0",
     "model_name": "LayoutModel",
     "state": {
      "_model_module": "@jupyter-widgets/base",
      "_model_module_version": "1.2.0",
      "_model_name": "LayoutModel",
      "_view_count": null,
      "_view_module": "@jupyter-widgets/base",
      "_view_module_version": "1.2.0",
      "_view_name": "LayoutView",
      "align_content": null,
      "align_items": null,
      "align_self": null,
      "border": null,
      "bottom": null,
      "display": null,
      "flex": null,
      "flex_flow": null,
      "grid_area": null,
      "grid_auto_columns": null,
      "grid_auto_flow": null,
      "grid_auto_rows": null,
      "grid_column": null,
      "grid_gap": null,
      "grid_row": null,
      "grid_template_areas": null,
      "grid_template_columns": null,
      "grid_template_rows": null,
      "height": null,
      "justify_content": null,
      "justify_items": null,
      "left": null,
      "margin": null,
      "max_height": null,
      "max_width": null,
      "min_height": null,
      "min_width": null,
      "object_fit": null,
      "object_position": null,
      "order": null,
      "overflow": null,
      "overflow_x": null,
      "overflow_y": null,
      "padding": null,
      "right": null,
      "top": null,
      "visibility": null,
      "width": null
     }
    },
    "ee1a1cae407a40c38eb7f4166601e52d": {
     "model_module": "@jupyter-widgets/output",
     "model_module_version": "1.0.0",
     "model_name": "OutputModel",
     "state": {
      "_dom_classes": [],
      "_model_module": "@jupyter-widgets/output",
      "_model_module_version": "1.0.0",
      "_model_name": "OutputModel",
      "_view_count": null,
      "_view_module": "@jupyter-widgets/output",
      "_view_module_version": "1.0.0",
      "_view_name": "OutputView",
      "layout": "IPY_MODEL_f901738880a8410a939da2133866ea08",
      "msg_id": "47a044cf15b64eb6c90ba7d466f89cfb",
      "outputs": [
       {
        "name": "stdout",
        "output_type": "stream",
        "text": [
         "Antall kast: 1834\n",
         "Antall treff: 1408\n",
         "Estimert sannsynlighet: 0.7677208287895311\n",
         "Estimert pi: 3.0708833151581243\n"
        ]
       }
      ]
     }
    },
    "f901738880a8410a939da2133866ea08": {
     "model_module": "@jupyter-widgets/base",
     "model_module_version": "1.2.0",
     "model_name": "LayoutModel",
     "state": {
      "_model_module": "@jupyter-widgets/base",
      "_model_module_version": "1.2.0",
      "_model_name": "LayoutModel",
      "_view_count": null,
      "_view_module": "@jupyter-widgets/base",
      "_view_module_version": "1.2.0",
      "_view_name": "LayoutView",
      "align_content": null,
      "align_items": null,
      "align_self": null,
      "border": null,
      "bottom": null,
      "display": null,
      "flex": null,
      "flex_flow": null,
      "grid_area": null,
      "grid_auto_columns": null,
      "grid_auto_flow": null,
      "grid_auto_rows": null,
      "grid_column": null,
      "grid_gap": null,
      "grid_row": null,
      "grid_template_areas": null,
      "grid_template_columns": null,
      "grid_template_rows": null,
      "height": null,
      "justify_content": null,
      "justify_items": null,
      "left": null,
      "margin": null,
      "max_height": null,
      "max_width": null,
      "min_height": null,
      "min_width": null,
      "object_fit": null,
      "object_position": null,
      "order": null,
      "overflow": null,
      "overflow_x": null,
      "overflow_y": null,
      "padding": null,
      "right": null,
      "top": null,
      "visibility": null,
      "width": null
     }
    }
   }
  }
 },
 "nbformat": 4,
 "nbformat_minor": 1
}
